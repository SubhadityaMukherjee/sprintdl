{
 "cells": [
  {
   "cell_type": "code",
   "execution_count": 1,
   "id": "approved-england",
   "metadata": {
    "execution": {
     "iopub.execute_input": "2021-05-15T05:20:41.430732Z",
     "iopub.status.busy": "2021-05-15T05:20:41.430543Z",
     "iopub.status.idle": "2021-05-15T05:20:41.601192Z",
     "shell.execute_reply": "2021-05-15T05:20:41.600744Z",
     "shell.execute_reply.started": "2021-05-15T05:20:41.430695Z"
    }
   },
   "outputs": [],
   "source": [
    "%load_ext autoreload\n",
    "%autoreload 2\n",
    "\n",
    "%matplotlib inline\n",
    "\n",
    "import sys\n",
    "sys.path.append(\"../\")"
   ]
  },
  {
   "cell_type": "code",
   "execution_count": 2,
   "id": "centered-wyoming",
   "metadata": {
    "execution": {
     "iopub.execute_input": "2021-05-15T05:20:41.601963Z",
     "iopub.status.busy": "2021-05-15T05:20:41.601856Z",
     "iopub.status.idle": "2021-05-15T05:20:44.244211Z",
     "shell.execute_reply": "2021-05-15T05:20:44.243769Z",
     "shell.execute_reply.started": "2021-05-15T05:20:41.601949Z"
    }
   },
   "outputs": [],
   "source": [
    "from sprintdl.main import *\n",
    "from sprintdl.nets import *"
   ]
  },
  {
   "cell_type": "code",
   "execution_count": 3,
   "id": "consolidated-workstation",
   "metadata": {
    "execution": {
     "iopub.execute_input": "2021-05-15T05:20:44.245015Z",
     "iopub.status.busy": "2021-05-15T05:20:44.244886Z",
     "iopub.status.idle": "2021-05-15T05:20:44.253090Z",
     "shell.execute_reply": "2021-05-15T05:20:44.252762Z",
     "shell.execute_reply.started": "2021-05-15T05:20:44.245001Z"
    }
   },
   "outputs": [],
   "source": [
    "device = torch.device('cuda',0)\n",
    "from torch.nn import init\n",
    "import torch\n",
    "import math"
   ]
  },
  {
   "cell_type": "markdown",
   "id": "american-destruction",
   "metadata": {},
   "source": [
    "# Define required"
   ]
  },
  {
   "cell_type": "code",
   "execution_count": 4,
   "id": "bizarre-prescription",
   "metadata": {
    "execution": {
     "iopub.execute_input": "2021-05-15T05:20:44.253903Z",
     "iopub.status.busy": "2021-05-15T05:20:44.253766Z",
     "iopub.status.idle": "2021-05-15T05:20:44.262482Z",
     "shell.execute_reply": "2021-05-15T05:20:44.262142Z",
     "shell.execute_reply.started": "2021-05-15T05:20:44.253866Z"
    }
   },
   "outputs": [],
   "source": [
    "# x_train,y_train,x_valid,y_valid = get_mnist(\"/media/hdd/Datasets/imagenette2-160.tgz\")"
   ]
  },
  {
   "cell_type": "code",
   "execution_count": 5,
   "id": "dimensional-riding",
   "metadata": {
    "execution": {
     "iopub.execute_input": "2021-05-15T05:20:44.263137Z",
     "iopub.status.busy": "2021-05-15T05:20:44.263023Z",
     "iopub.status.idle": "2021-05-15T05:20:44.271222Z",
     "shell.execute_reply": "2021-05-15T05:20:44.270779Z",
     "shell.execute_reply.started": "2021-05-15T05:20:44.263121Z"
    }
   },
   "outputs": [],
   "source": [
    "fpath = Path(\"/media/hdd/Datasets/imagenette2-160/\")\n",
    "\n",
    "tfms = [make_rgb, ResizeFixed(128), to_byte_tensor, to_float_tensor]\n",
    "bs = 256"
   ]
  },
  {
   "cell_type": "markdown",
   "id": "finite-ceramic",
   "metadata": {},
   "source": [
    "# Define model and data"
   ]
  },
  {
   "cell_type": "code",
   "execution_count": 6,
   "id": "split-chick",
   "metadata": {
    "execution": {
     "iopub.execute_input": "2021-05-15T05:20:44.271964Z",
     "iopub.status.busy": "2021-05-15T05:20:44.271824Z",
     "iopub.status.idle": "2021-05-15T05:20:44.282875Z",
     "shell.execute_reply": "2021-05-15T05:20:44.282374Z",
     "shell.execute_reply.started": "2021-05-15T05:20:44.271932Z"
    }
   },
   "outputs": [],
   "source": [
    "def prev_pow_2(x): return 2**math.floor(math.log2(x))\n",
    "\n",
    "def get_cnn_layers(data, nfs, layer, **kwargs):\n",
    "    def f(ni, nf, stride=2): return layer(ni, nf, 3, stride=stride, **kwargs)\n",
    "    l1 = data.c_in\n",
    "    l2 = prev_pow_2(l1*3*3)\n",
    "    layers =  [f(l1  , l2  , stride=1),\n",
    "               f(l2  , l2*2, stride=2),\n",
    "               f(l2*2, l2*4, stride=2)]\n",
    "    nfs = [l2*4] + nfs\n",
    "    layers += [f(nfs[i], nfs[i+1]) for i in range(len(nfs)-1)]\n",
    "    layers += [nn.AdaptiveAvgPool2d(1), Lambda(flatten), \n",
    "               nn.Linear(nfs[-1], data.c_out)]\n",
    "    return layers\n",
    "\n",
    "def get_cnn_model(data, nfs, layer, **kwargs):\n",
    "    return nn.Sequential(*get_cnn_layers(data, nfs, layer, **kwargs))\n",
    "\n",
    "def get_learner(nfs, data, lr, layer, loss_func=F.cross_entropy,\n",
    "                cb_funcs=None, opt_func=sgd_opt, **kwargs):\n",
    "    model = get_cnn_model(data, nfs, layer, **kwargs)\n",
    "    init_cnn(model)\n",
    "    return Learner(model, data, loss_func, lr=lr, cb_funcs=cb_funcs, opt_func=opt_func)"
   ]
  },
  {
   "cell_type": "code",
   "execution_count": 17,
   "id": "distinct-picking",
   "metadata": {
    "execution": {
     "iopub.execute_input": "2021-05-15T05:22:04.715917Z",
     "iopub.status.busy": "2021-05-15T05:22:04.715647Z",
     "iopub.status.idle": "2021-05-15T05:22:04.728964Z",
     "shell.execute_reply": "2021-05-15T05:22:04.728423Z",
     "shell.execute_reply.started": "2021-05-15T05:22:04.715885Z"
    }
   },
   "outputs": [],
   "source": [
    "nfs = [64,64,128,256]\n",
    "# sched = combine_scheds([0.3, 0.7], [sched_cos(0.3, 0.6), sched_cos(0.6, 0.2)]) \n",
    "# sched = combine_scheds([0.3, 0.7], [sched_cos(.1,.3), sched_cos(.3, 0.05)])\n",
    "# mnist_view = view_tfm(1,28,28)\n",
    "\n",
    "lr = 1e-2\n",
    "pct_start = 0.5\n",
    "phases = create_phases(pct_start)\n",
    "sched_lr  = combine_scheds(phases, cos_1cycle_anneal(lr/10., lr, lr/1e5))\n",
    "sched_mom = combine_scheds(phases, cos_1cycle_anneal(0.95, 0.85, 0.95))\n",
    "\n",
    "cbfs = [\n",
    "    partial(AvgStatsCallback,accuracy),\n",
    "    partial(ParamScheduler, 'lr', sched_lr),\n",
    "    partial(ParamScheduler, 'mom', sched_mom),\n",
    "        partial(BatchTransformXCallback, norm_imagenette),\n",
    "    ProgressCallback,\n",
    "    Recorder,\n",
    "#     MixUp,\n",
    "       partial(CudaCallback, device)]\n",
    "\n",
    "loss_func=LabelSmoothingCrossEntropy()\n",
    "arch = partial(xresnet18, c_out=10)\n",
    "epochs = 5\n",
    "lr = .4\n",
    "# opt_func = partial(sgd_mom_opt, wd=0.01)\n",
    "opt_func = adam_opt(mom=0.9, mom_sqr=0.99, eps=1e-6, wd=1e-2)\n",
    "# opt_func = lamb"
   ]
  },
  {
   "cell_type": "markdown",
   "id": "relevant-venue",
   "metadata": {},
   "source": [
    "# Actual process"
   ]
  },
  {
   "cell_type": "code",
   "execution_count": 18,
   "id": "specified-connecticut",
   "metadata": {
    "execution": {
     "iopub.execute_input": "2021-05-15T05:22:05.185188Z",
     "iopub.status.busy": "2021-05-15T05:22:05.184653Z",
     "iopub.status.idle": "2021-05-15T05:22:05.266376Z",
     "shell.execute_reply": "2021-05-15T05:22:05.265932Z",
     "shell.execute_reply.started": "2021-05-15T05:22:05.185126Z"
    }
   },
   "outputs": [],
   "source": [
    "il = ImageList.from_files(fpath, tfms=tfms)"
   ]
  },
  {
   "cell_type": "code",
   "execution_count": 19,
   "id": "heavy-warehouse",
   "metadata": {
    "execution": {
     "iopub.execute_input": "2021-05-15T05:22:05.416985Z",
     "iopub.status.busy": "2021-05-15T05:22:05.416445Z",
     "iopub.status.idle": "2021-05-15T05:22:05.442257Z",
     "shell.execute_reply": "2021-05-15T05:22:05.441180Z",
     "shell.execute_reply.started": "2021-05-15T05:22:05.416922Z"
    }
   },
   "outputs": [
    {
     "data": {
      "text/plain": [
       "ImageList (13394 items)\n",
       "[PosixPath('/media/hdd/Datasets/imagenette2-160/train/n03394916/n03394916_17985.JPEG'), PosixPath('/media/hdd/Datasets/imagenette2-160/train/n03394916/n03394916_42703.JPEG'), PosixPath('/media/hdd/Datasets/imagenette2-160/train/n03394916/n03394916_38263.JPEG'), PosixPath('/media/hdd/Datasets/imagenette2-160/train/n03394916/n03394916_47924.JPEG'), PosixPath('/media/hdd/Datasets/imagenette2-160/train/n03394916/n03394916_21327.JPEG'), PosixPath('/media/hdd/Datasets/imagenette2-160/train/n03394916/n03394916_29698.JPEG'), PosixPath('/media/hdd/Datasets/imagenette2-160/train/n03394916/n03394916_30099.JPEG'), PosixPath('/media/hdd/Datasets/imagenette2-160/train/n03394916/n03394916_28717.JPEG'), PosixPath('/media/hdd/Datasets/imagenette2-160/train/n03394916/n03394916_6976.JPEG'), PosixPath('/media/hdd/Datasets/imagenette2-160/train/n03394916/n03394916_33083.JPEG')...]\n",
       "Path: /media/hdd/Datasets/imagenette2-160"
      ]
     },
     "execution_count": 19,
     "metadata": {},
     "output_type": "execute_result"
    }
   ],
   "source": [
    "il"
   ]
  },
  {
   "cell_type": "code",
   "execution_count": 20,
   "id": "subjective-montana",
   "metadata": {
    "execution": {
     "iopub.execute_input": "2021-05-15T05:22:05.697732Z",
     "iopub.status.busy": "2021-05-15T05:22:05.697023Z",
     "iopub.status.idle": "2021-05-15T05:22:05.773315Z",
     "shell.execute_reply": "2021-05-15T05:22:05.772989Z",
     "shell.execute_reply.started": "2021-05-15T05:22:05.697642Z"
    }
   },
   "outputs": [],
   "source": [
    "sd = SplitData.split_by_func(il, partial(grandparent_splitter, valid_name='val'))\n",
    "ll = label_by_func(sd, parent_labeler, proc_y=CategoryProcessor())"
   ]
  },
  {
   "cell_type": "code",
   "execution_count": 21,
   "id": "numeric-thesaurus",
   "metadata": {
    "execution": {
     "iopub.execute_input": "2021-05-15T05:22:05.872954Z",
     "iopub.status.busy": "2021-05-15T05:22:05.872417Z",
     "iopub.status.idle": "2021-05-15T05:22:05.892943Z",
     "shell.execute_reply": "2021-05-15T05:22:05.892311Z",
     "shell.execute_reply.started": "2021-05-15T05:22:05.872891Z"
    }
   },
   "outputs": [
    {
     "data": {
      "text/plain": [
       "SplitData\n",
       "Train: LabeledData\n",
       "x: ImageList (9469 items)\n",
       "[PosixPath('/media/hdd/Datasets/imagenette2-160/train/n03394916/n03394916_17985.JPEG'), PosixPath('/media/hdd/Datasets/imagenette2-160/train/n03394916/n03394916_42703.JPEG'), PosixPath('/media/hdd/Datasets/imagenette2-160/train/n03394916/n03394916_38263.JPEG'), PosixPath('/media/hdd/Datasets/imagenette2-160/train/n03394916/n03394916_47924.JPEG'), PosixPath('/media/hdd/Datasets/imagenette2-160/train/n03394916/n03394916_21327.JPEG'), PosixPath('/media/hdd/Datasets/imagenette2-160/train/n03394916/n03394916_29698.JPEG'), PosixPath('/media/hdd/Datasets/imagenette2-160/train/n03394916/n03394916_30099.JPEG'), PosixPath('/media/hdd/Datasets/imagenette2-160/train/n03394916/n03394916_28717.JPEG'), PosixPath('/media/hdd/Datasets/imagenette2-160/train/n03394916/n03394916_6976.JPEG'), PosixPath('/media/hdd/Datasets/imagenette2-160/train/n03394916/n03394916_33083.JPEG')...]\n",
       "Path: /media/hdd/Datasets/imagenette2-160\n",
       "y:ItemList (9469 items)\n",
       "[0, 0, 0, 0, 0, 0, 0, 0, 0, 0...]\n",
       "Path: /media/hdd/Datasets/imagenette2-160\n",
       "\n",
       "Valid: LabeledData\n",
       "x: ImageList (3925 items)\n",
       "[PosixPath('/media/hdd/Datasets/imagenette2-160/val/n03394916/n03394916_36772.JPEG'), PosixPath('/media/hdd/Datasets/imagenette2-160/val/n03394916/n03394916_30451.JPEG'), PosixPath('/media/hdd/Datasets/imagenette2-160/val/n03394916/n03394916_29611.JPEG'), PosixPath('/media/hdd/Datasets/imagenette2-160/val/n03394916/n03394916_35731.JPEG'), PosixPath('/media/hdd/Datasets/imagenette2-160/val/n03394916/n03394916_44060.JPEG'), PosixPath('/media/hdd/Datasets/imagenette2-160/val/n03394916/n03394916_29142.JPEG'), PosixPath('/media/hdd/Datasets/imagenette2-160/val/n03394916/n03394916_39102.JPEG'), PosixPath('/media/hdd/Datasets/imagenette2-160/val/n03394916/n03394916_33380.JPEG'), PosixPath('/media/hdd/Datasets/imagenette2-160/val/n03394916/n03394916_12430.JPEG'), PosixPath('/media/hdd/Datasets/imagenette2-160/val/n03394916/n03394916_28651.JPEG')...]\n",
       "Path: /media/hdd/Datasets/imagenette2-160\n",
       "y:ItemList (3925 items)\n",
       "[0, 0, 0, 0, 0, 0, 0, 0, 0, 0...]\n",
       "Path: /media/hdd/Datasets/imagenette2-160\n"
      ]
     },
     "execution_count": 21,
     "metadata": {},
     "output_type": "execute_result"
    }
   ],
   "source": [
    "ll"
   ]
  },
  {
   "cell_type": "code",
   "execution_count": 22,
   "id": "labeled-symphony",
   "metadata": {
    "execution": {
     "iopub.execute_input": "2021-05-15T05:22:06.019191Z",
     "iopub.status.busy": "2021-05-15T05:22:06.018658Z",
     "iopub.status.idle": "2021-05-15T05:22:06.043905Z",
     "shell.execute_reply": "2021-05-15T05:22:06.043075Z",
     "shell.execute_reply.started": "2021-05-15T05:22:06.019129Z"
    }
   },
   "outputs": [],
   "source": [
    "data = ll.to_databunch(bs, c_in=3, c_out=10)"
   ]
  },
  {
   "cell_type": "markdown",
   "id": "boring-married",
   "metadata": {},
   "source": [
    "# Training"
   ]
  },
  {
   "cell_type": "code",
   "execution_count": 23,
   "id": "involved-pantyhose",
   "metadata": {
    "execution": {
     "iopub.execute_input": "2021-05-15T05:22:06.769107Z",
     "iopub.status.busy": "2021-05-15T05:22:06.768971Z",
     "iopub.status.idle": "2021-05-15T05:22:06.911887Z",
     "shell.execute_reply": "2021-05-15T05:22:06.911414Z",
     "shell.execute_reply.started": "2021-05-15T05:22:06.769093Z"
    }
   },
   "outputs": [],
   "source": [
    "# learn = get_learner(nfs, data, lr, conv_layer, cb_funcs=cbfs)\n",
    "learn = Learner(arch(), data, loss_func, lr=lr, cb_funcs=cbfs, opt_func=opt_func)"
   ]
  },
  {
   "cell_type": "code",
   "execution_count": 24,
   "id": "incredible-broad",
   "metadata": {
    "execution": {
     "iopub.execute_input": "2021-05-15T05:22:07.011551Z",
     "iopub.status.busy": "2021-05-15T05:22:07.011010Z",
     "iopub.status.idle": "2021-05-15T05:22:07.035287Z",
     "shell.execute_reply": "2021-05-15T05:22:07.034063Z",
     "shell.execute_reply.started": "2021-05-15T05:22:07.011488Z"
    }
   },
   "outputs": [],
   "source": [
    "# model_summary(learn, data)"
   ]
  },
  {
   "cell_type": "code",
   "execution_count": 25,
   "id": "disturbed-knowing",
   "metadata": {
    "execution": {
     "iopub.execute_input": "2021-05-15T05:22:07.374232Z",
     "iopub.status.busy": "2021-05-15T05:22:07.373701Z",
     "iopub.status.idle": "2021-05-15T05:23:00.867427Z",
     "shell.execute_reply": "2021-05-15T05:23:00.866651Z",
     "shell.execute_reply.started": "2021-05-15T05:22:07.374170Z"
    }
   },
   "outputs": [
    {
     "data": {
      "text/html": [
       "\n",
       "    <div>\n",
       "        <style>\n",
       "            /* Turns off some styling */\n",
       "            progress {\n",
       "                /* gets rid of default border in Firefox and Opera. */\n",
       "                border: none;\n",
       "                /* Needs to be in here for Safari polyfill so background images work as expected. */\n",
       "                background-size: auto;\n",
       "            }\n",
       "            .progress-bar-interrupted, .progress-bar-interrupted::-webkit-progress-bar {\n",
       "                background: #F44336;\n",
       "            }\n",
       "        </style>\n",
       "      <progress value='0' class='' max='5' style='width:300px; height:20px; vertical-align: middle;'></progress>\n",
       "      \n",
       "    </div>\n",
       "    \n"
      ],
      "text/plain": [
       "<IPython.core.display.HTML object>"
      ]
     },
     "metadata": {},
     "output_type": "display_data"
    },
    {
     "data": {
      "text/html": [
       "<table border=\"1\" class=\"dataframe\">\n",
       "  <thead>\n",
       "    <tr style=\"text-align: left;\">\n",
       "      <th>epoch</th>\n",
       "      <th>train_loss</th>\n",
       "      <th>train_accuracy</th>\n",
       "      <th>valid_loss</th>\n",
       "      <th>valid_accuracy</th>\n",
       "      <th>time</th>\n",
       "    </tr>\n",
       "  </thead>\n",
       "  <tbody>\n",
       "    <tr>\n",
       "      <td>0</td>\n",
       "      <td>1.805770</td>\n",
       "      <td>0.444292</td>\n",
       "      <td>1.724168</td>\n",
       "      <td>0.508280</td>\n",
       "      <td>00:16</td>\n",
       "    </tr>\n",
       "    <tr>\n",
       "      <td>1</td>\n",
       "      <td>1.468069</td>\n",
       "      <td>0.600697</td>\n",
       "      <td>1.832412</td>\n",
       "      <td>0.493758</td>\n",
       "      <td>00:16</td>\n",
       "    </tr>\n",
       "    <tr>\n",
       "      <td>2</td>\n",
       "      <td>1.312098</td>\n",
       "      <td>0.667758</td>\n",
       "      <td>1.422280</td>\n",
       "      <td>0.618344</td>\n",
       "      <td>00:16</td>\n",
       "    </tr>\n",
       "  </tbody>\n",
       "</table>"
      ],
      "text/plain": [
       "<IPython.core.display.HTML object>"
      ]
     },
     "metadata": {},
     "output_type": "display_data"
    },
    {
     "ename": "KeyboardInterrupt",
     "evalue": "",
     "output_type": "error",
     "traceback": [
      "\u001b[0;31m---------------------------------------------------------------------------\u001b[0m",
      "\u001b[0;31mKeyboardInterrupt\u001b[0m                         Traceback (most recent call last)",
      "\u001b[0;32m<ipython-input-25-cec91dca8876>\u001b[0m in \u001b[0;36m<module>\u001b[0;34m\u001b[0m\n\u001b[0;32m----> 1\u001b[0;31m \u001b[0mlearn\u001b[0m\u001b[0;34m.\u001b[0m\u001b[0mfit\u001b[0m\u001b[0;34m(\u001b[0m\u001b[0mepochs\u001b[0m\u001b[0;34m)\u001b[0m\u001b[0;34m\u001b[0m\u001b[0;34m\u001b[0m\u001b[0m\n\u001b[0m",
      "\u001b[0;32m/media/hdd/github/sprintdl/sprintdl/core.py\u001b[0m in \u001b[0;36mfit\u001b[0;34m(self, epochs, cbs, reset_opt)\u001b[0m\n\u001b[1;32m    142\u001b[0m             \u001b[0;32mfor\u001b[0m \u001b[0mepoch\u001b[0m \u001b[0;32min\u001b[0m \u001b[0mrange\u001b[0m\u001b[0;34m(\u001b[0m\u001b[0mepochs\u001b[0m\u001b[0;34m)\u001b[0m\u001b[0;34m:\u001b[0m\u001b[0;34m\u001b[0m\u001b[0;34m\u001b[0m\u001b[0m\n\u001b[1;32m    143\u001b[0m                 \u001b[0;32mif\u001b[0m \u001b[0;32mnot\u001b[0m \u001b[0mself\u001b[0m\u001b[0;34m.\u001b[0m\u001b[0mdo_begin_epoch\u001b[0m\u001b[0;34m(\u001b[0m\u001b[0mepoch\u001b[0m\u001b[0;34m)\u001b[0m\u001b[0;34m:\u001b[0m\u001b[0;34m\u001b[0m\u001b[0;34m\u001b[0m\u001b[0m\n\u001b[0;32m--> 144\u001b[0;31m                     \u001b[0mself\u001b[0m\u001b[0;34m.\u001b[0m\u001b[0mall_batches\u001b[0m\u001b[0;34m(\u001b[0m\u001b[0;34m)\u001b[0m\u001b[0;34m\u001b[0m\u001b[0;34m\u001b[0m\u001b[0m\n\u001b[0m\u001b[1;32m    145\u001b[0m \u001b[0;34m\u001b[0m\u001b[0m\n\u001b[1;32m    146\u001b[0m                 \u001b[0;32mwith\u001b[0m \u001b[0mtorch\u001b[0m\u001b[0;34m.\u001b[0m\u001b[0mno_grad\u001b[0m\u001b[0;34m(\u001b[0m\u001b[0;34m)\u001b[0m\u001b[0;34m:\u001b[0m\u001b[0;34m\u001b[0m\u001b[0;34m\u001b[0m\u001b[0m\n",
      "\u001b[0;32m/media/hdd/github/sprintdl/sprintdl/core.py\u001b[0m in \u001b[0;36mall_batches\u001b[0;34m(self)\u001b[0m\n\u001b[1;32m    121\u001b[0m         \u001b[0;32mtry\u001b[0m\u001b[0;34m:\u001b[0m\u001b[0;34m\u001b[0m\u001b[0;34m\u001b[0m\u001b[0m\n\u001b[1;32m    122\u001b[0m             \u001b[0;32mfor\u001b[0m \u001b[0mi\u001b[0m\u001b[0;34m,\u001b[0m \u001b[0;34m(\u001b[0m\u001b[0mxb\u001b[0m\u001b[0;34m,\u001b[0m \u001b[0myb\u001b[0m\u001b[0;34m)\u001b[0m \u001b[0;32min\u001b[0m \u001b[0menumerate\u001b[0m\u001b[0;34m(\u001b[0m\u001b[0mself\u001b[0m\u001b[0;34m.\u001b[0m\u001b[0mdl\u001b[0m\u001b[0;34m)\u001b[0m\u001b[0;34m:\u001b[0m\u001b[0;34m\u001b[0m\u001b[0;34m\u001b[0m\u001b[0m\n\u001b[0;32m--> 123\u001b[0;31m                 \u001b[0mself\u001b[0m\u001b[0;34m.\u001b[0m\u001b[0mone_batch\u001b[0m\u001b[0;34m(\u001b[0m\u001b[0mi\u001b[0m\u001b[0;34m,\u001b[0m \u001b[0mxb\u001b[0m\u001b[0;34m,\u001b[0m \u001b[0myb\u001b[0m\u001b[0;34m)\u001b[0m\u001b[0;34m\u001b[0m\u001b[0;34m\u001b[0m\u001b[0m\n\u001b[0m\u001b[1;32m    124\u001b[0m         \u001b[0;32mexcept\u001b[0m \u001b[0mCancelEpochException\u001b[0m\u001b[0;34m:\u001b[0m\u001b[0;34m\u001b[0m\u001b[0;34m\u001b[0m\u001b[0m\n\u001b[1;32m    125\u001b[0m             \u001b[0mself\u001b[0m\u001b[0;34m(\u001b[0m\u001b[0;34m\"after_cancel_epoch\"\u001b[0m\u001b[0;34m)\u001b[0m\u001b[0;34m\u001b[0m\u001b[0;34m\u001b[0m\u001b[0m\n",
      "\u001b[0;32m/media/hdd/github/sprintdl/sprintdl/core.py\u001b[0m in \u001b[0;36mone_batch\u001b[0;34m(self, i, xb, yb)\u001b[0m\n\u001b[1;32m    115\u001b[0m             \u001b[0mself\u001b[0m\u001b[0;34m(\u001b[0m\u001b[0;34m\"after_cancel_batch\"\u001b[0m\u001b[0;34m)\u001b[0m\u001b[0;34m\u001b[0m\u001b[0;34m\u001b[0m\u001b[0m\n\u001b[1;32m    116\u001b[0m         \u001b[0;32mfinally\u001b[0m\u001b[0;34m:\u001b[0m\u001b[0;34m\u001b[0m\u001b[0;34m\u001b[0m\u001b[0m\n\u001b[0;32m--> 117\u001b[0;31m             \u001b[0mself\u001b[0m\u001b[0;34m(\u001b[0m\u001b[0;34m\"after_batch\"\u001b[0m\u001b[0;34m)\u001b[0m\u001b[0;34m\u001b[0m\u001b[0;34m\u001b[0m\u001b[0m\n\u001b[0m\u001b[1;32m    118\u001b[0m \u001b[0;34m\u001b[0m\u001b[0m\n\u001b[1;32m    119\u001b[0m     \u001b[0;32mdef\u001b[0m \u001b[0mall_batches\u001b[0m\u001b[0;34m(\u001b[0m\u001b[0mself\u001b[0m\u001b[0;34m)\u001b[0m\u001b[0;34m:\u001b[0m\u001b[0;34m\u001b[0m\u001b[0;34m\u001b[0m\u001b[0m\n",
      "\u001b[0;32m/media/hdd/github/sprintdl/sprintdl/core.py\u001b[0m in \u001b[0;36m__call__\u001b[0;34m(self, cb_name)\u001b[0m\n\u001b[1;32m    177\u001b[0m         \u001b[0;32massert\u001b[0m \u001b[0mcb_name\u001b[0m \u001b[0;32min\u001b[0m \u001b[0mself\u001b[0m\u001b[0;34m.\u001b[0m\u001b[0mALL_CBS\u001b[0m\u001b[0;34m\u001b[0m\u001b[0;34m\u001b[0m\u001b[0m\n\u001b[1;32m    178\u001b[0m         \u001b[0;32mfor\u001b[0m \u001b[0mcb\u001b[0m \u001b[0;32min\u001b[0m \u001b[0msorted\u001b[0m\u001b[0;34m(\u001b[0m\u001b[0mself\u001b[0m\u001b[0;34m.\u001b[0m\u001b[0mcbs\u001b[0m\u001b[0;34m,\u001b[0m \u001b[0mkey\u001b[0m\u001b[0;34m=\u001b[0m\u001b[0;32mlambda\u001b[0m \u001b[0mx\u001b[0m\u001b[0;34m:\u001b[0m \u001b[0mx\u001b[0m\u001b[0;34m.\u001b[0m\u001b[0m_order\u001b[0m\u001b[0;34m)\u001b[0m\u001b[0;34m:\u001b[0m\u001b[0;34m\u001b[0m\u001b[0;34m\u001b[0m\u001b[0m\n\u001b[0;32m--> 179\u001b[0;31m             \u001b[0mres\u001b[0m \u001b[0;34m=\u001b[0m \u001b[0mcb\u001b[0m\u001b[0;34m(\u001b[0m\u001b[0mcb_name\u001b[0m\u001b[0;34m)\u001b[0m \u001b[0;32mand\u001b[0m \u001b[0mres\u001b[0m\u001b[0;34m\u001b[0m\u001b[0;34m\u001b[0m\u001b[0m\n\u001b[0m\u001b[1;32m    180\u001b[0m         \u001b[0;32mreturn\u001b[0m \u001b[0mres\u001b[0m\u001b[0;34m\u001b[0m\u001b[0;34m\u001b[0m\u001b[0m\n\u001b[1;32m    181\u001b[0m \u001b[0;34m\u001b[0m\u001b[0m\n",
      "\u001b[0;32m/media/hdd/github/sprintdl/sprintdl/callbacks.py\u001b[0m in \u001b[0;36m__call__\u001b[0;34m(self, cb_name)\u001b[0m\n\u001b[1;32m     36\u001b[0m     \u001b[0;32mdef\u001b[0m \u001b[0m__call__\u001b[0m\u001b[0;34m(\u001b[0m\u001b[0mself\u001b[0m\u001b[0;34m,\u001b[0m \u001b[0mcb_name\u001b[0m\u001b[0;34m)\u001b[0m\u001b[0;34m:\u001b[0m\u001b[0;34m\u001b[0m\u001b[0;34m\u001b[0m\u001b[0m\n\u001b[1;32m     37\u001b[0m         \u001b[0mf\u001b[0m \u001b[0;34m=\u001b[0m \u001b[0mgetattr\u001b[0m\u001b[0;34m(\u001b[0m\u001b[0mself\u001b[0m\u001b[0;34m,\u001b[0m \u001b[0mcb_name\u001b[0m\u001b[0;34m,\u001b[0m \u001b[0;32mNone\u001b[0m\u001b[0;34m)\u001b[0m\u001b[0;34m\u001b[0m\u001b[0;34m\u001b[0m\u001b[0m\n\u001b[0;32m---> 38\u001b[0;31m         \u001b[0;32mif\u001b[0m \u001b[0mf\u001b[0m \u001b[0;32mand\u001b[0m \u001b[0mf\u001b[0m\u001b[0;34m(\u001b[0m\u001b[0;34m)\u001b[0m\u001b[0;34m:\u001b[0m\u001b[0;34m\u001b[0m\u001b[0;34m\u001b[0m\u001b[0m\n\u001b[0m\u001b[1;32m     39\u001b[0m             \u001b[0;32mreturn\u001b[0m \u001b[0;32mTrue\u001b[0m\u001b[0;34m\u001b[0m\u001b[0;34m\u001b[0m\u001b[0m\n\u001b[1;32m     40\u001b[0m         \u001b[0;32mreturn\u001b[0m \u001b[0;32mFalse\u001b[0m\u001b[0;34m\u001b[0m\u001b[0;34m\u001b[0m\u001b[0m\n",
      "\u001b[0;32m/media/hdd/github/sprintdl/sprintdl/callbacks.py\u001b[0m in \u001b[0;36mafter_batch\u001b[0;34m(self)\u001b[0m\n\u001b[1;32m    156\u001b[0m             \u001b[0;32mreturn\u001b[0m\u001b[0;34m\u001b[0m\u001b[0;34m\u001b[0m\u001b[0m\n\u001b[1;32m    157\u001b[0m         \u001b[0mself\u001b[0m\u001b[0;34m.\u001b[0m\u001b[0mlrs\u001b[0m\u001b[0;34m.\u001b[0m\u001b[0mappend\u001b[0m\u001b[0;34m(\u001b[0m\u001b[0mself\u001b[0m\u001b[0;34m.\u001b[0m\u001b[0mopt\u001b[0m\u001b[0;34m.\u001b[0m\u001b[0mhypers\u001b[0m\u001b[0;34m[\u001b[0m\u001b[0;34m-\u001b[0m\u001b[0;36m1\u001b[0m\u001b[0;34m]\u001b[0m\u001b[0;34m[\u001b[0m\u001b[0;34m\"lr\"\u001b[0m\u001b[0;34m]\u001b[0m\u001b[0;34m)\u001b[0m\u001b[0;34m\u001b[0m\u001b[0;34m\u001b[0m\u001b[0m\n\u001b[0;32m--> 158\u001b[0;31m         \u001b[0mself\u001b[0m\u001b[0;34m.\u001b[0m\u001b[0mlosses\u001b[0m\u001b[0;34m.\u001b[0m\u001b[0mappend\u001b[0m\u001b[0;34m(\u001b[0m\u001b[0mself\u001b[0m\u001b[0;34m.\u001b[0m\u001b[0mloss\u001b[0m\u001b[0;34m.\u001b[0m\u001b[0mdetach\u001b[0m\u001b[0;34m(\u001b[0m\u001b[0;34m)\u001b[0m\u001b[0;34m.\u001b[0m\u001b[0mcpu\u001b[0m\u001b[0;34m(\u001b[0m\u001b[0;34m)\u001b[0m\u001b[0;34m)\u001b[0m\u001b[0;34m\u001b[0m\u001b[0;34m\u001b[0m\u001b[0m\n\u001b[0m\u001b[1;32m    159\u001b[0m \u001b[0;34m\u001b[0m\u001b[0m\n\u001b[1;32m    160\u001b[0m     \u001b[0;32mdef\u001b[0m \u001b[0mplot_lr\u001b[0m\u001b[0;34m(\u001b[0m\u001b[0mself\u001b[0m\u001b[0;34m)\u001b[0m\u001b[0;34m:\u001b[0m\u001b[0;34m\u001b[0m\u001b[0;34m\u001b[0m\u001b[0m\n",
      "\u001b[0;31mKeyboardInterrupt\u001b[0m: "
     ]
    }
   ],
   "source": [
    "learn.fit(epochs)"
   ]
  },
  {
   "cell_type": "code",
   "execution_count": null,
   "id": "confident-bench",
   "metadata": {
    "execution": {
     "iopub.status.busy": "2021-05-15T05:04:33.332429Z",
     "iopub.status.idle": "2021-05-15T05:04:33.332592Z",
     "shell.execute_reply": "2021-05-15T05:04:33.332513Z"
    }
   },
   "outputs": [],
   "source": [
    "# run_with_act_vis(epochs,learn)"
   ]
  },
  {
   "cell_type": "markdown",
   "id": "young-spare",
   "metadata": {},
   "source": [
    "# Digging in"
   ]
  },
  {
   "cell_type": "code",
   "execution_count": 17,
   "id": "chubby-highway",
   "metadata": {
    "execution": {
     "iopub.execute_input": "2021-05-14T12:05:14.708266Z",
     "iopub.status.busy": "2021-05-14T12:05:14.708153Z",
     "iopub.status.idle": "2021-05-14T12:05:14.718139Z",
     "shell.execute_reply": "2021-05-14T12:05:14.717669Z",
     "shell.execute_reply.started": "2021-05-14T12:05:14.708249Z"
    }
   },
   "outputs": [
    {
     "data": {
      "text/plain": [
       "[2.270911624203822, tensor(0.1643, device='cuda:0')]"
      ]
     },
     "execution_count": 17,
     "metadata": {},
     "output_type": "execute_result"
    }
   ],
   "source": [
    "learn.avg_stats.valid_stats.avg_stats"
   ]
  },
  {
   "cell_type": "code",
   "execution_count": 18,
   "id": "south-hotel",
   "metadata": {
    "execution": {
     "iopub.execute_input": "2021-05-14T12:05:14.719137Z",
     "iopub.status.busy": "2021-05-14T12:05:14.718970Z",
     "iopub.status.idle": "2021-05-14T12:05:14.806054Z",
     "shell.execute_reply": "2021-05-14T12:05:14.805573Z",
     "shell.execute_reply.started": "2021-05-14T12:05:14.719115Z"
    }
   },
   "outputs": [
    {
     "data": {
      "image/png": "[encoded data removed]",
      "text/plain": [
       "<Figure size 432x288 with 1 Axes>"
      ]
     },
     "metadata": {
      "needs_background": "light"
     },
     "output_type": "display_data"
    }
   ],
   "source": [
    "learn.recorder.plot_lr()"
   ]
  },
  {
   "cell_type": "code",
   "execution_count": 19,
   "id": "productive-management",
   "metadata": {
    "execution": {
     "iopub.execute_input": "2021-05-14T12:05:14.806947Z",
     "iopub.status.busy": "2021-05-14T12:05:14.806783Z",
     "iopub.status.idle": "2021-05-14T12:05:14.882532Z",
     "shell.execute_reply": "2021-05-14T12:05:14.882051Z",
     "shell.execute_reply.started": "2021-05-14T12:05:14.806925Z"
    }
   },
   "outputs": [
    {
     "data": {
      "image/png": "[encoded data removed]",
      "text/plain": [
       "<Figure size 432x288 with 1 Axes>"
      ]
     },
     "metadata": {
      "needs_background": "light"
     },
     "output_type": "display_data"
    }
   ],
   "source": [
    "learn.recorder.plot_loss()"
   ]
  },
  {
   "cell_type": "code",
   "execution_count": null,
   "id": "intimate-roman",
   "metadata": {},
   "outputs": [],
   "source": []
  },
  {
   "cell_type": "code",
   "execution_count": null,
   "id": "elementary-algorithm",
   "metadata": {},
   "outputs": [],
   "source": []
  },
  {
   "cell_type": "code",
   "execution_count": null,
   "id": "beneficial-contrary",
   "metadata": {},
   "outputs": [],
   "source": []
  },
  {
   "cell_type": "code",
   "execution_count": null,
   "id": "coordinate-little",
   "metadata": {},
   "outputs": [],
   "source": []
  },
  {
   "cell_type": "code",
   "execution_count": null,
   "id": "selected-gamma",
   "metadata": {},
   "outputs": [],
   "source": []
  },
  {
   "cell_type": "code",
   "execution_count": null,
   "id": "extraordinary-lease",
   "metadata": {},
   "outputs": [],
   "source": []
  },
  {
   "cell_type": "code",
   "execution_count": null,
   "id": "israeli-services",
   "metadata": {},
   "outputs": [],
   "source": []
  },
  {
   "cell_type": "code",
   "execution_count": null,
   "id": "opposite-pointer",
   "metadata": {},
   "outputs": [],
   "source": []
  }
 ],
 "metadata": {
  "kernelspec": {
   "display_name": "Python 3",
   "language": "python",
   "name": "python3"
  },
  "language_info": {
   "codemirror_mode": {
    "name": "ipython",
    "version": 3
   },
   "file_extension": ".py",
   "mimetype": "text/x-python",
   "name": "python",
   "nbconvert_exporter": "python",
   "pygments_lexer": "ipython3",
   "version": "3.9.1"
  },
  "toc": {
   "base_numbering": 1,
   "nav_menu": {},
   "number_sections": true,
   "sideBar": true,
   "skip_h1_title": false,
   "title_cell": "Table of Contents",
   "title_sidebar": "Contents",
   "toc_cell": false,
   "toc_position": {},
   "toc_section_display": true,
   "toc_window_display": true
  },
  "varInspector": {
   "cols": {
    "lenName": 16,
    "lenType": 16,
    "lenVar": 40
   },
   "kernels_config": {
    "python": {
     "delete_cmd_postfix": "",
     "delete_cmd_prefix": "del ",
     "library": "var_list.py",
     "varRefreshCmd": "print(var_dic_list())"
    },
    "r": {
     "delete_cmd_postfix": ") ",
     "delete_cmd_prefix": "rm(",
     "library": "var_list.r",
     "varRefreshCmd": "cat(var_dic_list()) "
    }
   },
   "types_to_exclude": [
    "module",
    "function",
    "builtin_function_or_method",
    "instance",
    "_Feature"
   ],
   "window_display": false
  }
 },
 "nbformat": 4,
 "nbformat_minor": 5
}
