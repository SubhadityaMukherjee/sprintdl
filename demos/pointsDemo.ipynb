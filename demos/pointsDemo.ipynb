{
 "cells": [
  {
   "cell_type": "code",
   "execution_count": 1,
   "id": "automated-miracle",
   "metadata": {
    "execution": {
     "iopub.execute_input": "2021-05-19T06:07:59.360086Z",
     "iopub.status.busy": "2021-05-19T06:07:59.359879Z",
     "iopub.status.idle": "2021-05-19T06:07:59.513413Z",
     "shell.execute_reply": "2021-05-19T06:07:59.512982Z",
     "shell.execute_reply.started": "2021-05-19T06:07:59.360010Z"
    }
   },
   "outputs": [],
   "source": [
    "%load_ext autoreload\n",
    "%autoreload 2\n",
    "\n",
    "%matplotlib inline\n",
    "\n",
    "import os\n",
    "os.environ['TORCH_HOME'] = \"/media/hdd/Datasets/\"\n",
    "import sys\n",
    "sys.path.append(\"/media/hdd/github/sprintdl/\")"
   ]
  },
  {
   "cell_type": "code",
   "execution_count": 48,
   "id": "electronic-overview",
   "metadata": {
    "execution": {
     "iopub.execute_input": "2021-05-19T06:13:32.939327Z",
     "iopub.status.busy": "2021-05-19T06:13:32.938798Z",
     "iopub.status.idle": "2021-05-19T06:13:33.227044Z",
     "shell.execute_reply": "2021-05-19T06:13:33.226584Z",
     "shell.execute_reply.started": "2021-05-19T06:13:32.939266Z"
    }
   },
   "outputs": [],
   "source": [
    "from sprintdl.main import *\n",
    "import sprintdl"
   ]
  },
  {
   "cell_type": "code",
   "execution_count": 3,
   "id": "macro-therapist",
   "metadata": {
    "execution": {
     "iopub.execute_input": "2021-05-19T06:08:02.557220Z",
     "iopub.status.busy": "2021-05-19T06:08:02.557059Z",
     "iopub.status.idle": "2021-05-19T06:08:02.568344Z",
     "shell.execute_reply": "2021-05-19T06:08:02.568034Z",
     "shell.execute_reply.started": "2021-05-19T06:08:02.557205Z"
    }
   },
   "outputs": [],
   "source": [
    "device = torch.device('cuda',0)\n",
    "from torch.nn import init\n",
    "import torch\n",
    "import math"
   ]
  },
  {
   "cell_type": "code",
   "execution_count": 4,
   "id": "varied-kennedy",
   "metadata": {
    "execution": {
     "iopub.execute_input": "2021-05-19T06:08:02.569056Z",
     "iopub.status.busy": "2021-05-19T06:08:02.568902Z",
     "iopub.status.idle": "2021-05-19T06:08:02.580947Z",
     "shell.execute_reply": "2021-05-19T06:08:02.580420Z",
     "shell.execute_reply.started": "2021-05-19T06:08:02.569042Z"
    }
   },
   "outputs": [],
   "source": [
    "from sprintdl.models.xresnet import *"
   ]
  },
  {
   "cell_type": "markdown",
   "id": "prerequisite-villa",
   "metadata": {},
   "source": [
    "# Define required"
   ]
  },
  {
   "cell_type": "code",
   "execution_count": 5,
   "id": "adjusted-career",
   "metadata": {
    "execution": {
     "iopub.execute_input": "2021-05-19T06:08:03.388955Z",
     "iopub.status.busy": "2021-05-19T06:08:03.388412Z",
     "iopub.status.idle": "2021-05-19T06:08:03.403192Z",
     "shell.execute_reply": "2021-05-19T06:08:03.402774Z",
     "shell.execute_reply.started": "2021-05-19T06:08:03.388894Z"
    }
   },
   "outputs": [],
   "source": [
    "fpath = Path(\"/media/hdd/Datasets/faceKeypoint/\")\n",
    "\n",
    "train_transform = [\n",
    "#                    A.SmallestMaxSize(max_size=160),\n",
    "#         A.ShiftScaleRotate(shift_limit=0.05, scale_limit=0.05, rotate_limit=15, p=0.5),\n",
    "#         A.RandomCrop(height=128, width=128),\n",
    "        \n",
    "#         A.RGBShift(r_shift_limit=15, g_shift_limit=15, b_shift_limit=15, p=0.5),\n",
    "        A.RandomBrightnessContrast(p=0.5),\n",
    "    ]\n",
    "\n",
    "tfms = [ATransform(train_transform, c_in = 2)]\n",
    "bs = 128"
   ]
  },
  {
   "cell_type": "markdown",
   "id": "mature-frederick",
   "metadata": {},
   "source": [
    "# Actual process"
   ]
  },
  {
   "cell_type": "code",
   "execution_count": 6,
   "id": "present-condition",
   "metadata": {
    "execution": {
     "iopub.execute_input": "2021-05-19T06:08:03.924905Z",
     "iopub.status.busy": "2021-05-19T06:08:03.924368Z",
     "iopub.status.idle": "2021-05-19T06:08:03.943287Z",
     "shell.execute_reply": "2021-05-19T06:08:03.942927Z",
     "shell.execute_reply.started": "2021-05-19T06:08:03.924844Z"
    }
   },
   "outputs": [],
   "source": [
    "import pandas as pd"
   ]
  },
  {
   "cell_type": "code",
   "execution_count": 7,
   "id": "japanese-condition",
   "metadata": {
    "execution": {
     "iopub.execute_input": "2021-05-19T06:08:04.120210Z",
     "iopub.status.busy": "2021-05-19T06:08:04.119722Z",
     "iopub.status.idle": "2021-05-19T06:08:05.623127Z",
     "shell.execute_reply": "2021-05-19T06:08:05.622695Z",
     "shell.execute_reply.started": "2021-05-19T06:08:04.120154Z"
    }
   },
   "outputs": [],
   "source": [
    "df = pd.read_csv(fpath/'training.csv')"
   ]
  },
  {
   "cell_type": "code",
   "execution_count": 8,
   "id": "operating-scotland",
   "metadata": {
    "execution": {
     "iopub.execute_input": "2021-05-19T06:08:05.624002Z",
     "iopub.status.busy": "2021-05-19T06:08:05.623848Z",
     "iopub.status.idle": "2021-05-19T06:08:05.650450Z",
     "shell.execute_reply": "2021-05-19T06:08:05.649922Z",
     "shell.execute_reply.started": "2021-05-19T06:08:05.623965Z"
    }
   },
   "outputs": [
    {
     "data": {
      "text/html": [
       "<div>\n",
       "<style scoped>\n",
       "    .dataframe tbody tr th:only-of-type {\n",
       "        vertical-align: middle;\n",
       "    }\n",
       "\n",
       "    .dataframe tbody tr th {\n",
       "        vertical-align: top;\n",
       "    }\n",
       "\n",
       "    .dataframe thead th {\n",
       "        text-align: right;\n",
       "    }\n",
       "</style>\n",
       "<table border=\"1\" class=\"dataframe\">\n",
       "  <thead>\n",
       "    <tr style=\"text-align: right;\">\n",
       "      <th></th>\n",
       "      <th>left_eye_center_x</th>\n",
       "      <th>left_eye_center_y</th>\n",
       "      <th>right_eye_center_x</th>\n",
       "      <th>right_eye_center_y</th>\n",
       "      <th>left_eye_inner_corner_x</th>\n",
       "      <th>left_eye_inner_corner_y</th>\n",
       "      <th>left_eye_outer_corner_x</th>\n",
       "      <th>left_eye_outer_corner_y</th>\n",
       "      <th>right_eye_inner_corner_x</th>\n",
       "      <th>right_eye_inner_corner_y</th>\n",
       "      <th>...</th>\n",
       "      <th>nose_tip_y</th>\n",
       "      <th>mouth_left_corner_x</th>\n",
       "      <th>mouth_left_corner_y</th>\n",
       "      <th>mouth_right_corner_x</th>\n",
       "      <th>mouth_right_corner_y</th>\n",
       "      <th>mouth_center_top_lip_x</th>\n",
       "      <th>mouth_center_top_lip_y</th>\n",
       "      <th>mouth_center_bottom_lip_x</th>\n",
       "      <th>mouth_center_bottom_lip_y</th>\n",
       "      <th>Image</th>\n",
       "    </tr>\n",
       "  </thead>\n",
       "  <tbody>\n",
       "    <tr>\n",
       "      <th>0</th>\n",
       "      <td>66.033564</td>\n",
       "      <td>39.002274</td>\n",
       "      <td>30.227008</td>\n",
       "      <td>36.421678</td>\n",
       "      <td>59.582075</td>\n",
       "      <td>39.647423</td>\n",
       "      <td>73.130346</td>\n",
       "      <td>39.969997</td>\n",
       "      <td>36.356571</td>\n",
       "      <td>37.389402</td>\n",
       "      <td>...</td>\n",
       "      <td>57.066803</td>\n",
       "      <td>61.195308</td>\n",
       "      <td>79.970165</td>\n",
       "      <td>28.614496</td>\n",
       "      <td>77.388992</td>\n",
       "      <td>43.312602</td>\n",
       "      <td>72.935459</td>\n",
       "      <td>43.130707</td>\n",
       "      <td>84.485774</td>\n",
       "      <td>238 236 237 238 240 240 239 241 241 243 240 23...</td>\n",
       "    </tr>\n",
       "    <tr>\n",
       "      <th>1</th>\n",
       "      <td>64.332936</td>\n",
       "      <td>34.970077</td>\n",
       "      <td>29.949277</td>\n",
       "      <td>33.448715</td>\n",
       "      <td>58.856170</td>\n",
       "      <td>35.274349</td>\n",
       "      <td>70.722723</td>\n",
       "      <td>36.187166</td>\n",
       "      <td>36.034723</td>\n",
       "      <td>34.361532</td>\n",
       "      <td>...</td>\n",
       "      <td>55.660936</td>\n",
       "      <td>56.421447</td>\n",
       "      <td>76.352000</td>\n",
       "      <td>35.122383</td>\n",
       "      <td>76.047660</td>\n",
       "      <td>46.684596</td>\n",
       "      <td>70.266553</td>\n",
       "      <td>45.467915</td>\n",
       "      <td>85.480170</td>\n",
       "      <td>219 215 204 196 204 211 212 200 180 168 178 19...</td>\n",
       "    </tr>\n",
       "  </tbody>\n",
       "</table>\n",
       "<p>2 rows × 31 columns</p>\n",
       "</div>"
      ],
      "text/plain": [
       "   left_eye_center_x  left_eye_center_y  right_eye_center_x  \\\n",
       "0          66.033564          39.002274           30.227008   \n",
       "1          64.332936          34.970077           29.949277   \n",
       "\n",
       "   right_eye_center_y  left_eye_inner_corner_x  left_eye_inner_corner_y  \\\n",
       "0           36.421678                59.582075                39.647423   \n",
       "1           33.448715                58.856170                35.274349   \n",
       "\n",
       "   left_eye_outer_corner_x  left_eye_outer_corner_y  right_eye_inner_corner_x  \\\n",
       "0                73.130346                39.969997                 36.356571   \n",
       "1                70.722723                36.187166                 36.034723   \n",
       "\n",
       "   right_eye_inner_corner_y  ...  nose_tip_y  mouth_left_corner_x  \\\n",
       "0                 37.389402  ...   57.066803            61.195308   \n",
       "1                 34.361532  ...   55.660936            56.421447   \n",
       "\n",
       "   mouth_left_corner_y  mouth_right_corner_x  mouth_right_corner_y  \\\n",
       "0            79.970165             28.614496             77.388992   \n",
       "1            76.352000             35.122383             76.047660   \n",
       "\n",
       "   mouth_center_top_lip_x  mouth_center_top_lip_y  mouth_center_bottom_lip_x  \\\n",
       "0               43.312602               72.935459                  43.130707   \n",
       "1               46.684596               70.266553                  45.467915   \n",
       "\n",
       "   mouth_center_bottom_lip_y  \\\n",
       "0                  84.485774   \n",
       "1                  85.480170   \n",
       "\n",
       "                                               Image  \n",
       "0  238 236 237 238 240 240 239 241 241 243 240 23...  \n",
       "1  219 215 204 196 204 211 212 200 180 168 178 19...  \n",
       "\n",
       "[2 rows x 31 columns]"
      ]
     },
     "execution_count": 8,
     "metadata": {},
     "output_type": "execute_result"
    }
   ],
   "source": [
    "df.head(2)"
   ]
  },
  {
   "cell_type": "code",
   "execution_count": 9,
   "id": "lucky-merchandise",
   "metadata": {
    "execution": {
     "iopub.execute_input": "2021-05-19T06:08:05.651603Z",
     "iopub.status.busy": "2021-05-19T06:08:05.651469Z",
     "iopub.status.idle": "2021-05-19T06:08:05.665554Z",
     "shell.execute_reply": "2021-05-19T06:08:05.665104Z",
     "shell.execute_reply.started": "2021-05-19T06:08:05.651588Z"
    }
   },
   "outputs": [],
   "source": [
    "def get_locs(flname):\n",
    "    index = int(flname.name[:-4])\n",
    "    plist=[]\n",
    "    coords=list(df.loc[index])\n",
    "    for i in range(len(coords)//2):\n",
    "        plist.append([coords[i*2+1],coords[i*2]])\n",
    "    return tensor(plist)"
   ]
  },
  {
   "cell_type": "code",
   "execution_count": 10,
   "id": "specialized-flower",
   "metadata": {
    "execution": {
     "iopub.execute_input": "2021-05-19T06:08:06.142097Z",
     "iopub.status.busy": "2021-05-19T06:08:06.141633Z",
     "iopub.status.idle": "2021-05-19T06:08:06.182477Z",
     "shell.execute_reply": "2021-05-19T06:08:06.182060Z",
     "shell.execute_reply.started": "2021-05-19T06:08:06.142043Z"
    }
   },
   "outputs": [
    {
     "data": {
      "text/plain": [
       "tensor([[37.4975, 65.4759],\n",
       "        [37.9938, 30.4601],\n",
       "        [38.4653, 58.0807],\n",
       "        [39.1353, 72.8687],\n",
       "        [38.9616, 38.0787],\n",
       "        [39.6525, 22.3000],\n",
       "        [29.2928, 56.5432],\n",
       "        [30.6152, 78.5232],\n",
       "        [29.3534, 38.5824],\n",
       "        [31.8727, 14.7483],\n",
       "        [58.4229, 48.0418],\n",
       "        [78.6050, 61.7846],\n",
       "        [78.8908, 33.0484],\n",
       "        [77.4177, 47.4275],\n",
       "        [78.8029, 47.6694]], dtype=torch.float64)"
      ]
     },
     "execution_count": 10,
     "metadata": {},
     "output_type": "execute_result"
    }
   ],
   "source": [
    "get_locs(Path(\"/media/hdd/Datasets/faceKeypoint/trainImages/2246.jpg\"))"
   ]
  },
  {
   "cell_type": "code",
   "execution_count": 11,
   "id": "individual-spirit",
   "metadata": {
    "execution": {
     "iopub.execute_input": "2021-05-19T06:08:07.412321Z",
     "iopub.status.busy": "2021-05-19T06:08:07.411788Z",
     "iopub.status.idle": "2021-05-19T06:08:07.494043Z",
     "shell.execute_reply": "2021-05-19T06:08:07.493629Z",
     "shell.execute_reply.started": "2021-05-19T06:08:07.412260Z"
    }
   },
   "outputs": [],
   "source": [
    "il = ImageList.from_files(fpath, tfms=tfms)"
   ]
  },
  {
   "cell_type": "code",
   "execution_count": 12,
   "id": "statistical-permission",
   "metadata": {
    "execution": {
     "iopub.execute_input": "2021-05-19T06:08:07.624889Z",
     "iopub.status.busy": "2021-05-19T06:08:07.624360Z",
     "iopub.status.idle": "2021-05-19T06:08:07.661308Z",
     "shell.execute_reply": "2021-05-19T06:08:07.660505Z",
     "shell.execute_reply.started": "2021-05-19T06:08:07.624828Z"
    }
   },
   "outputs": [
    {
     "data": {
      "text/plain": [
       "ImageList (7049 items)\n",
       "[PosixPath('/media/hdd/Datasets/faceKeypoint/trainImages/2246.jpg'), PosixPath('/media/hdd/Datasets/faceKeypoint/trainImages/5325.jpg'), PosixPath('/media/hdd/Datasets/faceKeypoint/trainImages/4065.jpg'), PosixPath('/media/hdd/Datasets/faceKeypoint/trainImages/3146.jpg'), PosixPath('/media/hdd/Datasets/faceKeypoint/trainImages/2232.jpg'), PosixPath('/media/hdd/Datasets/faceKeypoint/trainImages/2555.jpg'), PosixPath('/media/hdd/Datasets/faceKeypoint/trainImages/3791.jpg'), PosixPath('/media/hdd/Datasets/faceKeypoint/trainImages/4444.jpg'), PosixPath('/media/hdd/Datasets/faceKeypoint/trainImages/5419.jpg'), PosixPath('/media/hdd/Datasets/faceKeypoint/trainImages/2549.jpg')...]\n",
       "Path: /media/hdd/Datasets/faceKeypoint"
      ]
     },
     "execution_count": 12,
     "metadata": {},
     "output_type": "execute_result"
    }
   ],
   "source": [
    "il"
   ]
  },
  {
   "cell_type": "code",
   "execution_count": 13,
   "id": "comparable-chancellor",
   "metadata": {
    "execution": {
     "iopub.execute_input": "2021-05-19T06:08:07.835800Z",
     "iopub.status.busy": "2021-05-19T06:08:07.835261Z",
     "iopub.status.idle": "2021-05-19T06:08:08.651240Z",
     "shell.execute_reply": "2021-05-19T06:08:08.650713Z",
     "shell.execute_reply.started": "2021-05-19T06:08:07.835739Z"
    }
   },
   "outputs": [],
   "source": [
    "sd = SplitData.split_by_func(il, partial(random_splitter, p_valid = .2))\n",
    "ll = label_by_func(sd, get_locs)"
   ]
  },
  {
   "cell_type": "code",
   "execution_count": 14,
   "id": "confused-circle",
   "metadata": {
    "execution": {
     "iopub.execute_input": "2021-05-19T06:08:08.652307Z",
     "iopub.status.busy": "2021-05-19T06:08:08.652095Z",
     "iopub.status.idle": "2021-05-19T06:08:08.666861Z",
     "shell.execute_reply": "2021-05-19T06:08:08.666474Z",
     "shell.execute_reply.started": "2021-05-19T06:08:08.652267Z"
    }
   },
   "outputs": [],
   "source": [
    "n_classes = 15"
   ]
  },
  {
   "cell_type": "code",
   "execution_count": 15,
   "id": "automotive-rolling",
   "metadata": {
    "execution": {
     "iopub.execute_input": "2021-05-19T06:08:08.962395Z",
     "iopub.status.busy": "2021-05-19T06:08:08.961899Z",
     "iopub.status.idle": "2021-05-19T06:08:08.996532Z",
     "shell.execute_reply": "2021-05-19T06:08:08.995698Z",
     "shell.execute_reply.started": "2021-05-19T06:08:08.962339Z"
    }
   },
   "outputs": [
    {
     "data": {
      "text/plain": [
       "15"
      ]
     },
     "execution_count": 15,
     "metadata": {},
     "output_type": "execute_result"
    }
   ],
   "source": [
    "n_classes"
   ]
  },
  {
   "cell_type": "code",
   "execution_count": 16,
   "id": "electrical-timeline",
   "metadata": {
    "execution": {
     "iopub.execute_input": "2021-05-19T06:08:09.350965Z",
     "iopub.status.busy": "2021-05-19T06:08:09.350391Z",
     "iopub.status.idle": "2021-05-19T06:08:09.384841Z",
     "shell.execute_reply": "2021-05-19T06:08:09.384408Z",
     "shell.execute_reply.started": "2021-05-19T06:08:09.350902Z"
    }
   },
   "outputs": [],
   "source": [
    "data = ll.to_databunch(bs, c_in=3, c_out=n_classes)"
   ]
  },
  {
   "cell_type": "code",
   "execution_count": 17,
   "id": "british-screen",
   "metadata": {
    "execution": {
     "iopub.execute_input": "2021-05-19T06:08:10.382508Z",
     "iopub.status.busy": "2021-05-19T06:08:10.382372Z",
     "iopub.status.idle": "2021-05-19T06:08:10.396592Z",
     "shell.execute_reply": "2021-05-19T06:08:10.396257Z",
     "shell.execute_reply.started": "2021-05-19T06:08:10.382494Z"
    }
   },
   "outputs": [
    {
     "data": {
      "text/plain": [
       "tensor([[37.4975, 65.4759],\n",
       "        [37.9938, 30.4601],\n",
       "        [38.4653, 58.0807],\n",
       "        [39.1353, 72.8687],\n",
       "        [38.9616, 38.0787],\n",
       "        [39.6525, 22.3000],\n",
       "        [29.2928, 56.5432],\n",
       "        [30.6152, 78.5232],\n",
       "        [29.3534, 38.5824],\n",
       "        [31.8727, 14.7483],\n",
       "        [58.4229, 48.0418],\n",
       "        [78.6050, 61.7846],\n",
       "        [78.8908, 33.0484],\n",
       "        [77.4177, 47.4275],\n",
       "        [78.8029, 47.6694]], dtype=torch.float64)"
      ]
     },
     "execution_count": 17,
     "metadata": {},
     "output_type": "execute_result"
    }
   ],
   "source": [
    "data.train_ds.y.items[0]"
   ]
  },
  {
   "cell_type": "code",
   "execution_count": 57,
   "id": "attempted-hampshire",
   "metadata": {
    "execution": {
     "iopub.execute_input": "2021-05-19T06:16:18.667556Z",
     "iopub.status.busy": "2021-05-19T06:16:18.667015Z",
     "iopub.status.idle": "2021-05-19T06:16:18.930030Z",
     "shell.execute_reply": "2021-05-19T06:16:18.929715Z",
     "shell.execute_reply.started": "2021-05-19T06:16:18.667494Z"
    }
   },
   "outputs": [
    {
     "name": "stderr",
     "output_type": "stream",
     "text": [
      "Clipping input data to the valid range for imshow with RGB data ([0..1] for floats or [0..255] for integers).\n",
      "Clipping input data to the valid range for imshow with RGB data ([0..1] for floats or [0..255] for integers).\n",
      "Clipping input data to the valid range for imshow with RGB data ([0..1] for floats or [0..255] for integers).\n",
      "posx and posy should be finite values\n",
      "posx and posy should be finite values\n",
      "posx and posy should be finite values\n",
      "posx and posy should be finite values\n",
      "posx and posy should be finite values\n",
      "posx and posy should be finite values\n",
      "posx and posy should be finite values\n",
      "posx and posy should be finite values\n",
      "posx and posy should be finite values\n",
      "posx and posy should be finite values\n",
      "posx and posy should be finite values\n",
      "posx and posy should be finite values\n",
      "posx and posy should be finite values\n",
      "posx and posy should be finite values\n",
      "posx and posy should be finite values\n",
      "posx and posy should be finite values\n",
      "posx and posy should be finite values\n",
      "posx and posy should be finite values\n",
      "posx and posy should be finite values\n",
      "posx and posy should be finite values\n",
      "posx and posy should be finite values\n",
      "posx and posy should be finite values\n",
      "posx and posy should be finite values\n",
      "posx and posy should be finite values\n",
      "posx and posy should be finite values\n",
      "posx and posy should be finite values\n",
      "posx and posy should be finite values\n",
      "posx and posy should be finite values\n",
      "posx and posy should be finite values\n",
      "posx and posy should be finite values\n",
      "posx and posy should be finite values\n",
      "posx and posy should be finite values\n",
      "posx and posy should be finite values\n",
      "posx and posy should be finite values\n",
      "posx and posy should be finite values\n",
      "posx and posy should be finite values\n",
      "posx and posy should be finite values\n",
      "posx and posy should be finite values\n",
      "posx and posy should be finite values\n",
      "posx and posy should be finite values\n",
      "posx and posy should be finite values\n",
      "posx and posy should be finite values\n",
      "posx and posy should be finite values\n",
      "posx and posy should be finite values\n"
     ]
    },
    {
     "data": {
      "image/png": "[encoded data removed]",
      "text/plain": [
       "<Figure size 720x720 with 3 Axes>"
      ]
     },
     "metadata": {
      "needs_background": "light"
     },
     "output_type": "display_data"
    }
   ],
   "source": [
    "plot_keypoints([x.permute(1,2,0) for x in data.train_ds.x[:3]], data.train_ds.y[:3])"
   ]
  },
  {
   "cell_type": "code",
   "execution_count": 27,
   "id": "metallic-shore",
   "metadata": {
    "execution": {
     "iopub.execute_input": "2021-05-19T06:10:22.927688Z",
     "iopub.status.busy": "2021-05-19T06:10:22.927541Z",
     "iopub.status.idle": "2021-05-19T06:10:23.117944Z",
     "shell.execute_reply": "2021-05-19T06:10:23.117514Z",
     "shell.execute_reply.started": "2021-05-19T06:10:22.927672Z"
    }
   },
   "outputs": [
    {
     "name": "stderr",
     "output_type": "stream",
     "text": [
      "Clipping input data to the valid range for imshow with RGB data ([0..1] for floats or [0..255] for integers).\n",
      "Clipping input data to the valid range for imshow with RGB data ([0..1] for floats or [0..255] for integers).\n",
      "Clipping input data to the valid range for imshow with RGB data ([0..1] for floats or [0..255] for integers).\n",
      "Clipping input data to the valid range for imshow with RGB data ([0..1] for floats or [0..255] for integers).\n"
     ]
    },
    {
     "data": {
      "image/png": "[encoded data removed]",
      "text/plain": [
       "<Figure size 864x216 with 4 Axes>"
      ]
     },
     "metadata": {
      "needs_background": "light"
     },
     "output_type": "display_data"
    }
   ],
   "source": [
    "show_batch(data, 4)"
   ]
  },
  {
   "cell_type": "markdown",
   "id": "rotary-cosmetic",
   "metadata": {},
   "source": [
    "# Training"
   ]
  },
  {
   "cell_type": "code",
   "execution_count": 28,
   "id": "relevant-concrete",
   "metadata": {
    "execution": {
     "iopub.execute_input": "2021-05-19T06:10:32.534081Z",
     "iopub.status.busy": "2021-05-19T06:10:32.533487Z",
     "iopub.status.idle": "2021-05-19T06:10:32.548858Z",
     "shell.execute_reply": "2021-05-19T06:10:32.548411Z",
     "shell.execute_reply.started": "2021-05-19T06:10:32.534017Z"
    }
   },
   "outputs": [],
   "source": [
    "def mseloss(input, target):\n",
    "    target = target.view(target.size(0),-1)\n",
    "    target[torch.isnan(target)] = 0\n",
    "    return nn.MSELoss()(input, target.type(torch.FloatTensor).cuda())"
   ]
  },
  {
   "cell_type": "code",
   "execution_count": 29,
   "id": "revolutionary-termination",
   "metadata": {
    "execution": {
     "iopub.execute_input": "2021-05-19T06:10:33.372498Z",
     "iopub.status.busy": "2021-05-19T06:10:33.372333Z",
     "iopub.status.idle": "2021-05-19T06:10:33.385659Z",
     "shell.execute_reply": "2021-05-19T06:10:33.385182Z",
     "shell.execute_reply.started": "2021-05-19T06:10:33.372471Z"
    }
   },
   "outputs": [],
   "source": [
    "lr = .001\n",
    "pct_start = 0.5\n",
    "phases = create_phases(pct_start)\n",
    "sched_lr  = combine_scheds(phases, cos_1cycle_anneal(lr/10., lr, lr/1e5))\n",
    "sched_mom = combine_scheds(phases, cos_1cycle_anneal(0.95, 0.85, 0.95))\n",
    "\n",
    "cbfs = [\n",
    "    partial(AvgStatsCallback,[mseloss]),\n",
    "    partial(ParamScheduler, 'lr', sched_lr),\n",
    "    partial(ParamScheduler, 'mom', sched_mom),\n",
    "        partial(BatchTransformXCallback, norm_imagenette),\n",
    "    ProgressCallback,\n",
    "    Recorder,\n",
    "#     MixUp,\n",
    "       partial(CudaCallback, device)]\n",
    "opt_func = adam_opt(mom=0.9, mom_sqr=0.99, eps=1e-6, wd=1e-2)"
   ]
  },
  {
   "cell_type": "code",
   "execution_count": 30,
   "id": "breeding-organization",
   "metadata": {
    "execution": {
     "iopub.execute_input": "2021-05-19T06:10:34.724376Z",
     "iopub.status.busy": "2021-05-19T06:10:34.724211Z",
     "iopub.status.idle": "2021-05-19T06:10:34.739565Z",
     "shell.execute_reply": "2021-05-19T06:10:34.739216Z",
     "shell.execute_reply.started": "2021-05-19T06:10:34.724349Z"
    }
   },
   "outputs": [],
   "source": [
    "class Net(nn.Module):\n",
    "    def __init__(self):\n",
    "        super(Net, self).__init__()\n",
    "        self.conv1 = nn.Conv2d(3, 32, kernel_size=5)\n",
    "        self.conv2 = nn.Conv2d(32, 64, kernel_size=3)\n",
    "        self.conv3 = nn.Conv2d(64, 128, kernel_size=3)\n",
    "        self.fc1 = nn.Linear(128, 30) \n",
    "        self.pool = nn.MaxPool2d(2, 2)\n",
    "        self.dropout = nn.Dropout2d(p=0.2)\n",
    "    def forward(self, x):\n",
    "        x = F.relu(self.conv1(x))\n",
    "        x = self.pool(x)\n",
    "        x = F.relu(self.conv2(x))\n",
    "        x = self.pool(x)\n",
    "        x = F.relu(self.conv3(x))\n",
    "        x = self.pool(x)\n",
    "        bs, _, _, _ = x.shape\n",
    "        x = F.adaptive_avg_pool2d(x, 1).reshape(bs, -1)\n",
    "        x = self.dropout(x)\n",
    "        out = self.fc1(x) \n",
    "        return out"
   ]
  },
  {
   "cell_type": "code",
   "execution_count": 31,
   "id": "extraordinary-office",
   "metadata": {
    "execution": {
     "iopub.execute_input": "2021-05-19T06:10:35.990232Z",
     "iopub.status.busy": "2021-05-19T06:10:35.989689Z",
     "iopub.status.idle": "2021-05-19T06:10:36.010543Z",
     "shell.execute_reply": "2021-05-19T06:10:36.010010Z",
     "shell.execute_reply.started": "2021-05-19T06:10:35.990170Z"
    }
   },
   "outputs": [],
   "source": [
    "arch= Net()"
   ]
  },
  {
   "cell_type": "code",
   "execution_count": 32,
   "id": "valid-lawsuit",
   "metadata": {
    "execution": {
     "iopub.execute_input": "2021-05-19T06:10:36.263786Z",
     "iopub.status.busy": "2021-05-19T06:10:36.263247Z",
     "iopub.status.idle": "2021-05-19T06:10:36.281736Z",
     "shell.execute_reply": "2021-05-19T06:10:36.281112Z",
     "shell.execute_reply.started": "2021-05-19T06:10:36.263725Z"
    }
   },
   "outputs": [
    {
     "name": "stdout",
     "output_type": "stream",
     "text": [
      "Total Trainable Params: 98654\n"
     ]
    },
    {
     "data": {
      "text/plain": [
       "98654"
      ]
     },
     "execution_count": 32,
     "metadata": {},
     "output_type": "execute_result"
    }
   ],
   "source": [
    "count_parameters(arch)"
   ]
  },
  {
   "cell_type": "code",
   "execution_count": 33,
   "id": "global-israeli",
   "metadata": {
    "execution": {
     "iopub.execute_input": "2021-05-19T06:10:37.465142Z",
     "iopub.status.busy": "2021-05-19T06:10:37.464379Z",
     "iopub.status.idle": "2021-05-19T06:10:37.500091Z",
     "shell.execute_reply": "2021-05-19T06:10:37.499097Z",
     "shell.execute_reply.started": "2021-05-19T06:10:37.465049Z"
    }
   },
   "outputs": [],
   "source": [
    "learn = None\n",
    "clear_memory()"
   ]
  },
  {
   "cell_type": "code",
   "execution_count": 34,
   "id": "stainless-private",
   "metadata": {
    "execution": {
     "iopub.execute_input": "2021-05-19T06:10:37.811778Z",
     "iopub.status.busy": "2021-05-19T06:10:37.811238Z",
     "iopub.status.idle": "2021-05-19T06:10:37.827073Z",
     "shell.execute_reply": "2021-05-19T06:10:37.826660Z",
     "shell.execute_reply.started": "2021-05-19T06:10:37.811717Z"
    }
   },
   "outputs": [],
   "source": [
    "lr = .0001"
   ]
  },
  {
   "cell_type": "code",
   "execution_count": 35,
   "id": "modular-sheep",
   "metadata": {
    "execution": {
     "iopub.execute_input": "2021-05-19T06:10:38.413477Z",
     "iopub.status.busy": "2021-05-19T06:10:38.413307Z",
     "iopub.status.idle": "2021-05-19T06:10:38.427848Z",
     "shell.execute_reply": "2021-05-19T06:10:38.427493Z",
     "shell.execute_reply.started": "2021-05-19T06:10:38.413450Z"
    }
   },
   "outputs": [],
   "source": [
    "learn = Learner(arch, data,mseloss, lr=lr, cb_funcs=cbfs, opt_func=opt_func)"
   ]
  },
  {
   "cell_type": "code",
   "execution_count": 36,
   "id": "shared-cocktail",
   "metadata": {
    "execution": {
     "iopub.execute_input": "2021-05-19T06:10:38.753628Z",
     "iopub.status.busy": "2021-05-19T06:10:38.753086Z",
     "iopub.status.idle": "2021-05-19T06:10:41.393341Z",
     "shell.execute_reply": "2021-05-19T06:10:41.392852Z",
     "shell.execute_reply.started": "2021-05-19T06:10:38.753567Z"
    }
   },
   "outputs": [
    {
     "data": {
      "text/html": [
       "\n",
       "    <div>\n",
       "        <style>\n",
       "            /* Turns off some styling */\n",
       "            progress {\n",
       "                /* gets rid of default border in Firefox and Opera. */\n",
       "                border: none;\n",
       "                /* Needs to be in here for Safari polyfill so background images work as expected. */\n",
       "                background-size: auto;\n",
       "            }\n",
       "            .progress-bar-interrupted, .progress-bar-interrupted::-webkit-progress-bar {\n",
       "                background: #F44336;\n",
       "            }\n",
       "        </style>\n",
       "      <progress value='0' class='' max='1' style='width:300px; height:20px; vertical-align: middle;'></progress>\n",
       "      \n",
       "    </div>\n",
       "    \n"
      ],
      "text/plain": [
       "<IPython.core.display.HTML object>"
      ]
     },
     "metadata": {},
     "output_type": "display_data"
    },
    {
     "data": {
      "text/html": [
       "<table border=\"1\" class=\"dataframe\">\n",
       "  <thead>\n",
       "    <tr style=\"text-align: left;\">\n",
       "      <th>epoch</th>\n",
       "      <th>train_loss</th>\n",
       "      <th>train_mseloss</th>\n",
       "      <th>valid_loss</th>\n",
       "      <th>valid_mseloss</th>\n",
       "      <th>time</th>\n",
       "    </tr>\n",
       "  </thead>\n",
       "  <tbody>\n",
       "    <tr>\n",
       "      <td>0</td>\n",
       "      <td>893.143594</td>\n",
       "      <td>893.143616</td>\n",
       "      <td>511.587255</td>\n",
       "      <td>511.587280</td>\n",
       "      <td>00:02</td>\n",
       "    </tr>\n",
       "  </tbody>\n",
       "</table>"
      ],
      "text/plain": [
       "<IPython.core.display.HTML object>"
      ]
     },
     "metadata": {},
     "output_type": "display_data"
    }
   ],
   "source": [
    "learn.fit(1)"
   ]
  },
  {
   "cell_type": "code",
   "execution_count": 50,
   "id": "incorporated-poland",
   "metadata": {
    "execution": {
     "iopub.execute_input": "2021-05-19T06:13:46.223331Z",
     "iopub.status.busy": "2021-05-19T06:13:46.223161Z",
     "iopub.status.idle": "2021-05-19T06:14:42.163561Z",
     "shell.execute_reply": "2021-05-19T06:14:42.162977Z",
     "shell.execute_reply.started": "2021-05-19T06:13:46.223303Z"
    }
   },
   "outputs": [
    {
     "data": {
      "text/html": [
       "\n",
       "    <div>\n",
       "        <style>\n",
       "            /* Turns off some styling */\n",
       "            progress {\n",
       "                /* gets rid of default border in Firefox and Opera. */\n",
       "                border: none;\n",
       "                /* Needs to be in here for Safari polyfill so background images work as expected. */\n",
       "                background-size: auto;\n",
       "            }\n",
       "            .progress-bar-interrupted, .progress-bar-interrupted::-webkit-progress-bar {\n",
       "                background: #F44336;\n",
       "            }\n",
       "        </style>\n",
       "      <progress value='0' class='' max='20' style='width:300px; height:20px; vertical-align: middle;'></progress>\n",
       "      \n",
       "    </div>\n",
       "    \n"
      ],
      "text/plain": [
       "<IPython.core.display.HTML object>"
      ]
     },
     "metadata": {},
     "output_type": "display_data"
    },
    {
     "data": {
      "text/html": [
       "<table border=\"1\" class=\"dataframe\">\n",
       "  <thead>\n",
       "    <tr style=\"text-align: left;\">\n",
       "      <th>epoch</th>\n",
       "      <th>train_loss</th>\n",
       "      <th>train_mseloss</th>\n",
       "      <th>valid_loss</th>\n",
       "      <th>valid_mseloss</th>\n",
       "      <th>time</th>\n",
       "    </tr>\n",
       "  </thead>\n",
       "  <tbody>\n",
       "    <tr>\n",
       "      <td>0</td>\n",
       "      <td>528.652180</td>\n",
       "      <td>528.652161</td>\n",
       "      <td>494.496064</td>\n",
       "      <td>494.496063</td>\n",
       "      <td>00:02</td>\n",
       "    </tr>\n",
       "    <tr>\n",
       "      <td>1</td>\n",
       "      <td>518.877847</td>\n",
       "      <td>518.877869</td>\n",
       "      <td>487.253455</td>\n",
       "      <td>487.253479</td>\n",
       "      <td>00:02</td>\n",
       "    </tr>\n",
       "    <tr>\n",
       "      <td>2</td>\n",
       "      <td>513.576601</td>\n",
       "      <td>513.576599</td>\n",
       "      <td>481.620626</td>\n",
       "      <td>481.620636</td>\n",
       "      <td>00:02</td>\n",
       "    </tr>\n",
       "    <tr>\n",
       "      <td>3</td>\n",
       "      <td>496.661210</td>\n",
       "      <td>496.661224</td>\n",
       "      <td>470.823609</td>\n",
       "      <td>470.823608</td>\n",
       "      <td>00:02</td>\n",
       "    </tr>\n",
       "    <tr>\n",
       "      <td>4</td>\n",
       "      <td>476.653870</td>\n",
       "      <td>476.653870</td>\n",
       "      <td>453.366865</td>\n",
       "      <td>453.366882</td>\n",
       "      <td>00:02</td>\n",
       "    </tr>\n",
       "    <tr>\n",
       "      <td>5</td>\n",
       "      <td>470.407829</td>\n",
       "      <td>470.407837</td>\n",
       "      <td>460.514433</td>\n",
       "      <td>460.514435</td>\n",
       "      <td>00:02</td>\n",
       "    </tr>\n",
       "    <tr>\n",
       "      <td>6</td>\n",
       "      <td>454.945240</td>\n",
       "      <td>454.945251</td>\n",
       "      <td>438.784159</td>\n",
       "      <td>438.784180</td>\n",
       "      <td>00:02</td>\n",
       "    </tr>\n",
       "    <tr>\n",
       "      <td>7</td>\n",
       "      <td>447.832607</td>\n",
       "      <td>447.832611</td>\n",
       "      <td>422.353831</td>\n",
       "      <td>422.353851</td>\n",
       "      <td>00:03</td>\n",
       "    </tr>\n",
       "    <tr>\n",
       "      <td>8</td>\n",
       "      <td>429.784786</td>\n",
       "      <td>429.784790</td>\n",
       "      <td>410.972621</td>\n",
       "      <td>410.972626</td>\n",
       "      <td>00:03</td>\n",
       "    </tr>\n",
       "    <tr>\n",
       "      <td>9</td>\n",
       "      <td>420.065792</td>\n",
       "      <td>420.065796</td>\n",
       "      <td>402.435269</td>\n",
       "      <td>402.435272</td>\n",
       "      <td>00:03</td>\n",
       "    </tr>\n",
       "    <tr>\n",
       "      <td>10</td>\n",
       "      <td>409.167349</td>\n",
       "      <td>409.167358</td>\n",
       "      <td>394.829120</td>\n",
       "      <td>394.829132</td>\n",
       "      <td>00:02</td>\n",
       "    </tr>\n",
       "    <tr>\n",
       "      <td>11</td>\n",
       "      <td>396.299155</td>\n",
       "      <td>396.299164</td>\n",
       "      <td>381.500044</td>\n",
       "      <td>381.500061</td>\n",
       "      <td>00:02</td>\n",
       "    </tr>\n",
       "    <tr>\n",
       "      <td>12</td>\n",
       "      <td>384.347198</td>\n",
       "      <td>384.347198</td>\n",
       "      <td>370.862841</td>\n",
       "      <td>370.862854</td>\n",
       "      <td>00:02</td>\n",
       "    </tr>\n",
       "    <tr>\n",
       "      <td>13</td>\n",
       "      <td>377.575845</td>\n",
       "      <td>377.575836</td>\n",
       "      <td>361.427506</td>\n",
       "      <td>361.427521</td>\n",
       "      <td>00:02</td>\n",
       "    </tr>\n",
       "    <tr>\n",
       "      <td>14</td>\n",
       "      <td>373.088190</td>\n",
       "      <td>373.088196</td>\n",
       "      <td>366.238650</td>\n",
       "      <td>366.238647</td>\n",
       "      <td>00:02</td>\n",
       "    </tr>\n",
       "    <tr>\n",
       "      <td>15</td>\n",
       "      <td>368.992082</td>\n",
       "      <td>368.992096</td>\n",
       "      <td>362.243658</td>\n",
       "      <td>362.243652</td>\n",
       "      <td>00:02</td>\n",
       "    </tr>\n",
       "    <tr>\n",
       "      <td>16</td>\n",
       "      <td>365.953314</td>\n",
       "      <td>365.953308</td>\n",
       "      <td>349.383310</td>\n",
       "      <td>349.383331</td>\n",
       "      <td>00:02</td>\n",
       "    </tr>\n",
       "    <tr>\n",
       "      <td>17</td>\n",
       "      <td>364.482540</td>\n",
       "      <td>364.482544</td>\n",
       "      <td>354.339464</td>\n",
       "      <td>354.339478</td>\n",
       "      <td>00:02</td>\n",
       "    </tr>\n",
       "    <tr>\n",
       "      <td>18</td>\n",
       "      <td>361.770952</td>\n",
       "      <td>361.770966</td>\n",
       "      <td>355.632085</td>\n",
       "      <td>355.632080</td>\n",
       "      <td>00:02</td>\n",
       "    </tr>\n",
       "    <tr>\n",
       "      <td>19</td>\n",
       "      <td>363.596263</td>\n",
       "      <td>363.596252</td>\n",
       "      <td>355.863672</td>\n",
       "      <td>355.863678</td>\n",
       "      <td>00:02</td>\n",
       "    </tr>\n",
       "  </tbody>\n",
       "</table>"
      ],
      "text/plain": [
       "<IPython.core.display.HTML object>"
      ]
     },
     "metadata": {},
     "output_type": "display_data"
    }
   ],
   "source": [
    "learn.fit(20)"
   ]
  },
  {
   "cell_type": "code",
   "execution_count": 51,
   "id": "historical-twins",
   "metadata": {
    "execution": {
     "iopub.execute_input": "2021-05-19T06:14:42.164900Z",
     "iopub.status.busy": "2021-05-19T06:14:42.164726Z",
     "iopub.status.idle": "2021-05-19T06:14:42.288879Z",
     "shell.execute_reply": "2021-05-19T06:14:42.288289Z",
     "shell.execute_reply.started": "2021-05-19T06:14:42.164882Z"
    }
   },
   "outputs": [
    {
     "data": {
      "image/png": "[encoded data removed]",
      "text/plain": [
       "<Figure size 432x288 with 1 Axes>"
      ]
     },
     "metadata": {
      "needs_background": "light"
     },
     "output_type": "display_data"
    }
   ],
   "source": [
    "learn.recorder.plot_loss()"
   ]
  },
  {
   "cell_type": "code",
   "execution_count": 52,
   "id": "surrounded-chancellor",
   "metadata": {
    "execution": {
     "iopub.execute_input": "2021-05-19T06:14:42.289938Z",
     "iopub.status.busy": "2021-05-19T06:14:42.289797Z",
     "iopub.status.idle": "2021-05-19T06:14:42.306620Z",
     "shell.execute_reply": "2021-05-19T06:14:42.306091Z",
     "shell.execute_reply.started": "2021-05-19T06:14:42.289921Z"
    }
   },
   "outputs": [
    {
     "name": "stdout",
     "output_type": "stream",
     "text": [
      "Saved at /media/hdd/Datasets/faceKeypoint/models/pointsTry\n"
     ]
    },
    {
     "data": {
      "text/plain": [
       "PosixPath('/media/hdd/Datasets/faceKeypoint/models/pointsTry')"
      ]
     },
     "execution_count": 52,
     "metadata": {},
     "output_type": "execute_result"
    }
   ],
   "source": [
    "save_model(learn, \"pointsTry\",Path(\"/media/hdd/Datasets/faceKeypoint/\"))"
   ]
  },
  {
   "cell_type": "code",
   "execution_count": 55,
   "id": "atmospheric-airport",
   "metadata": {
    "execution": {
     "iopub.execute_input": "2021-05-19T06:16:00.324373Z",
     "iopub.status.busy": "2021-05-19T06:16:00.323879Z",
     "iopub.status.idle": "2021-05-19T06:16:00.369634Z",
     "shell.execute_reply": "2021-05-19T06:16:00.369171Z",
     "shell.execute_reply.started": "2021-05-19T06:16:00.324315Z"
    }
   },
   "outputs": [],
   "source": [
    "pred= predict_image(learn, \"/media/hdd/Datasets/faceKeypoint/trainImages/2246.jpg\")"
   ]
  },
  {
   "cell_type": "code",
   "execution_count": 56,
   "id": "associate-making",
   "metadata": {
    "execution": {
     "iopub.execute_input": "2021-05-19T06:16:01.755886Z",
     "iopub.status.busy": "2021-05-19T06:16:01.755336Z",
     "iopub.status.idle": "2021-05-19T06:16:01.842693Z",
     "shell.execute_reply": "2021-05-19T06:16:01.842086Z",
     "shell.execute_reply.started": "2021-05-19T06:16:01.755824Z"
    }
   },
   "outputs": [
    {
     "data": {
      "image/png": "[encoded data removed]",
      "text/plain": [
       "<Figure size 720x720 with 1 Axes>"
      ]
     },
     "metadata": {
      "needs_background": "light"
     },
     "output_type": "display_data"
    }
   ],
   "source": [
    "plot_keypoints([sprintdl.aug.open_image(\"/media/hdd/Datasets/faceKeypoint/trainImages/2246.jpg\", to_tensor=True, perm =(1,2,0) )], [pred])"
   ]
  },
  {
   "cell_type": "code",
   "execution_count": null,
   "id": "acknowledged-google",
   "metadata": {},
   "outputs": [],
   "source": []
  }
 ],
 "metadata": {
  "kernelspec": {
   "display_name": "Python 3",
   "language": "python",
   "name": "python3"
  },
  "language_info": {
   "codemirror_mode": {
    "name": "ipython",
    "version": 3
   },
   "file_extension": ".py",
   "mimetype": "text/x-python",
   "name": "python",
   "nbconvert_exporter": "python",
   "pygments_lexer": "ipython3",
   "version": "3.9.1"
  },
  "toc": {
   "base_numbering": 1,
   "nav_menu": {},
   "number_sections": true,
   "sideBar": true,
   "skip_h1_title": false,
   "title_cell": "Table of Contents",
   "title_sidebar": "Contents",
   "toc_cell": false,
   "toc_position": {},
   "toc_section_display": true,
   "toc_window_display": true
  },
  "varInspector": {
   "cols": {
    "lenName": 16,
    "lenType": 16,
    "lenVar": 40
   },
   "kernels_config": {
    "python": {
     "delete_cmd_postfix": "",
     "delete_cmd_prefix": "del ",
     "library": "var_list.py",
     "varRefreshCmd": "print(var_dic_list())"
    },
    "r": {
     "delete_cmd_postfix": ") ",
     "delete_cmd_prefix": "rm(",
     "library": "var_list.r",
     "varRefreshCmd": "cat(var_dic_list()) "
    }
   },
   "types_to_exclude": [
    "module",
    "function",
    "builtin_function_or_method",
    "instance",
    "_Feature"
   ],
   "window_display": false
  }
 },
 "nbformat": 4,
 "nbformat_minor": 5
}
