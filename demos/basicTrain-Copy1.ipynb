{
 "cells": [
  {
   "cell_type": "code",
   "execution_count": 5,
   "id": "promotional-renewal",
   "metadata": {
    "execution": {
     "iopub.execute_input": "2021-05-18T06:03:58.818173Z",
     "iopub.status.busy": "2021-05-18T06:03:58.817985Z",
     "iopub.status.idle": "2021-05-18T06:03:59.000579Z",
     "shell.execute_reply": "2021-05-18T06:03:59.000150Z",
     "shell.execute_reply.started": "2021-05-18T06:03:58.818152Z"
    }
   },
   "outputs": [],
   "source": [
    "%load_ext autoreload\n",
    "%autoreload 2\n",
    "\n",
    "%matplotlib inline\n",
    "\n",
    "import sys\n",
    "sys.path.append(\"../\")"
   ]
  },
  {
   "cell_type": "code",
   "execution_count": 6,
   "id": "forty-embassy",
   "metadata": {
    "execution": {
     "iopub.execute_input": "2021-05-18T06:03:59.004978Z",
     "iopub.status.busy": "2021-05-18T06:03:59.004785Z",
     "iopub.status.idle": "2021-05-18T06:04:02.203311Z",
     "shell.execute_reply": "2021-05-18T06:04:02.202880Z",
     "shell.execute_reply.started": "2021-05-18T06:03:59.004955Z"
    }
   },
   "outputs": [],
   "source": [
    "from sprintdl.main import *\n",
    "from sprintdl.models.xresnet import *"
   ]
  },
  {
   "cell_type": "code",
   "execution_count": 7,
   "id": "fancy-imagination",
   "metadata": {
    "execution": {
     "iopub.execute_input": "2021-05-18T06:04:02.204015Z",
     "iopub.status.busy": "2021-05-18T06:04:02.203907Z",
     "iopub.status.idle": "2021-05-18T06:04:02.215604Z",
     "shell.execute_reply": "2021-05-18T06:04:02.215173Z",
     "shell.execute_reply.started": "2021-05-18T06:04:02.204002Z"
    }
   },
   "outputs": [],
   "source": [
    "device = torch.device('cuda',0)\n",
    "from torch.nn import init\n",
    "import torch\n",
    "import math"
   ]
  },
  {
   "cell_type": "markdown",
   "id": "pregnant-logic",
   "metadata": {},
   "source": [
    "# Define required"
   ]
  },
  {
   "cell_type": "code",
   "execution_count": 8,
   "id": "italic-collaboration",
   "metadata": {
    "execution": {
     "iopub.execute_input": "2021-05-18T06:04:02.216644Z",
     "iopub.status.busy": "2021-05-18T06:04:02.216474Z",
     "iopub.status.idle": "2021-05-18T06:04:02.228246Z",
     "shell.execute_reply": "2021-05-18T06:04:02.227918Z",
     "shell.execute_reply.started": "2021-05-18T06:04:02.216630Z"
    }
   },
   "outputs": [],
   "source": [
    "fpath = Path(\"/media/hdd/Datasets/imagenette2-160/\")\n",
    "\n",
    "tfms = [make_rgb, ResizeFixed(128), to_byte_tensor, to_float_tensor]\n",
    "bs = 256"
   ]
  },
  {
   "cell_type": "markdown",
   "id": "infrared-reporter",
   "metadata": {},
   "source": [
    "# Define model and data"
   ]
  },
  {
   "cell_type": "code",
   "execution_count": 9,
   "id": "complete-lesbian",
   "metadata": {
    "execution": {
     "iopub.execute_input": "2021-05-18T06:04:02.229086Z",
     "iopub.status.busy": "2021-05-18T06:04:02.228897Z",
     "iopub.status.idle": "2021-05-18T06:04:02.244499Z",
     "shell.execute_reply": "2021-05-18T06:04:02.244060Z",
     "shell.execute_reply.started": "2021-05-18T06:04:02.229071Z"
    }
   },
   "outputs": [],
   "source": [
    "lr = .001\n",
    "pct_start = 0.5\n",
    "phases = create_phases(pct_start)\n",
    "sched_lr  = combine_scheds(phases, cos_1cycle_anneal(lr/10., lr, lr/1e5))\n",
    "sched_mom = combine_scheds(phases, cos_1cycle_anneal(0.95, 0.85, 0.95))\n",
    "\n",
    "cbfs = [\n",
    "    partial(AvgStatsCallback,accuracy),\n",
    "    partial(ParamScheduler, 'lr', sched_lr),\n",
    "    partial(ParamScheduler, 'mom', sched_mom),\n",
    "        partial(BatchTransformXCallback, norm_imagenette),\n",
    "    ProgressCallback,\n",
    "    Recorder,\n",
    "#     MixUp,\n",
    "       partial(CudaCallback, device)]\n",
    "\n",
    "loss_func=LabelSmoothingCrossEntropy()\n",
    "arch = partial(xresnet18, c_out=10)\n",
    "epochs = 1\n",
    "\n",
    "# opt_func = partial(sgd_mom_opt, wd=0.01)\n",
    "opt_func = adam_opt(mom=0.9, mom_sqr=0.99, eps=1e-6, wd=1e-2)\n",
    "# opt_func = lamb"
   ]
  },
  {
   "cell_type": "code",
   "execution_count": 10,
   "id": "religious-robinson",
   "metadata": {
    "execution": {
     "iopub.execute_input": "2021-05-18T06:04:02.245187Z",
     "iopub.status.busy": "2021-05-18T06:04:02.245078Z",
     "iopub.status.idle": "2021-05-18T06:04:02.258313Z",
     "shell.execute_reply": "2021-05-18T06:04:02.257966Z",
     "shell.execute_reply.started": "2021-05-18T06:04:02.245173Z"
    }
   },
   "outputs": [],
   "source": [
    "# Actual process"
   ]
  },
  {
   "cell_type": "code",
   "execution_count": 11,
   "id": "fourth-singing",
   "metadata": {
    "execution": {
     "iopub.execute_input": "2021-05-18T06:04:02.259022Z",
     "iopub.status.busy": "2021-05-18T06:04:02.258910Z",
     "iopub.status.idle": "2021-05-18T06:04:02.360860Z",
     "shell.execute_reply": "2021-05-18T06:04:02.360429Z",
     "shell.execute_reply.started": "2021-05-18T06:04:02.259008Z"
    }
   },
   "outputs": [],
   "source": [
    "il = ImageList.from_files(fpath, tfms=tfms)"
   ]
  },
  {
   "cell_type": "code",
   "execution_count": 12,
   "id": "caroline-stroke",
   "metadata": {
    "execution": {
     "iopub.execute_input": "2021-05-18T06:04:02.361552Z",
     "iopub.status.busy": "2021-05-18T06:04:02.361442Z",
     "iopub.status.idle": "2021-05-18T06:04:02.373842Z",
     "shell.execute_reply": "2021-05-18T06:04:02.373545Z",
     "shell.execute_reply.started": "2021-05-18T06:04:02.361538Z"
    }
   },
   "outputs": [
    {
     "data": {
      "text/plain": [
       "ImageList (13394 items)\n",
       "[PosixPath('/media/hdd/Datasets/imagenette2-160/train/n03394916/n03394916_17985.JPEG'), PosixPath('/media/hdd/Datasets/imagenette2-160/train/n03394916/n03394916_42703.JPEG'), PosixPath('/media/hdd/Datasets/imagenette2-160/train/n03394916/n03394916_38263.JPEG'), PosixPath('/media/hdd/Datasets/imagenette2-160/train/n03394916/n03394916_47924.JPEG'), PosixPath('/media/hdd/Datasets/imagenette2-160/train/n03394916/n03394916_21327.JPEG'), PosixPath('/media/hdd/Datasets/imagenette2-160/train/n03394916/n03394916_29698.JPEG'), PosixPath('/media/hdd/Datasets/imagenette2-160/train/n03394916/n03394916_30099.JPEG'), PosixPath('/media/hdd/Datasets/imagenette2-160/train/n03394916/n03394916_28717.JPEG'), PosixPath('/media/hdd/Datasets/imagenette2-160/train/n03394916/n03394916_6976.JPEG'), PosixPath('/media/hdd/Datasets/imagenette2-160/train/n03394916/n03394916_33083.JPEG')...]\n",
       "Path: /media/hdd/Datasets/imagenette2-160"
      ]
     },
     "execution_count": 12,
     "metadata": {},
     "output_type": "execute_result"
    }
   ],
   "source": [
    "il"
   ]
  },
  {
   "cell_type": "code",
   "execution_count": 13,
   "id": "social-netherlands",
   "metadata": {
    "execution": {
     "iopub.execute_input": "2021-05-18T06:04:02.375059Z",
     "iopub.status.busy": "2021-05-18T06:04:02.374906Z",
     "iopub.status.idle": "2021-05-18T06:04:02.421523Z",
     "shell.execute_reply": "2021-05-18T06:04:02.421082Z",
     "shell.execute_reply.started": "2021-05-18T06:04:02.375045Z"
    }
   },
   "outputs": [],
   "source": [
    "sd = SplitData.split_by_func(il, partial(grandparent_splitter, valid_name='val'))\n",
    "ll = label_by_func(sd, parent_labeler, proc_y=CategoryProcessor())"
   ]
  },
  {
   "cell_type": "code",
   "execution_count": 14,
   "id": "protected-mixer",
   "metadata": {
    "execution": {
     "iopub.execute_input": "2021-05-18T06:04:02.422736Z",
     "iopub.status.busy": "2021-05-18T06:04:02.422615Z",
     "iopub.status.idle": "2021-05-18T06:04:02.435202Z",
     "shell.execute_reply": "2021-05-18T06:04:02.434905Z",
     "shell.execute_reply.started": "2021-05-18T06:04:02.422722Z"
    }
   },
   "outputs": [
    {
     "data": {
      "text/plain": [
       "SplitData\n",
       "Train: LabeledData\n",
       "x: ImageList (9469 items)\n",
       "[PosixPath('/media/hdd/Datasets/imagenette2-160/train/n03394916/n03394916_17985.JPEG'), PosixPath('/media/hdd/Datasets/imagenette2-160/train/n03394916/n03394916_42703.JPEG'), PosixPath('/media/hdd/Datasets/imagenette2-160/train/n03394916/n03394916_38263.JPEG'), PosixPath('/media/hdd/Datasets/imagenette2-160/train/n03394916/n03394916_47924.JPEG'), PosixPath('/media/hdd/Datasets/imagenette2-160/train/n03394916/n03394916_21327.JPEG'), PosixPath('/media/hdd/Datasets/imagenette2-160/train/n03394916/n03394916_29698.JPEG'), PosixPath('/media/hdd/Datasets/imagenette2-160/train/n03394916/n03394916_30099.JPEG'), PosixPath('/media/hdd/Datasets/imagenette2-160/train/n03394916/n03394916_28717.JPEG'), PosixPath('/media/hdd/Datasets/imagenette2-160/train/n03394916/n03394916_6976.JPEG'), PosixPath('/media/hdd/Datasets/imagenette2-160/train/n03394916/n03394916_33083.JPEG')...]\n",
       "Path: /media/hdd/Datasets/imagenette2-160\n",
       "y:ItemList (9469 items)\n",
       "[0, 0, 0, 0, 0, 0, 0, 0, 0, 0...]\n",
       "Path: /media/hdd/Datasets/imagenette2-160\n",
       "\n",
       "Valid: LabeledData\n",
       "x: ImageList (3925 items)\n",
       "[PosixPath('/media/hdd/Datasets/imagenette2-160/val/n03394916/n03394916_36772.JPEG'), PosixPath('/media/hdd/Datasets/imagenette2-160/val/n03394916/n03394916_30451.JPEG'), PosixPath('/media/hdd/Datasets/imagenette2-160/val/n03394916/n03394916_29611.JPEG'), PosixPath('/media/hdd/Datasets/imagenette2-160/val/n03394916/n03394916_35731.JPEG'), PosixPath('/media/hdd/Datasets/imagenette2-160/val/n03394916/n03394916_44060.JPEG'), PosixPath('/media/hdd/Datasets/imagenette2-160/val/n03394916/n03394916_29142.JPEG'), PosixPath('/media/hdd/Datasets/imagenette2-160/val/n03394916/n03394916_39102.JPEG'), PosixPath('/media/hdd/Datasets/imagenette2-160/val/n03394916/n03394916_33380.JPEG'), PosixPath('/media/hdd/Datasets/imagenette2-160/val/n03394916/n03394916_12430.JPEG'), PosixPath('/media/hdd/Datasets/imagenette2-160/val/n03394916/n03394916_28651.JPEG')...]\n",
       "Path: /media/hdd/Datasets/imagenette2-160\n",
       "y:ItemList (3925 items)\n",
       "[0, 0, 0, 0, 0, 0, 0, 0, 0, 0...]\n",
       "Path: /media/hdd/Datasets/imagenette2-160\n"
      ]
     },
     "execution_count": 14,
     "metadata": {},
     "output_type": "execute_result"
    }
   ],
   "source": [
    "ll"
   ]
  },
  {
   "cell_type": "code",
   "execution_count": 15,
   "id": "specific-reliance",
   "metadata": {
    "execution": {
     "iopub.execute_input": "2021-05-18T06:04:02.435906Z",
     "iopub.status.busy": "2021-05-18T06:04:02.435792Z",
     "iopub.status.idle": "2021-05-18T06:04:02.447726Z",
     "shell.execute_reply": "2021-05-18T06:04:02.447129Z",
     "shell.execute_reply.started": "2021-05-18T06:04:02.435891Z"
    }
   },
   "outputs": [],
   "source": [
    "data = ll.to_databunch(bs, c_in=3, c_out=10)"
   ]
  },
  {
   "cell_type": "markdown",
   "id": "capital-moldova",
   "metadata": {},
   "source": [
    "# Training"
   ]
  },
  {
   "cell_type": "code",
   "execution_count": 16,
   "id": "dimensional-belle",
   "metadata": {
    "execution": {
     "iopub.execute_input": "2021-05-18T06:04:02.448733Z",
     "iopub.status.busy": "2021-05-18T06:04:02.448602Z",
     "iopub.status.idle": "2021-05-18T06:04:02.604618Z",
     "shell.execute_reply": "2021-05-18T06:04:02.604176Z",
     "shell.execute_reply.started": "2021-05-18T06:04:02.448717Z"
    }
   },
   "outputs": [],
   "source": [
    "# learn = get_learner(nfs, data, lr, conv_layer, cb_funcs=cbfs)\n",
    "learn = Learner(arch(), data, loss_func, lr=lr, cb_funcs=cbfs, opt_func=opt_func)"
   ]
  },
  {
   "cell_type": "code",
   "execution_count": 17,
   "id": "focal-rescue",
   "metadata": {
    "execution": {
     "iopub.execute_input": "2021-05-18T06:04:02.605282Z",
     "iopub.status.busy": "2021-05-18T06:04:02.605158Z",
     "iopub.status.idle": "2021-05-18T06:04:18.906500Z",
     "shell.execute_reply": "2021-05-18T06:04:18.905995Z",
     "shell.execute_reply.started": "2021-05-18T06:04:02.605268Z"
    }
   },
   "outputs": [
    {
     "data": {
      "text/html": [
       "\n",
       "    <div>\n",
       "        <style>\n",
       "            /* Turns off some styling */\n",
       "            progress {\n",
       "                /* gets rid of default border in Firefox and Opera. */\n",
       "                border: none;\n",
       "                /* Needs to be in here for Safari polyfill so background images work as expected. */\n",
       "                background-size: auto;\n",
       "            }\n",
       "            .progress-bar-interrupted, .progress-bar-interrupted::-webkit-progress-bar {\n",
       "                background: #F44336;\n",
       "            }\n",
       "        </style>\n",
       "      <progress value='0' class='' max='1' style='width:300px; height:20px; vertical-align: middle;'></progress>\n",
       "      \n",
       "    </div>\n",
       "    \n"
      ],
      "text/plain": [
       "<IPython.core.display.HTML object>"
      ]
     },
     "metadata": {},
     "output_type": "display_data"
    },
    {
     "data": {
      "text/html": [
       "<table border=\"1\" class=\"dataframe\">\n",
       "  <thead>\n",
       "    <tr style=\"text-align: left;\">\n",
       "      <th>epoch</th>\n",
       "      <th>train_loss</th>\n",
       "      <th>train_accuracy</th>\n",
       "      <th>valid_loss</th>\n",
       "      <th>valid_accuracy</th>\n",
       "      <th>time</th>\n",
       "    </tr>\n",
       "  </thead>\n",
       "  <tbody>\n",
       "    <tr>\n",
       "      <td>0</td>\n",
       "      <td>1.931581</td>\n",
       "      <td>0.376703</td>\n",
       "      <td>1.697679</td>\n",
       "      <td>0.502420</td>\n",
       "      <td>00:16</td>\n",
       "    </tr>\n",
       "  </tbody>\n",
       "</table>"
      ],
      "text/plain": [
       "<IPython.core.display.HTML object>"
      ]
     },
     "metadata": {},
     "output_type": "display_data"
    }
   ],
   "source": [
    "learn.fit(epochs)"
   ]
  },
  {
   "cell_type": "markdown",
   "id": "catholic-tobacco",
   "metadata": {},
   "source": [
    "# Testing"
   ]
  },
  {
   "cell_type": "code",
   "execution_count": null,
   "id": "olive-formation",
   "metadata": {},
   "outputs": [],
   "source": []
  },
  {
   "cell_type": "code",
   "execution_count": null,
   "id": "julian-winner",
   "metadata": {},
   "outputs": [],
   "source": []
  },
  {
   "cell_type": "code",
   "execution_count": null,
   "id": "hindu-trademark",
   "metadata": {},
   "outputs": [],
   "source": []
  },
  {
   "cell_type": "code",
   "execution_count": null,
   "id": "domestic-deployment",
   "metadata": {},
   "outputs": [],
   "source": []
  },
  {
   "cell_type": "code",
   "execution_count": null,
   "id": "undefined-tanzania",
   "metadata": {},
   "outputs": [],
   "source": []
  },
  {
   "cell_type": "code",
   "execution_count": null,
   "id": "forbidden-hypothetical",
   "metadata": {},
   "outputs": [],
   "source": []
  },
  {
   "cell_type": "code",
   "execution_count": null,
   "id": "hungry-antenna",
   "metadata": {},
   "outputs": [],
   "source": []
  },
  {
   "cell_type": "code",
   "execution_count": null,
   "id": "favorite-prescription",
   "metadata": {},
   "outputs": [],
   "source": []
  }
 ],
 "metadata": {
  "kernelspec": {
   "display_name": "Python 3",
   "language": "python",
   "name": "python3"
  },
  "language_info": {
   "codemirror_mode": {
    "name": "ipython",
    "version": 3
   },
   "file_extension": ".py",
   "mimetype": "text/x-python",
   "name": "python",
   "nbconvert_exporter": "python",
   "pygments_lexer": "ipython3",
   "version": "3.9.1"
  },
  "toc": {
   "base_numbering": 1,
   "nav_menu": {},
   "number_sections": true,
   "sideBar": true,
   "skip_h1_title": false,
   "title_cell": "Table of Contents",
   "title_sidebar": "Contents",
   "toc_cell": false,
   "toc_position": {},
   "toc_section_display": true,
   "toc_window_display": true
  },
  "varInspector": {
   "cols": {
    "lenName": 16,
    "lenType": 16,
    "lenVar": 40
   },
   "kernels_config": {
    "python": {
     "delete_cmd_postfix": "",
     "delete_cmd_prefix": "del ",
     "library": "var_list.py",
     "varRefreshCmd": "print(var_dic_list())"
    },
    "r": {
     "delete_cmd_postfix": ") ",
     "delete_cmd_prefix": "rm(",
     "library": "var_list.r",
     "varRefreshCmd": "cat(var_dic_list()) "
    }
   },
   "types_to_exclude": [
    "module",
    "function",
    "builtin_function_or_method",
    "instance",
    "_Feature"
   ],
   "window_display": false
  }
 },
 "nbformat": 4,
 "nbformat_minor": 5
}
