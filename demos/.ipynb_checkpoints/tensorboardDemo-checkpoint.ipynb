{
 "cells": [
  {
   "cell_type": "code",
   "execution_count": 1,
   "id": "every-switch",
   "metadata": {
    "execution": {
     "iopub.execute_input": "2021-05-17T18:11:44.786293Z",
     "iopub.status.busy": "2021-05-17T18:11:44.786096Z",
     "iopub.status.idle": "2021-05-17T18:11:44.951993Z",
     "shell.execute_reply": "2021-05-17T18:11:44.951682Z",
     "shell.execute_reply.started": "2021-05-17T18:11:44.786243Z"
    }
   },
   "outputs": [],
   "source": [
    "%load_ext autoreload\n",
    "%autoreload 2\n",
    "\n",
    "%matplotlib inline\n",
    "\n",
    "import sys\n",
    "sys.path.append(\"../\")"
   ]
  },
  {
   "cell_type": "code",
   "execution_count": 2,
   "id": "recorded-narrow",
   "metadata": {
    "execution": {
     "iopub.execute_input": "2021-05-17T18:11:44.952760Z",
     "iopub.status.busy": "2021-05-17T18:11:44.952651Z",
     "iopub.status.idle": "2021-05-17T18:11:48.011108Z",
     "shell.execute_reply": "2021-05-17T18:11:48.010663Z",
     "shell.execute_reply.started": "2021-05-17T18:11:44.952746Z"
    }
   },
   "outputs": [],
   "source": [
    "from sprintdl.main import *\n",
    "from sprintdl.models.xresnet import *"
   ]
  },
  {
   "cell_type": "code",
   "execution_count": 3,
   "id": "historical-knowing",
   "metadata": {
    "execution": {
     "iopub.execute_input": "2021-05-17T18:11:48.011753Z",
     "iopub.status.busy": "2021-05-17T18:11:48.011640Z",
     "iopub.status.idle": "2021-05-17T18:11:48.023369Z",
     "shell.execute_reply": "2021-05-17T18:11:48.022934Z",
     "shell.execute_reply.started": "2021-05-17T18:11:48.011739Z"
    }
   },
   "outputs": [],
   "source": [
    "device = torch.device('cuda',0)\n",
    "from torch.nn import init\n",
    "import torch\n",
    "import math"
   ]
  },
  {
   "cell_type": "markdown",
   "id": "lyric-tyler",
   "metadata": {},
   "source": [
    "# Define required"
   ]
  },
  {
   "cell_type": "code",
   "execution_count": 4,
   "id": "reflected-maple",
   "metadata": {
    "execution": {
     "iopub.execute_input": "2021-05-17T18:11:48.024188Z",
     "iopub.status.busy": "2021-05-17T18:11:48.024076Z",
     "iopub.status.idle": "2021-05-17T18:11:48.038172Z",
     "shell.execute_reply": "2021-05-17T18:11:48.037174Z",
     "shell.execute_reply.started": "2021-05-17T18:11:48.024174Z"
    }
   },
   "outputs": [],
   "source": [
    "tfms = [make_rgb, ResizeFixed(128), to_byte_tensor, to_float_tensor]\n",
    "bs = 256\n",
    "\n",
    "# Define model and data\n",
    "\n",
    "lr = 1e-2\n",
    "pct_start = 0.5\n",
    "phases = create_phases(pct_start)\n",
    "sched_lr  = combine_scheds(phases, cos_1cycle_anneal(lr/10., lr, lr/1e5))\n",
    "sched_mom = combine_scheds(phases, cos_1cycle_anneal(0.95, 0.85, 0.95))\n",
    "\n",
    "cbfs = [\n",
    "    partial(AvgStatsCallback,accuracy),\n",
    "    partial(TensorboardCallback,accuracy),\n",
    "    partial(ParamScheduler, 'lr', sched_lr),\n",
    "    partial(ParamScheduler, 'mom', sched_mom),\n",
    "        partial(BatchTransformXCallback, norm_imagenette),\n",
    "    ProgressCallback,\n",
    "    Recorder,\n",
    "       partial(CudaCallback, device)]\n",
    "\n",
    "loss_func=LabelSmoothingCrossEntropy()\n",
    "arch = partial(xresnet18, c_out=10)\n",
    "epochs = 5\n",
    "lr = .4\n",
    "# opt_func = partial(sgd_mom_opt, wd=0.01)\n",
    "opt_func = adam_opt(mom=0.9, mom_sqr=0.99, eps=1e-6, wd=1e-2)\n",
    "# opt_func = lamb"
   ]
  },
  {
   "cell_type": "markdown",
   "id": "working-integral",
   "metadata": {},
   "source": [
    "# Actual process"
   ]
  },
  {
   "cell_type": "code",
   "execution_count": 5,
   "id": "offshore-fitness",
   "metadata": {
    "execution": {
     "iopub.execute_input": "2021-05-17T18:11:48.039274Z",
     "iopub.status.busy": "2021-05-17T18:11:48.039099Z",
     "iopub.status.idle": "2021-05-17T18:11:48.051866Z",
     "shell.execute_reply": "2021-05-17T18:11:48.051363Z",
     "shell.execute_reply.started": "2021-05-17T18:11:48.039253Z"
    }
   },
   "outputs": [],
   "source": [
    "fpath = \"/media/hdd/Datasets/imagewoof2-160/\""
   ]
  },
  {
   "cell_type": "code",
   "execution_count": 6,
   "id": "fallen-brisbane",
   "metadata": {
    "execution": {
     "iopub.execute_input": "2021-05-17T18:11:48.052598Z",
     "iopub.status.busy": "2021-05-17T18:11:48.052489Z",
     "iopub.status.idle": "2021-05-17T18:11:48.149185Z",
     "shell.execute_reply": "2021-05-17T18:11:48.148715Z",
     "shell.execute_reply.started": "2021-05-17T18:11:48.052584Z"
    }
   },
   "outputs": [],
   "source": [
    "il = ImageList.from_files(fpath, tfms=tfms)"
   ]
  },
  {
   "cell_type": "code",
   "execution_count": 7,
   "id": "hired-observation",
   "metadata": {
    "execution": {
     "iopub.execute_input": "2021-05-17T18:11:48.150276Z",
     "iopub.status.busy": "2021-05-17T18:11:48.150158Z",
     "iopub.status.idle": "2021-05-17T18:11:48.163439Z",
     "shell.execute_reply": "2021-05-17T18:11:48.163017Z",
     "shell.execute_reply.started": "2021-05-17T18:11:48.150261Z"
    }
   },
   "outputs": [
    {
     "data": {
      "text/plain": [
       "ImageList (12954 items)\n",
       "[PosixPath('/media/hdd/Datasets/imagewoof2-160/train/n02115641/n02115641_8554.JPEG'), PosixPath('/media/hdd/Datasets/imagewoof2-160/train/n02115641/n02115641_4035.JPEG'), PosixPath('/media/hdd/Datasets/imagewoof2-160/train/n02115641/n02115641_13405.JPEG'), PosixPath('/media/hdd/Datasets/imagewoof2-160/train/n02115641/n02115641_50879.JPEG'), PosixPath('/media/hdd/Datasets/imagewoof2-160/train/n02115641/n02115641_14617.JPEG'), PosixPath('/media/hdd/Datasets/imagewoof2-160/train/n02115641/n02115641_15723.JPEG'), PosixPath('/media/hdd/Datasets/imagewoof2-160/train/n02115641/n02115641_8595.JPEG'), PosixPath('/media/hdd/Datasets/imagewoof2-160/train/n02115641/n02115641_10705.JPEG'), PosixPath('/media/hdd/Datasets/imagewoof2-160/train/n02115641/ILSVRC2012_val_00002786.JPEG'), PosixPath('/media/hdd/Datasets/imagewoof2-160/train/n02115641/n02115641_32024.JPEG')...]\n",
       "Path: /media/hdd/Datasets/imagewoof2-160"
      ]
     },
     "execution_count": 7,
     "metadata": {},
     "output_type": "execute_result"
    }
   ],
   "source": [
    "il"
   ]
  },
  {
   "cell_type": "code",
   "execution_count": 8,
   "id": "vocational-sense",
   "metadata": {
    "execution": {
     "iopub.execute_input": "2021-05-17T18:11:48.164281Z",
     "iopub.status.busy": "2021-05-17T18:11:48.164087Z",
     "iopub.status.idle": "2021-05-17T18:11:48.211407Z",
     "shell.execute_reply": "2021-05-17T18:11:48.210959Z",
     "shell.execute_reply.started": "2021-05-17T18:11:48.164266Z"
    }
   },
   "outputs": [],
   "source": [
    "sd = SplitData.split_by_func(il, partial(grandparent_splitter, valid_name='val'))\n",
    "ll = label_by_func(sd, parent_labeler, proc_y=CategoryProcessor())"
   ]
  },
  {
   "cell_type": "code",
   "execution_count": 9,
   "id": "pending-ballot",
   "metadata": {
    "execution": {
     "iopub.execute_input": "2021-05-17T18:11:48.212039Z",
     "iopub.status.busy": "2021-05-17T18:11:48.211928Z",
     "iopub.status.idle": "2021-05-17T18:11:48.224330Z",
     "shell.execute_reply": "2021-05-17T18:11:48.223793Z",
     "shell.execute_reply.started": "2021-05-17T18:11:48.212025Z"
    }
   },
   "outputs": [
    {
     "data": {
      "text/plain": [
       "SplitData\n",
       "Train: LabeledData\n",
       "x: ImageList (9025 items)\n",
       "[PosixPath('/media/hdd/Datasets/imagewoof2-160/train/n02115641/n02115641_8554.JPEG'), PosixPath('/media/hdd/Datasets/imagewoof2-160/train/n02115641/n02115641_4035.JPEG'), PosixPath('/media/hdd/Datasets/imagewoof2-160/train/n02115641/n02115641_13405.JPEG'), PosixPath('/media/hdd/Datasets/imagewoof2-160/train/n02115641/n02115641_50879.JPEG'), PosixPath('/media/hdd/Datasets/imagewoof2-160/train/n02115641/n02115641_14617.JPEG'), PosixPath('/media/hdd/Datasets/imagewoof2-160/train/n02115641/n02115641_15723.JPEG'), PosixPath('/media/hdd/Datasets/imagewoof2-160/train/n02115641/n02115641_8595.JPEG'), PosixPath('/media/hdd/Datasets/imagewoof2-160/train/n02115641/n02115641_10705.JPEG'), PosixPath('/media/hdd/Datasets/imagewoof2-160/train/n02115641/ILSVRC2012_val_00002786.JPEG'), PosixPath('/media/hdd/Datasets/imagewoof2-160/train/n02115641/n02115641_32024.JPEG')...]\n",
       "Path: /media/hdd/Datasets/imagewoof2-160\n",
       "y:ItemList (9025 items)\n",
       "[0, 0, 0, 0, 0, 0, 0, 0, 0, 0...]\n",
       "Path: /media/hdd/Datasets/imagewoof2-160\n",
       "\n",
       "Valid: LabeledData\n",
       "x: ImageList (3929 items)\n",
       "[PosixPath('/media/hdd/Datasets/imagewoof2-160/val/n02115641/n02115641_7360.JPEG'), PosixPath('/media/hdd/Datasets/imagewoof2-160/val/n02115641/n02115641_9892.JPEG'), PosixPath('/media/hdd/Datasets/imagewoof2-160/val/n02115641/n02115641_38960.JPEG'), PosixPath('/media/hdd/Datasets/imagewoof2-160/val/n02115641/n02115641_27730.JPEG'), PosixPath('/media/hdd/Datasets/imagewoof2-160/val/n02115641/n02115641_2590.JPEG'), PosixPath('/media/hdd/Datasets/imagewoof2-160/val/n02115641/n02115641_18782.JPEG'), PosixPath('/media/hdd/Datasets/imagewoof2-160/val/n02115641/n02115641_18272.JPEG'), PosixPath('/media/hdd/Datasets/imagewoof2-160/val/n02115641/n02115641_4951.JPEG'), PosixPath('/media/hdd/Datasets/imagewoof2-160/val/n02115641/n02115641_3740.JPEG'), PosixPath('/media/hdd/Datasets/imagewoof2-160/val/n02115641/n02115641_12990.JPEG')...]\n",
       "Path: /media/hdd/Datasets/imagewoof2-160\n",
       "y:ItemList (3929 items)\n",
       "[0, 0, 0, 0, 0, 0, 0, 0, 0, 0...]\n",
       "Path: /media/hdd/Datasets/imagewoof2-160\n"
      ]
     },
     "execution_count": 9,
     "metadata": {},
     "output_type": "execute_result"
    }
   ],
   "source": [
    "ll"
   ]
  },
  {
   "cell_type": "code",
   "execution_count": 10,
   "id": "likely-rochester",
   "metadata": {
    "execution": {
     "iopub.execute_input": "2021-05-17T18:11:48.225142Z",
     "iopub.status.busy": "2021-05-17T18:11:48.224972Z",
     "iopub.status.idle": "2021-05-17T18:11:48.236549Z",
     "shell.execute_reply": "2021-05-17T18:11:48.236169Z",
     "shell.execute_reply.started": "2021-05-17T18:11:48.225128Z"
    }
   },
   "outputs": [],
   "source": [
    "data = ll.to_databunch(bs, c_in=3, c_out=10)"
   ]
  },
  {
   "cell_type": "markdown",
   "id": "metropolitan-football",
   "metadata": {},
   "source": [
    "# Training"
   ]
  },
  {
   "cell_type": "code",
   "execution_count": 11,
   "id": "attached-trademark",
   "metadata": {
    "execution": {
     "iopub.execute_input": "2021-05-17T18:11:48.237315Z",
     "iopub.status.busy": "2021-05-17T18:11:48.237143Z",
     "iopub.status.idle": "2021-05-17T18:11:48.391485Z",
     "shell.execute_reply": "2021-05-17T18:11:48.391045Z",
     "shell.execute_reply.started": "2021-05-17T18:11:48.237295Z"
    }
   },
   "outputs": [],
   "source": [
    "# learn = get_learner(nfs, data, lr, conv_layer, cb_funcs=cbfs)\n",
    "learn = Learner(arch(), data, loss_func, lr=lr, cb_funcs=cbfs, opt_func=opt_func)"
   ]
  },
  {
   "cell_type": "code",
   "execution_count": 12,
   "id": "explicit-turkey",
   "metadata": {
    "execution": {
     "iopub.execute_input": "2021-05-17T18:11:48.392131Z",
     "iopub.status.busy": "2021-05-17T18:11:48.392018Z",
     "iopub.status.idle": "2021-05-17T18:12:47.975320Z",
     "shell.execute_reply": "2021-05-17T18:12:47.974666Z",
     "shell.execute_reply.started": "2021-05-17T18:11:48.392117Z"
    }
   },
   "outputs": [
    {
     "data": {
      "text/html": [
       "\n",
       "    <div>\n",
       "        <style>\n",
       "            /* Turns off some styling */\n",
       "            progress {\n",
       "                /* gets rid of default border in Firefox and Opera. */\n",
       "                border: none;\n",
       "                /* Needs to be in here for Safari polyfill so background images work as expected. */\n",
       "                background-size: auto;\n",
       "            }\n",
       "            .progress-bar-interrupted, .progress-bar-interrupted::-webkit-progress-bar {\n",
       "                background: #F44336;\n",
       "            }\n",
       "        </style>\n",
       "      <progress value='0' class='' max='5' style='width:300px; height:20px; vertical-align: middle;'></progress>\n",
       "      \n",
       "    </div>\n",
       "    \n"
      ],
      "text/plain": [
       "<IPython.core.display.HTML object>"
      ]
     },
     "metadata": {},
     "output_type": "display_data"
    },
    {
     "data": {
      "text/html": [
       "<table border=\"1\" class=\"dataframe\">\n",
       "  <thead>\n",
       "    <tr style=\"text-align: left;\">\n",
       "      <th>epoch</th>\n",
       "      <th>train_loss</th>\n",
       "      <th>train_accuracy</th>\n",
       "      <th>valid_loss</th>\n",
       "      <th>valid_accuracy</th>\n",
       "      <th>time</th>\n",
       "    </tr>\n",
       "  </thead>\n",
       "  <tbody>\n",
       "    <tr>\n",
       "      <td>0</td>\n",
       "      <td>2.203822</td>\n",
       "      <td>0.220831</td>\n",
       "      <td>2.401622</td>\n",
       "      <td>0.207177</td>\n",
       "      <td>00:15</td>\n",
       "    </tr>\n",
       "    <tr>\n",
       "      <td>1</td>\n",
       "      <td>2.021712</td>\n",
       "      <td>0.295956</td>\n",
       "      <td>2.986321</td>\n",
       "      <td>0.209977</td>\n",
       "      <td>00:15</td>\n",
       "    </tr>\n",
       "    <tr>\n",
       "      <td>2</td>\n",
       "      <td>1.878780</td>\n",
       "      <td>0.364765</td>\n",
       "      <td>2.158243</td>\n",
       "      <td>0.296513</td>\n",
       "      <td>00:15</td>\n",
       "    </tr>\n",
       "  </tbody>\n",
       "</table>"
      ],
      "text/plain": [
       "<IPython.core.display.HTML object>"
      ]
     },
     "metadata": {},
     "output_type": "display_data"
    },
    {
     "name": "stderr",
     "output_type": "stream",
     "text": [
      "Traceback (most recent call last):\n",
      "  File \"/usr/lib/python3.9/multiprocessing/queues.py\", line 251, in _feed\n",
      "    send_bytes(obj)\n",
      "  File \"/usr/lib/python3.9/multiprocessing/connection.py\", line 205, in send_bytes\n",
      "    self._send_bytes(m[offset:offset + size])\n",
      "  File \"/usr/lib/python3.9/multiprocessing/connection.py\", line 416, in _send_bytes\n",
      "    self._send(header + buf)\n",
      "  File \"/usr/lib/python3.9/multiprocessing/connection.py\", line 373, in _send\n",
      "    n = write(self._handle, buf)\n",
      "BrokenPipeError: [Errno 32] Broken pipe\n"
     ]
    },
    {
     "ename": "KeyboardInterrupt",
     "evalue": "",
     "output_type": "error",
     "traceback": [
      "\u001b[0;31m---------------------------------------------------------------------------\u001b[0m",
      "\u001b[0;31mKeyboardInterrupt\u001b[0m                         Traceback (most recent call last)",
      "\u001b[0;32m<ipython-input-12-cec91dca8876>\u001b[0m in \u001b[0;36m<module>\u001b[0;34m\u001b[0m\n\u001b[0;32m----> 1\u001b[0;31m \u001b[0mlearn\u001b[0m\u001b[0;34m.\u001b[0m\u001b[0mfit\u001b[0m\u001b[0;34m(\u001b[0m\u001b[0mepochs\u001b[0m\u001b[0;34m)\u001b[0m\u001b[0;34m\u001b[0m\u001b[0;34m\u001b[0m\u001b[0m\n\u001b[0m",
      "\u001b[0;32m/media/hdd/github/sprintdl/sprintdl/core.py\u001b[0m in \u001b[0;36mfit\u001b[0;34m(self, epochs, cbs, reset_opt)\u001b[0m\n\u001b[1;32m    161\u001b[0m             \u001b[0;32mfor\u001b[0m \u001b[0mepoch\u001b[0m \u001b[0;32min\u001b[0m \u001b[0mrange\u001b[0m\u001b[0;34m(\u001b[0m\u001b[0mepochs\u001b[0m\u001b[0;34m)\u001b[0m\u001b[0;34m:\u001b[0m\u001b[0;34m\u001b[0m\u001b[0;34m\u001b[0m\u001b[0m\n\u001b[1;32m    162\u001b[0m                 \u001b[0;32mif\u001b[0m \u001b[0;32mnot\u001b[0m \u001b[0mself\u001b[0m\u001b[0;34m.\u001b[0m\u001b[0mdo_begin_epoch\u001b[0m\u001b[0;34m(\u001b[0m\u001b[0mepoch\u001b[0m\u001b[0;34m)\u001b[0m\u001b[0;34m:\u001b[0m\u001b[0;34m\u001b[0m\u001b[0;34m\u001b[0m\u001b[0m\n\u001b[0;32m--> 163\u001b[0;31m                     \u001b[0mself\u001b[0m\u001b[0;34m.\u001b[0m\u001b[0mall_batches\u001b[0m\u001b[0;34m(\u001b[0m\u001b[0;34m)\u001b[0m\u001b[0;34m\u001b[0m\u001b[0;34m\u001b[0m\u001b[0m\n\u001b[0m\u001b[1;32m    164\u001b[0m \u001b[0;34m\u001b[0m\u001b[0m\n\u001b[1;32m    165\u001b[0m                 \u001b[0;32mwith\u001b[0m \u001b[0mtorch\u001b[0m\u001b[0;34m.\u001b[0m\u001b[0mno_grad\u001b[0m\u001b[0;34m(\u001b[0m\u001b[0;34m)\u001b[0m\u001b[0;34m:\u001b[0m\u001b[0;34m\u001b[0m\u001b[0;34m\u001b[0m\u001b[0m\n",
      "\u001b[0;32m/media/hdd/github/sprintdl/sprintdl/core.py\u001b[0m in \u001b[0;36mall_batches\u001b[0;34m(self)\u001b[0m\n\u001b[1;32m    140\u001b[0m         \u001b[0;32mtry\u001b[0m\u001b[0;34m:\u001b[0m\u001b[0;34m\u001b[0m\u001b[0;34m\u001b[0m\u001b[0m\n\u001b[1;32m    141\u001b[0m             \u001b[0;32mfor\u001b[0m \u001b[0mi\u001b[0m\u001b[0;34m,\u001b[0m \u001b[0;34m(\u001b[0m\u001b[0mxb\u001b[0m\u001b[0;34m,\u001b[0m \u001b[0myb\u001b[0m\u001b[0;34m)\u001b[0m \u001b[0;32min\u001b[0m \u001b[0menumerate\u001b[0m\u001b[0;34m(\u001b[0m\u001b[0mself\u001b[0m\u001b[0;34m.\u001b[0m\u001b[0mdl\u001b[0m\u001b[0;34m)\u001b[0m\u001b[0;34m:\u001b[0m\u001b[0;34m\u001b[0m\u001b[0;34m\u001b[0m\u001b[0m\n\u001b[0;32m--> 142\u001b[0;31m                 \u001b[0mself\u001b[0m\u001b[0;34m.\u001b[0m\u001b[0mone_batch\u001b[0m\u001b[0;34m(\u001b[0m\u001b[0mi\u001b[0m\u001b[0;34m,\u001b[0m \u001b[0mxb\u001b[0m\u001b[0;34m,\u001b[0m \u001b[0myb\u001b[0m\u001b[0;34m)\u001b[0m\u001b[0;34m\u001b[0m\u001b[0;34m\u001b[0m\u001b[0m\n\u001b[0m\u001b[1;32m    143\u001b[0m         \u001b[0;32mexcept\u001b[0m \u001b[0mCancelEpochException\u001b[0m\u001b[0;34m:\u001b[0m\u001b[0;34m\u001b[0m\u001b[0;34m\u001b[0m\u001b[0m\n\u001b[1;32m    144\u001b[0m             \u001b[0mself\u001b[0m\u001b[0;34m(\u001b[0m\u001b[0;34m\"after_cancel_epoch\"\u001b[0m\u001b[0;34m)\u001b[0m\u001b[0;34m\u001b[0m\u001b[0;34m\u001b[0m\u001b[0m\n",
      "\u001b[0;32m/media/hdd/github/sprintdl/sprintdl/core.py\u001b[0m in \u001b[0;36mone_batch\u001b[0;34m(self, i, xb, yb)\u001b[0m\n\u001b[1;32m    134\u001b[0m             \u001b[0mself\u001b[0m\u001b[0;34m(\u001b[0m\u001b[0;34m\"after_cancel_batch\"\u001b[0m\u001b[0;34m)\u001b[0m\u001b[0;34m\u001b[0m\u001b[0;34m\u001b[0m\u001b[0m\n\u001b[1;32m    135\u001b[0m         \u001b[0;32mfinally\u001b[0m\u001b[0;34m:\u001b[0m\u001b[0;34m\u001b[0m\u001b[0;34m\u001b[0m\u001b[0m\n\u001b[0;32m--> 136\u001b[0;31m             \u001b[0mself\u001b[0m\u001b[0;34m(\u001b[0m\u001b[0;34m\"after_batch\"\u001b[0m\u001b[0;34m)\u001b[0m\u001b[0;34m\u001b[0m\u001b[0;34m\u001b[0m\u001b[0m\n\u001b[0m\u001b[1;32m    137\u001b[0m \u001b[0;34m\u001b[0m\u001b[0m\n\u001b[1;32m    138\u001b[0m     \u001b[0;32mdef\u001b[0m \u001b[0mall_batches\u001b[0m\u001b[0;34m(\u001b[0m\u001b[0mself\u001b[0m\u001b[0;34m)\u001b[0m\u001b[0;34m:\u001b[0m\u001b[0;34m\u001b[0m\u001b[0;34m\u001b[0m\u001b[0m\n",
      "\u001b[0;32m/media/hdd/github/sprintdl/sprintdl/core.py\u001b[0m in \u001b[0;36m__call__\u001b[0;34m(self, cb_name)\u001b[0m\n\u001b[1;32m    196\u001b[0m         \u001b[0;32massert\u001b[0m \u001b[0mcb_name\u001b[0m \u001b[0;32min\u001b[0m \u001b[0mself\u001b[0m\u001b[0;34m.\u001b[0m\u001b[0mALL_CBS\u001b[0m\u001b[0;34m\u001b[0m\u001b[0;34m\u001b[0m\u001b[0m\n\u001b[1;32m    197\u001b[0m         \u001b[0;32mfor\u001b[0m \u001b[0mcb\u001b[0m \u001b[0;32min\u001b[0m \u001b[0msorted\u001b[0m\u001b[0;34m(\u001b[0m\u001b[0mself\u001b[0m\u001b[0;34m.\u001b[0m\u001b[0mcbs\u001b[0m\u001b[0;34m,\u001b[0m \u001b[0mkey\u001b[0m\u001b[0;34m=\u001b[0m\u001b[0;32mlambda\u001b[0m \u001b[0mx\u001b[0m\u001b[0;34m:\u001b[0m \u001b[0mx\u001b[0m\u001b[0;34m.\u001b[0m\u001b[0m_order\u001b[0m\u001b[0;34m)\u001b[0m\u001b[0;34m:\u001b[0m\u001b[0;34m\u001b[0m\u001b[0;34m\u001b[0m\u001b[0m\n\u001b[0;32m--> 198\u001b[0;31m             \u001b[0mres\u001b[0m \u001b[0;34m=\u001b[0m \u001b[0mcb\u001b[0m\u001b[0;34m(\u001b[0m\u001b[0mcb_name\u001b[0m\u001b[0;34m)\u001b[0m \u001b[0;32mand\u001b[0m \u001b[0mres\u001b[0m\u001b[0;34m\u001b[0m\u001b[0;34m\u001b[0m\u001b[0m\n\u001b[0m\u001b[1;32m    199\u001b[0m         \u001b[0;32mreturn\u001b[0m \u001b[0mres\u001b[0m\u001b[0;34m\u001b[0m\u001b[0;34m\u001b[0m\u001b[0m\n\u001b[1;32m    200\u001b[0m \u001b[0;34m\u001b[0m\u001b[0m\n",
      "\u001b[0;32m/media/hdd/github/sprintdl/sprintdl/callbacks.py\u001b[0m in \u001b[0;36m__call__\u001b[0;34m(self, cb_name)\u001b[0m\n\u001b[1;32m     66\u001b[0m     \u001b[0;32mdef\u001b[0m \u001b[0m__call__\u001b[0m\u001b[0;34m(\u001b[0m\u001b[0mself\u001b[0m\u001b[0;34m,\u001b[0m \u001b[0mcb_name\u001b[0m\u001b[0;34m)\u001b[0m\u001b[0;34m:\u001b[0m\u001b[0;34m\u001b[0m\u001b[0;34m\u001b[0m\u001b[0m\n\u001b[1;32m     67\u001b[0m         \u001b[0mf\u001b[0m \u001b[0;34m=\u001b[0m \u001b[0mgetattr\u001b[0m\u001b[0;34m(\u001b[0m\u001b[0mself\u001b[0m\u001b[0;34m,\u001b[0m \u001b[0mcb_name\u001b[0m\u001b[0;34m,\u001b[0m \u001b[0;32mNone\u001b[0m\u001b[0;34m)\u001b[0m\u001b[0;34m\u001b[0m\u001b[0;34m\u001b[0m\u001b[0m\n\u001b[0;32m---> 68\u001b[0;31m         \u001b[0;32mif\u001b[0m \u001b[0mf\u001b[0m \u001b[0;32mand\u001b[0m \u001b[0mf\u001b[0m\u001b[0;34m(\u001b[0m\u001b[0;34m)\u001b[0m\u001b[0;34m:\u001b[0m\u001b[0;34m\u001b[0m\u001b[0;34m\u001b[0m\u001b[0m\n\u001b[0m\u001b[1;32m     69\u001b[0m             \u001b[0;32mreturn\u001b[0m \u001b[0;32mTrue\u001b[0m\u001b[0;34m\u001b[0m\u001b[0;34m\u001b[0m\u001b[0m\n\u001b[1;32m     70\u001b[0m         \u001b[0;32mreturn\u001b[0m \u001b[0;32mFalse\u001b[0m\u001b[0;34m\u001b[0m\u001b[0;34m\u001b[0m\u001b[0m\n",
      "\u001b[0;32m/media/hdd/github/sprintdl/sprintdl/callbacks.py\u001b[0m in \u001b[0;36mafter_batch\u001b[0;34m(self)\u001b[0m\n\u001b[1;32m    241\u001b[0m             \u001b[0;32mreturn\u001b[0m\u001b[0;34m\u001b[0m\u001b[0;34m\u001b[0m\u001b[0m\n\u001b[1;32m    242\u001b[0m         \u001b[0mself\u001b[0m\u001b[0;34m.\u001b[0m\u001b[0mlrs\u001b[0m\u001b[0;34m.\u001b[0m\u001b[0mappend\u001b[0m\u001b[0;34m(\u001b[0m\u001b[0mself\u001b[0m\u001b[0;34m.\u001b[0m\u001b[0mopt\u001b[0m\u001b[0;34m.\u001b[0m\u001b[0mhypers\u001b[0m\u001b[0;34m[\u001b[0m\u001b[0;34m-\u001b[0m\u001b[0;36m1\u001b[0m\u001b[0;34m]\u001b[0m\u001b[0;34m[\u001b[0m\u001b[0;34m\"lr\"\u001b[0m\u001b[0;34m]\u001b[0m\u001b[0;34m)\u001b[0m\u001b[0;34m\u001b[0m\u001b[0;34m\u001b[0m\u001b[0m\n\u001b[0;32m--> 243\u001b[0;31m         \u001b[0mself\u001b[0m\u001b[0;34m.\u001b[0m\u001b[0mlosses\u001b[0m\u001b[0;34m.\u001b[0m\u001b[0mappend\u001b[0m\u001b[0;34m(\u001b[0m\u001b[0mself\u001b[0m\u001b[0;34m.\u001b[0m\u001b[0mloss\u001b[0m\u001b[0;34m.\u001b[0m\u001b[0mdetach\u001b[0m\u001b[0;34m(\u001b[0m\u001b[0;34m)\u001b[0m\u001b[0;34m.\u001b[0m\u001b[0mcpu\u001b[0m\u001b[0;34m(\u001b[0m\u001b[0;34m)\u001b[0m\u001b[0;34m)\u001b[0m\u001b[0;34m\u001b[0m\u001b[0;34m\u001b[0m\u001b[0m\n\u001b[0m\u001b[1;32m    244\u001b[0m \u001b[0;34m\u001b[0m\u001b[0m\n\u001b[1;32m    245\u001b[0m     \u001b[0;32mdef\u001b[0m \u001b[0mplot_lr\u001b[0m\u001b[0;34m(\u001b[0m\u001b[0mself\u001b[0m\u001b[0;34m)\u001b[0m\u001b[0;34m:\u001b[0m\u001b[0;34m\u001b[0m\u001b[0;34m\u001b[0m\u001b[0m\n",
      "\u001b[0;31mKeyboardInterrupt\u001b[0m: "
     ]
    }
   ],
   "source": [
    "learn.fit(epochs)"
   ]
  },
  {
   "cell_type": "code",
   "execution_count": null,
   "id": "worse-regression",
   "metadata": {},
   "outputs": [],
   "source": []
  }
 ],
 "metadata": {
  "kernelspec": {
   "display_name": "Python 3",
   "language": "python",
   "name": "python3"
  },
  "language_info": {
   "codemirror_mode": {
    "name": "ipython",
    "version": 3
   },
   "file_extension": ".py",
   "mimetype": "text/x-python",
   "name": "python",
   "nbconvert_exporter": "python",
   "pygments_lexer": "ipython3",
   "version": "3.9.1"
  },
  "toc": {
   "base_numbering": 1,
   "nav_menu": {},
   "number_sections": true,
   "sideBar": true,
   "skip_h1_title": false,
   "title_cell": "Table of Contents",
   "title_sidebar": "Contents",
   "toc_cell": false,
   "toc_position": {},
   "toc_section_display": true,
   "toc_window_display": true
  },
  "varInspector": {
   "cols": {
    "lenName": 16,
    "lenType": 16,
    "lenVar": 40
   },
   "kernels_config": {
    "python": {
     "delete_cmd_postfix": "",
     "delete_cmd_prefix": "del ",
     "library": "var_list.py",
     "varRefreshCmd": "print(var_dic_list())"
    },
    "r": {
     "delete_cmd_postfix": ") ",
     "delete_cmd_prefix": "rm(",
     "library": "var_list.r",
     "varRefreshCmd": "cat(var_dic_list()) "
    }
   },
   "types_to_exclude": [
    "module",
    "function",
    "builtin_function_or_method",
    "instance",
    "_Feature"
   ],
   "window_display": false
  }
 },
 "nbformat": 4,
 "nbformat_minor": 5
}
