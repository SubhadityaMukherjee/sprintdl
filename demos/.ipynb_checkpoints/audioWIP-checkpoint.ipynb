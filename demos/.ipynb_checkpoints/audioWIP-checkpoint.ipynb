{
 "cells": [
  {
   "cell_type": "code",
   "execution_count": 1,
   "id": "tribal-salon",
   "metadata": {
    "execution": {
     "iopub.execute_input": "2021-05-17T16:59:04.706626Z",
     "iopub.status.busy": "2021-05-17T16:59:04.706258Z",
     "iopub.status.idle": "2021-05-17T16:59:08.003065Z",
     "shell.execute_reply": "2021-05-17T16:59:08.002633Z",
     "shell.execute_reply.started": "2021-05-17T16:59:04.706565Z"
    }
   },
   "outputs": [],
   "source": [
    "%load_ext autoreload\n",
    "%autoreload 2\n",
    "\n",
    "%matplotlib inline\n",
    "\n",
    "import sys\n",
    "sys.path.append(\"../\")\n",
    "\n",
    "from sprintdl.main import *\n",
    "from sprintdl.models.efficientnet import *\n",
    "from sprintdl.models.xresnet import *\n",
    "\n",
    "device = torch.device('cuda',0)\n",
    "from torch.nn import init\n",
    "import torch\n",
    "import math"
   ]
  },
  {
   "cell_type": "code",
   "execution_count": 2,
   "id": "eleven-whale",
   "metadata": {
    "execution": {
     "iopub.execute_input": "2021-05-17T16:59:08.004714Z",
     "iopub.status.busy": "2021-05-17T16:59:08.004448Z",
     "iopub.status.idle": "2021-05-17T16:59:08.025600Z",
     "shell.execute_reply": "2021-05-17T16:59:08.025179Z",
     "shell.execute_reply.started": "2021-05-17T16:59:08.004692Z"
    }
   },
   "outputs": [],
   "source": [
    "import torchaudio\n",
    "from torchaudio import transforms\n",
    "from IPython.display import Audio\n",
    "AUDIO_EXTS = {str.lower(k) for k,v in mimetypes.types_map.items() if v.startswith('audio/')}"
   ]
  },
  {
   "cell_type": "code",
   "execution_count": 3,
   "id": "mineral-hacker",
   "metadata": {
    "execution": {
     "iopub.execute_input": "2021-05-17T16:59:08.027191Z",
     "iopub.status.busy": "2021-05-17T16:59:08.026924Z",
     "iopub.status.idle": "2021-05-17T16:59:08.040289Z",
     "shell.execute_reply": "2021-05-17T16:59:08.039825Z",
     "shell.execute_reply.started": "2021-05-17T16:59:08.027168Z"
    }
   },
   "outputs": [],
   "source": [
    "class AudioList(ItemList):\n",
    "    @classmethod\n",
    "    def from_files(cls, path, extensions=None, recurse=True, include=None, **kwargs):\n",
    "        if extensions is None: extensions = AUDIO_EXTS\n",
    "        return cls(get_files(path, extensions, recurse=recurse, include=include), path, **kwargs)\n",
    "    \n",
    "    def get(self, fn): \n",
    "        sig, sr = torchaudio.load(fn)\n",
    "        assert sig.size(0) == 1, \"Non-mono audio detected, mono only supported for now.\"\n",
    "        return (sig, sr)"
   ]
  },
  {
   "cell_type": "code",
   "execution_count": 4,
   "id": "static-biography",
   "metadata": {
    "execution": {
     "iopub.execute_input": "2021-05-17T16:59:08.041101Z",
     "iopub.status.busy": "2021-05-17T16:59:08.040993Z",
     "iopub.status.idle": "2021-05-17T16:59:08.052408Z",
     "shell.execute_reply": "2021-05-17T16:59:08.052070Z",
     "shell.execute_reply.started": "2021-05-17T16:59:08.041087Z"
    }
   },
   "outputs": [],
   "source": [
    "def show_audio(ad):\n",
    "    sig,sr=ad\n",
    "    display(Audio(data=sig, rate=sr))"
   ]
  },
  {
   "cell_type": "code",
   "execution_count": 5,
   "id": "qualified-launch",
   "metadata": {
    "execution": {
     "iopub.execute_input": "2021-05-17T16:59:08.053193Z",
     "iopub.status.busy": "2021-05-17T16:59:08.053054Z",
     "iopub.status.idle": "2021-05-17T16:59:08.067294Z",
     "shell.execute_reply": "2021-05-17T16:59:08.066858Z",
     "shell.execute_reply.started": "2021-05-17T16:59:08.053180Z"
    }
   },
   "outputs": [],
   "source": [
    "def show_audio_in_out(orig, trans):\n",
    "    ossig, osr = orig\n",
    "    tsig, tsr = trans\n",
    "    print(\"↓ Original ↓\")\n",
    "    show_audio(orig)\n",
    "    print(\"↓ Transformed ↓\")\n",
    "    show_audio(trans)\n",
    "    if orig is not None: plt.plot(osig[0], 'm', label=\"Orig.\")\n",
    "    if trans is not None: plt.plot(tsig[0], 'c', alpha=0.5, label=\"Transf.\")\n",
    "    plt.legend()\n",
    "    plt.show()"
   ]
  },
  {
   "cell_type": "code",
   "execution_count": 6,
   "id": "varied-merit",
   "metadata": {
    "execution": {
     "iopub.execute_input": "2021-05-17T16:59:08.067962Z",
     "iopub.status.busy": "2021-05-17T16:59:08.067853Z",
     "iopub.status.idle": "2021-05-17T16:59:08.080492Z",
     "shell.execute_reply": "2021-05-17T16:59:08.080157Z",
     "shell.execute_reply.started": "2021-05-17T16:59:08.067948Z"
    }
   },
   "outputs": [],
   "source": [
    "class AudioCuda(Transform):\n",
    "    _order=10\n",
    "    def __call__(self, ad):\n",
    "        sig,sr = ad\n",
    "        return (sig.cuda(), sr)"
   ]
  },
  {
   "cell_type": "code",
   "execution_count": 7,
   "id": "sharing-tunisia",
   "metadata": {
    "execution": {
     "iopub.execute_input": "2021-05-17T16:59:08.081146Z",
     "iopub.status.busy": "2021-05-17T16:59:08.081036Z",
     "iopub.status.idle": "2021-05-17T16:59:08.093854Z",
     "shell.execute_reply": "2021-05-17T16:59:08.093485Z",
     "shell.execute_reply.started": "2021-05-17T16:59:08.081132Z"
    }
   },
   "outputs": [],
   "source": [
    "class PadOrTrim(Transform):\n",
    "    _order = 11\n",
    "    def __init__(self, msecs): self.msecs = msecs\n",
    "    def __call__(self, ad):\n",
    "        sig,sr = ad\n",
    "        mx = sr//1000 * self.msecs\n",
    "        return (transforms.PadOrTrim(mx)(sig), sr)"
   ]
  },
  {
   "cell_type": "code",
   "execution_count": 8,
   "id": "pursuant-officer",
   "metadata": {
    "execution": {
     "iopub.execute_input": "2021-05-17T16:59:08.095160Z",
     "iopub.status.busy": "2021-05-17T16:59:08.095045Z",
     "iopub.status.idle": "2021-05-17T16:59:08.106570Z",
     "shell.execute_reply": "2021-05-17T16:59:08.106053Z",
     "shell.execute_reply.started": "2021-05-17T16:59:08.095146Z"
    }
   },
   "outputs": [],
   "source": [
    "class SignalShift(Transform):\n",
    "    _order=20\n",
    "    def __init__(self, max_shift_pct=.6): self.max_shift_pct = max_shift_pct\n",
    "    def __call__(self, ad):\n",
    "        sig,sr = ad\n",
    "        roll_by = int(random.random()*self.max_shift_pct*len(sig[0]))\n",
    "        return (sig.roll(roll_by), sr)"
   ]
  },
  {
   "cell_type": "code",
   "execution_count": 9,
   "id": "democratic-replication",
   "metadata": {
    "execution": {
     "iopub.execute_input": "2021-05-17T16:59:08.107972Z",
     "iopub.status.busy": "2021-05-17T16:59:08.107733Z",
     "iopub.status.idle": "2021-05-17T16:59:08.121201Z",
     "shell.execute_reply": "2021-05-17T16:59:08.120749Z",
     "shell.execute_reply.started": "2021-05-17T16:59:08.107954Z"
    }
   },
   "outputs": [],
   "source": [
    "class Spectrogrammer(Transform):\n",
    "    _order=90\n",
    "    def __init__(self, to_mel=True, to_db=True, n_fft=400, ws=None, hop=None, \n",
    "                 f_min=0.0, f_max=None, pad=0, n_mels=128, top_db=None, normalize=False):\n",
    "        self.to_mel, self.to_db, self.n_fft, self.ws, self.hop, self.f_min, self.f_max, \\\n",
    "        self.pad, self.n_mels, self.top_db, self.normalize = to_mel, to_db, n_fft, \\\n",
    "        ws, hop, f_min, f_max, pad, n_mels, top_db, normalize\n",
    "\n",
    "    def __call__(self, ad):\n",
    "        ad = ad\n",
    "        sig,sr = ad\n",
    "        if self.to_mel:\n",
    "            spec = transforms.MelSpectrogram(sr, self.n_fft, self.ws, self.hop, self.f_min, \n",
    "                                             self.f_max, self.pad, self.n_mels)(sig)\n",
    "        else: \n",
    "            spec = transforms.Spectrogram(self.n_fft, self.ws, self.hop, self.pad, \n",
    "                                          normalize=self.normalize)(sig)\n",
    "        if self.to_db:\n",
    "            spec = transforms.SpectrogramToDB(top_db=self.top_db)(spec)\n",
    "        spec = spec.permute(0,2,1) # reshape so it looks good to humans\n",
    "        return spec"
   ]
  },
  {
   "cell_type": "code",
   "execution_count": 10,
   "id": "spoken-worker",
   "metadata": {
    "execution": {
     "iopub.execute_input": "2021-05-17T16:59:08.121832Z",
     "iopub.status.busy": "2021-05-17T16:59:08.121724Z",
     "iopub.status.idle": "2021-05-17T16:59:08.133192Z",
     "shell.execute_reply": "2021-05-17T16:59:08.132804Z",
     "shell.execute_reply.started": "2021-05-17T16:59:08.121818Z"
    }
   },
   "outputs": [],
   "source": [
    "def show_spectro(img, ax=None, figsize=(6,6), with_shape=True):\n",
    "    if hasattr(img,\"device\") & str(img.device).startswith(\"cuda\"): img = img.cpu()\n",
    "    if ax is None: _,ax = plt.subplots(1, 1, figsize=figsize)\n",
    "    ax.imshow(img if (img.shape[0]==3) else img.squeeze(0))\n",
    "    if with_shape: display(f'Tensor shape={img.shape}')"
   ]
  },
  {
   "cell_type": "code",
   "execution_count": 11,
   "id": "arabic-dominant",
   "metadata": {
    "execution": {
     "iopub.execute_input": "2021-05-17T16:59:08.133806Z",
     "iopub.status.busy": "2021-05-17T16:59:08.133651Z",
     "iopub.status.idle": "2021-05-17T16:59:08.146843Z",
     "shell.execute_reply": "2021-05-17T16:59:08.146415Z",
     "shell.execute_reply.started": "2021-05-17T16:59:08.133792Z"
    }
   },
   "outputs": [],
   "source": [
    "class SpecAugment(Transform):\n",
    "    _order=99\n",
    "    def __init__(self, max_mask_pct=0.2, freq_masks=1, time_masks=1, replace_with_zero=False):\n",
    "        self.max_mask_pct, self.freq_masks, self.time_masks, self.replace_with_zero = \\\n",
    "        max_mask_pct, freq_masks, time_masks, replace_with_zero\n",
    "        if not 0 <= self.max_mask_pct <= 1.0: \n",
    "            raise ValueError( f\"max_mask_pct must be between 0.0 and 1.0, but it's {self.max_mask_pct}\")\n",
    "\n",
    "    def __call__(self, spec):\n",
    "        _, n_mels, n_steps = spec.shape\n",
    "        F = math.ceil(n_mels * self.max_mask_pct) # rounding up in case of small %\n",
    "        T = math.ceil(n_steps * self.max_mask_pct)\n",
    "        fill = 0 if self.replace_with_zero else spec.mean()\n",
    "        for i in range(0, self.freq_masks):\n",
    "            f = random.randint(0, F)\n",
    "            f0 = random.randint(0, n_mels-f)\n",
    "            spec[0][f0:f0+f] = fill\n",
    "        for i in range(0, self.time_masks):\n",
    "            t = random.randint(0, T)\n",
    "            t0 = random.randint(0, n_steps-t)\n",
    "            spec[0][:,t0:t0+t] = fill\n",
    "        return spec"
   ]
  },
  {
   "cell_type": "code",
   "execution_count": 12,
   "id": "american-south",
   "metadata": {
    "execution": {
     "iopub.execute_input": "2021-05-17T16:59:08.147513Z",
     "iopub.status.busy": "2021-05-17T16:59:08.147400Z",
     "iopub.status.idle": "2021-05-17T16:59:08.159741Z",
     "shell.execute_reply": "2021-05-17T16:59:08.159301Z",
     "shell.execute_reply.started": "2021-05-17T16:59:08.147498Z"
    }
   },
   "outputs": [],
   "source": [
    "def show_batch_audio(x, c=4, r=None, figsize=None, shower=show_image):\n",
    "    n = len(x)\n",
    "    if r is None: r = int(math.ceil(n/c))\n",
    "    if figsize is None: figsize=(c*3,r*3)\n",
    "    fig,axes = plt.subplots(r,c, figsize=figsize)\n",
    "    for xi,ax in zip(x,axes.flat): shower(xi, ax)"
   ]
  },
  {
   "cell_type": "markdown",
   "id": "cultural-ensemble",
   "metadata": {},
   "source": [
    "# Define required"
   ]
  },
  {
   "cell_type": "code",
   "execution_count": 13,
   "id": "peaceful-hudson",
   "metadata": {
    "execution": {
     "iopub.execute_input": "2021-05-17T16:59:08.160426Z",
     "iopub.status.busy": "2021-05-17T16:59:08.160269Z",
     "iopub.status.idle": "2021-05-17T16:59:08.170700Z",
     "shell.execute_reply": "2021-05-17T16:59:08.170373Z",
     "shell.execute_reply.started": "2021-05-17T16:59:08.160411Z"
    }
   },
   "outputs": [],
   "source": [
    "fpath = Path(\"/media/hdd/Datasets/STAEDS/\")"
   ]
  },
  {
   "cell_type": "code",
   "execution_count": 14,
   "id": "impressive-score",
   "metadata": {
    "execution": {
     "iopub.execute_input": "2021-05-17T16:59:08.171225Z",
     "iopub.status.busy": "2021-05-17T16:59:08.171118Z",
     "iopub.status.idle": "2021-05-17T16:59:08.182179Z",
     "shell.execute_reply": "2021-05-17T16:59:08.181716Z",
     "shell.execute_reply.started": "2021-05-17T16:59:08.171211Z"
    }
   },
   "outputs": [],
   "source": [
    "pad_3sec = PadOrTrim(3000)\n",
    "shifter = SignalShift()\n",
    "speccer = Spectrogrammer(n_fft=1024, n_mels=64, top_db=80)\n",
    "masker = SpecAugment(freq_masks=2, time_masks=2, max_mask_pct=0.1)\n",
    "\n",
    "tfms = [AudioCuda(), shifter, speccer, masker]\n",
    "bs = 256"
   ]
  },
  {
   "cell_type": "code",
   "execution_count": 15,
   "id": "funded-floor",
   "metadata": {
    "execution": {
     "iopub.execute_input": "2021-05-17T16:59:08.182852Z",
     "iopub.status.busy": "2021-05-17T16:59:08.182739Z",
     "iopub.status.idle": "2021-05-17T16:59:08.195174Z",
     "shell.execute_reply": "2021-05-17T16:59:08.194860Z",
     "shell.execute_reply.started": "2021-05-17T16:59:08.182837Z"
    }
   },
   "outputs": [],
   "source": [
    "lr = 1e-2\n",
    "pct_start = 0.5\n",
    "phases = create_phases(pct_start)\n",
    "sched_lr  = combine_scheds(phases, cos_1cycle_anneal(lr/10., lr, lr/1e5))\n",
    "sched_mom = combine_scheds(phases, cos_1cycle_anneal(0.95, 0.85, 0.95))\n",
    "\n",
    "cbfs = [\n",
    "    partial(AvgStatsCallback,accuracy),\n",
    "    partial(ParamScheduler, 'lr', sched_lr),\n",
    "    partial(ParamScheduler, 'mom', sched_mom),\n",
    "        partial(BatchTransformXCallback, norm_imagenette),\n",
    "    ProgressCallback,\n",
    "    Recorder,]\n",
    "#        partial(CudaCallback, device)]\n",
    "\n",
    "loss_func=LabelSmoothingCrossEntropy()\n",
    "lr = .001\n",
    "opt_func = adam_opt(mom=0.9, mom_sqr=0.99, eps=1e-6, wd=1e-2)"
   ]
  },
  {
   "cell_type": "code",
   "execution_count": 16,
   "id": "streaming-buyer",
   "metadata": {
    "execution": {
     "iopub.execute_input": "2021-05-17T16:59:08.195837Z",
     "iopub.status.busy": "2021-05-17T16:59:08.195727Z",
     "iopub.status.idle": "2021-05-17T16:59:08.228223Z",
     "shell.execute_reply": "2021-05-17T16:59:08.227775Z",
     "shell.execute_reply.started": "2021-05-17T16:59:08.195823Z"
    }
   },
   "outputs": [],
   "source": [
    "al = AudioList.from_files(fpath, tfms=tfms)\n",
    "sd = SplitData.split_by_func(al, partial(random_splitter, p_valid=0.2))\n",
    "label_pat = r'/([mf]\\d+)_'\n",
    "\n",
    "ll = label_by_func(sd, partial(re_labeler, pat=label_pat), proc_y=CategoryProcessor())"
   ]
  },
  {
   "cell_type": "code",
   "execution_count": 17,
   "id": "forty-tournament",
   "metadata": {
    "execution": {
     "iopub.execute_input": "2021-05-17T16:59:08.229052Z",
     "iopub.status.busy": "2021-05-17T16:59:08.228941Z",
     "iopub.status.idle": "2021-05-17T16:59:08.276634Z",
     "shell.execute_reply": "2021-05-17T16:59:08.275431Z",
     "shell.execute_reply.started": "2021-05-17T16:59:08.229037Z"
    }
   },
   "outputs": [],
   "source": [
    "c_in = torchaudio.load('/media/hdd/Datasets/STAEDS/m0005_us_m0005_00418.wav')[0][0].shape[0]"
   ]
  },
  {
   "cell_type": "code",
   "execution_count": 18,
   "id": "therapeutic-native",
   "metadata": {
    "execution": {
     "iopub.execute_input": "2021-05-17T16:59:08.278567Z",
     "iopub.status.busy": "2021-05-17T16:59:08.278169Z",
     "iopub.status.idle": "2021-05-17T16:59:08.309171Z",
     "shell.execute_reply": "2021-05-17T16:59:08.308349Z",
     "shell.execute_reply.started": "2021-05-17T16:59:08.278507Z"
    }
   },
   "outputs": [
    {
     "data": {
      "text/plain": [
       "10"
      ]
     },
     "execution_count": 18,
     "metadata": {},
     "output_type": "execute_result"
    }
   ],
   "source": [
    "c_out = len(uniqueify(ll.train.y));c_out"
   ]
  },
  {
   "cell_type": "code",
   "execution_count": 19,
   "id": "incredible-supplier",
   "metadata": {
    "execution": {
     "iopub.execute_input": "2021-05-17T16:59:08.310590Z",
     "iopub.status.busy": "2021-05-17T16:59:08.310372Z",
     "iopub.status.idle": "2021-05-17T16:59:08.322065Z",
     "shell.execute_reply": "2021-05-17T16:59:08.321667Z",
     "shell.execute_reply.started": "2021-05-17T16:59:08.310563Z"
    }
   },
   "outputs": [],
   "source": [
    "data = ll.to_databunch(bs, c_in=3, c_out=c_out)"
   ]
  },
  {
   "cell_type": "code",
   "execution_count": 20,
   "id": "olympic-linux",
   "metadata": {
    "execution": {
     "iopub.execute_input": "2021-05-17T16:59:08.322583Z",
     "iopub.status.busy": "2021-05-17T16:59:08.322477Z",
     "iopub.status.idle": "2021-05-17T16:59:08.333171Z",
     "shell.execute_reply": "2021-05-17T16:59:08.332591Z",
     "shell.execute_reply.started": "2021-05-17T16:59:08.322569Z"
    }
   },
   "outputs": [],
   "source": [
    "# show_spec_batch = partial(show_batch_audio, c=4, r=2, figsize=None, \n",
    "#                           shower=partial(show_spectro, with_shape=False))"
   ]
  },
  {
   "cell_type": "code",
   "execution_count": 23,
   "id": "fluid-bangladesh",
   "metadata": {
    "execution": {
     "iopub.execute_input": "2021-05-17T16:59:30.232449Z",
     "iopub.status.busy": "2021-05-17T16:59:30.231832Z",
     "iopub.status.idle": "2021-05-17T16:59:30.253755Z",
     "shell.execute_reply": "2021-05-17T16:59:30.252940Z",
     "shell.execute_reply.started": "2021-05-17T16:59:30.232370Z"
    }
   },
   "outputs": [],
   "source": [
    "# x,y = next(iter(data.train_dl))\n",
    "# show_spec_batch(x)"
   ]
  },
  {
   "cell_type": "code",
   "execution_count": 24,
   "id": "arctic-luxury",
   "metadata": {
    "execution": {
     "iopub.execute_input": "2021-05-17T16:59:31.643129Z",
     "iopub.status.busy": "2021-05-17T16:59:31.642955Z",
     "iopub.status.idle": "2021-05-17T16:59:31.912150Z",
     "shell.execute_reply": "2021-05-17T16:59:31.911724Z",
     "shell.execute_reply.started": "2021-05-17T16:59:31.643114Z"
    }
   },
   "outputs": [],
   "source": [
    "arch = partial(xresnet34, c_out =5)()"
   ]
  },
  {
   "cell_type": "code",
   "execution_count": 25,
   "id": "great-afternoon",
   "metadata": {
    "execution": {
     "iopub.execute_input": "2021-05-17T16:59:32.446121Z",
     "iopub.status.busy": "2021-05-17T16:59:32.445951Z",
     "iopub.status.idle": "2021-05-17T16:59:32.458288Z",
     "shell.execute_reply": "2021-05-17T16:59:32.457836Z",
     "shell.execute_reply.started": "2021-05-17T16:59:32.446094Z"
    }
   },
   "outputs": [],
   "source": [
    "learn = Learner(arch, data, loss_func, lr=lr, cb_funcs=cbfs, opt_func=opt_func)"
   ]
  },
  {
   "cell_type": "code",
   "execution_count": 26,
   "id": "commercial-literature",
   "metadata": {
    "execution": {
     "iopub.execute_input": "2021-05-17T16:59:33.242392Z",
     "iopub.status.busy": "2021-05-17T16:59:33.242252Z",
     "iopub.status.idle": "2021-05-17T16:59:33.464419Z",
     "shell.execute_reply": "2021-05-17T16:59:33.463644Z",
     "shell.execute_reply.started": "2021-05-17T16:59:33.242377Z"
    }
   },
   "outputs": [
    {
     "data": {
      "text/html": [
       "\n",
       "    <div>\n",
       "        <style>\n",
       "            /* Turns off some styling */\n",
       "            progress {\n",
       "                /* gets rid of default border in Firefox and Opera. */\n",
       "                border: none;\n",
       "                /* Needs to be in here for Safari polyfill so background images work as expected. */\n",
       "                background-size: auto;\n",
       "            }\n",
       "            .progress-bar-interrupted, .progress-bar-interrupted::-webkit-progress-bar {\n",
       "                background: #F44336;\n",
       "            }\n",
       "        </style>\n",
       "      <progress value='0' class='' max='1' style='width:300px; height:20px; vertical-align: middle;'></progress>\n",
       "      \n",
       "    </div>\n",
       "    \n"
      ],
      "text/plain": [
       "<IPython.core.display.HTML object>"
      ]
     },
     "metadata": {},
     "output_type": "display_data"
    },
    {
     "data": {
      "text/html": [
       "<table border=\"1\" class=\"dataframe\">\n",
       "  <thead>\n",
       "    <tr style=\"text-align: left;\">\n",
       "      <th>epoch</th>\n",
       "      <th>train_loss</th>\n",
       "      <th>train_accuracy</th>\n",
       "      <th>valid_loss</th>\n",
       "      <th>valid_accuracy</th>\n",
       "      <th>time</th>\n",
       "    </tr>\n",
       "  </thead>\n",
       "  <tbody>\n",
       "  </tbody>\n",
       "</table>"
      ],
      "text/plain": [
       "<IPython.core.display.HTML object>"
      ]
     },
     "metadata": {},
     "output_type": "display_data"
    },
    {
     "ename": "RuntimeError",
     "evalue": "Caught RuntimeError in DataLoader worker process 0.\nOriginal Traceback (most recent call last):\n  File \"/home/eragon/.local/lib/python3.9/site-packages/torch/utils/data/_utils/worker.py\", line 198, in _worker_loop\n    data = fetcher.fetch(index)\n  File \"/home/eragon/.local/lib/python3.9/site-packages/torch/utils/data/_utils/fetch.py\", line 44, in fetch\n    data = [self.dataset[idx] for idx in possibly_batched_index]\n  File \"/home/eragon/.local/lib/python3.9/site-packages/torch/utils/data/_utils/fetch.py\", line 44, in <listcomp>\n    data = [self.dataset[idx] for idx in possibly_batched_index]\n  File \"../sprintdl/data.py\", line 393, in __getitem__\n    return self.x[idx], self.y[idx]\n  File \"../sprintdl/data.py\", line 234, in __getitem__\n    return self._get(res)\n  File \"../sprintdl/data.py\", line 228, in _get\n    return compose(self.get(i), self.tfms)\n  File \"../sprintdl/helpers.py\", line 157, in compose\n    x = f(x, **kwargs)\n  File \"<ipython-input-6-c11b48fb1707>\", line 5, in __call__\n    return (sig.cuda(), sr)\n  File \"/home/eragon/.local/lib/python3.9/site-packages/torch/cuda/__init__.py\", line 163, in _lazy_init\n    raise RuntimeError(\nRuntimeError: Cannot re-initialize CUDA in forked subprocess. To use CUDA with multiprocessing, you must use the 'spawn' start method\n",
     "output_type": "error",
     "traceback": [
      "\u001b[0;31m---------------------------------------------------------------------------\u001b[0m",
      "\u001b[0;31mRuntimeError\u001b[0m                              Traceback (most recent call last)",
      "\u001b[0;32m<ipython-input-26-8587f3539821>\u001b[0m in \u001b[0;36m<module>\u001b[0;34m\u001b[0m\n\u001b[0;32m----> 1\u001b[0;31m \u001b[0mlearn\u001b[0m\u001b[0;34m.\u001b[0m\u001b[0mfit\u001b[0m\u001b[0;34m(\u001b[0m\u001b[0;36m1\u001b[0m\u001b[0;34m)\u001b[0m\u001b[0;34m\u001b[0m\u001b[0;34m\u001b[0m\u001b[0m\n\u001b[0m",
      "\u001b[0;32m/media/hdd/github/sprintdl/sprintdl/core.py\u001b[0m in \u001b[0;36mfit\u001b[0;34m(self, epochs, cbs, reset_opt)\u001b[0m\n\u001b[1;32m    161\u001b[0m             \u001b[0;32mfor\u001b[0m \u001b[0mepoch\u001b[0m \u001b[0;32min\u001b[0m \u001b[0mrange\u001b[0m\u001b[0;34m(\u001b[0m\u001b[0mepochs\u001b[0m\u001b[0;34m)\u001b[0m\u001b[0;34m:\u001b[0m\u001b[0;34m\u001b[0m\u001b[0;34m\u001b[0m\u001b[0m\n\u001b[1;32m    162\u001b[0m                 \u001b[0;32mif\u001b[0m \u001b[0;32mnot\u001b[0m \u001b[0mself\u001b[0m\u001b[0;34m.\u001b[0m\u001b[0mdo_begin_epoch\u001b[0m\u001b[0;34m(\u001b[0m\u001b[0mepoch\u001b[0m\u001b[0;34m)\u001b[0m\u001b[0;34m:\u001b[0m\u001b[0;34m\u001b[0m\u001b[0;34m\u001b[0m\u001b[0m\n\u001b[0;32m--> 163\u001b[0;31m                     \u001b[0mself\u001b[0m\u001b[0;34m.\u001b[0m\u001b[0mall_batches\u001b[0m\u001b[0;34m(\u001b[0m\u001b[0;34m)\u001b[0m\u001b[0;34m\u001b[0m\u001b[0;34m\u001b[0m\u001b[0m\n\u001b[0m\u001b[1;32m    164\u001b[0m \u001b[0;34m\u001b[0m\u001b[0m\n\u001b[1;32m    165\u001b[0m                 \u001b[0;32mwith\u001b[0m \u001b[0mtorch\u001b[0m\u001b[0;34m.\u001b[0m\u001b[0mno_grad\u001b[0m\u001b[0;34m(\u001b[0m\u001b[0;34m)\u001b[0m\u001b[0;34m:\u001b[0m\u001b[0;34m\u001b[0m\u001b[0;34m\u001b[0m\u001b[0m\n",
      "\u001b[0;32m/media/hdd/github/sprintdl/sprintdl/core.py\u001b[0m in \u001b[0;36mall_batches\u001b[0;34m(self)\u001b[0m\n\u001b[1;32m    139\u001b[0m         \u001b[0mself\u001b[0m\u001b[0;34m.\u001b[0m\u001b[0miters\u001b[0m \u001b[0;34m=\u001b[0m \u001b[0mlen\u001b[0m\u001b[0;34m(\u001b[0m\u001b[0mself\u001b[0m\u001b[0;34m.\u001b[0m\u001b[0mdl\u001b[0m\u001b[0;34m)\u001b[0m\u001b[0;34m\u001b[0m\u001b[0;34m\u001b[0m\u001b[0m\n\u001b[1;32m    140\u001b[0m         \u001b[0;32mtry\u001b[0m\u001b[0;34m:\u001b[0m\u001b[0;34m\u001b[0m\u001b[0;34m\u001b[0m\u001b[0m\n\u001b[0;32m--> 141\u001b[0;31m             \u001b[0;32mfor\u001b[0m \u001b[0mi\u001b[0m\u001b[0;34m,\u001b[0m \u001b[0;34m(\u001b[0m\u001b[0mxb\u001b[0m\u001b[0;34m,\u001b[0m \u001b[0myb\u001b[0m\u001b[0;34m)\u001b[0m \u001b[0;32min\u001b[0m \u001b[0menumerate\u001b[0m\u001b[0;34m(\u001b[0m\u001b[0mself\u001b[0m\u001b[0;34m.\u001b[0m\u001b[0mdl\u001b[0m\u001b[0;34m)\u001b[0m\u001b[0;34m:\u001b[0m\u001b[0;34m\u001b[0m\u001b[0;34m\u001b[0m\u001b[0m\n\u001b[0m\u001b[1;32m    142\u001b[0m                 \u001b[0mself\u001b[0m\u001b[0;34m.\u001b[0m\u001b[0mone_batch\u001b[0m\u001b[0;34m(\u001b[0m\u001b[0mi\u001b[0m\u001b[0;34m,\u001b[0m \u001b[0mxb\u001b[0m\u001b[0;34m,\u001b[0m \u001b[0myb\u001b[0m\u001b[0;34m)\u001b[0m\u001b[0;34m\u001b[0m\u001b[0;34m\u001b[0m\u001b[0m\n\u001b[1;32m    143\u001b[0m         \u001b[0;32mexcept\u001b[0m \u001b[0mCancelEpochException\u001b[0m\u001b[0;34m:\u001b[0m\u001b[0;34m\u001b[0m\u001b[0;34m\u001b[0m\u001b[0m\n",
      "\u001b[0;32m~/.local/lib/python3.9/site-packages/torch/utils/data/dataloader.py\u001b[0m in \u001b[0;36m__next__\u001b[0;34m(self)\u001b[0m\n\u001b[1;32m    433\u001b[0m         \u001b[0;32mif\u001b[0m \u001b[0mself\u001b[0m\u001b[0;34m.\u001b[0m\u001b[0m_sampler_iter\u001b[0m \u001b[0;32mis\u001b[0m \u001b[0;32mNone\u001b[0m\u001b[0;34m:\u001b[0m\u001b[0;34m\u001b[0m\u001b[0;34m\u001b[0m\u001b[0m\n\u001b[1;32m    434\u001b[0m             \u001b[0mself\u001b[0m\u001b[0;34m.\u001b[0m\u001b[0m_reset\u001b[0m\u001b[0;34m(\u001b[0m\u001b[0;34m)\u001b[0m\u001b[0;34m\u001b[0m\u001b[0;34m\u001b[0m\u001b[0m\n\u001b[0;32m--> 435\u001b[0;31m         \u001b[0mdata\u001b[0m \u001b[0;34m=\u001b[0m \u001b[0mself\u001b[0m\u001b[0;34m.\u001b[0m\u001b[0m_next_data\u001b[0m\u001b[0;34m(\u001b[0m\u001b[0;34m)\u001b[0m\u001b[0;34m\u001b[0m\u001b[0;34m\u001b[0m\u001b[0m\n\u001b[0m\u001b[1;32m    436\u001b[0m         \u001b[0mself\u001b[0m\u001b[0;34m.\u001b[0m\u001b[0m_num_yielded\u001b[0m \u001b[0;34m+=\u001b[0m \u001b[0;36m1\u001b[0m\u001b[0;34m\u001b[0m\u001b[0;34m\u001b[0m\u001b[0m\n\u001b[1;32m    437\u001b[0m         \u001b[0;32mif\u001b[0m \u001b[0mself\u001b[0m\u001b[0;34m.\u001b[0m\u001b[0m_dataset_kind\u001b[0m \u001b[0;34m==\u001b[0m \u001b[0m_DatasetKind\u001b[0m\u001b[0;34m.\u001b[0m\u001b[0mIterable\u001b[0m \u001b[0;32mand\u001b[0m\u001b[0;31m \u001b[0m\u001b[0;31m\\\u001b[0m\u001b[0;34m\u001b[0m\u001b[0;34m\u001b[0m\u001b[0m\n",
      "\u001b[0;32m~/.local/lib/python3.9/site-packages/torch/utils/data/dataloader.py\u001b[0m in \u001b[0;36m_next_data\u001b[0;34m(self)\u001b[0m\n\u001b[1;32m   1083\u001b[0m             \u001b[0;32melse\u001b[0m\u001b[0;34m:\u001b[0m\u001b[0;34m\u001b[0m\u001b[0;34m\u001b[0m\u001b[0m\n\u001b[1;32m   1084\u001b[0m                 \u001b[0;32mdel\u001b[0m \u001b[0mself\u001b[0m\u001b[0;34m.\u001b[0m\u001b[0m_task_info\u001b[0m\u001b[0;34m[\u001b[0m\u001b[0midx\u001b[0m\u001b[0;34m]\u001b[0m\u001b[0;34m\u001b[0m\u001b[0;34m\u001b[0m\u001b[0m\n\u001b[0;32m-> 1085\u001b[0;31m                 \u001b[0;32mreturn\u001b[0m \u001b[0mself\u001b[0m\u001b[0;34m.\u001b[0m\u001b[0m_process_data\u001b[0m\u001b[0;34m(\u001b[0m\u001b[0mdata\u001b[0m\u001b[0;34m)\u001b[0m\u001b[0;34m\u001b[0m\u001b[0;34m\u001b[0m\u001b[0m\n\u001b[0m\u001b[1;32m   1086\u001b[0m \u001b[0;34m\u001b[0m\u001b[0m\n\u001b[1;32m   1087\u001b[0m     \u001b[0;32mdef\u001b[0m \u001b[0m_try_put_index\u001b[0m\u001b[0;34m(\u001b[0m\u001b[0mself\u001b[0m\u001b[0;34m)\u001b[0m\u001b[0;34m:\u001b[0m\u001b[0;34m\u001b[0m\u001b[0;34m\u001b[0m\u001b[0m\n",
      "\u001b[0;32m~/.local/lib/python3.9/site-packages/torch/utils/data/dataloader.py\u001b[0m in \u001b[0;36m_process_data\u001b[0;34m(self, data)\u001b[0m\n\u001b[1;32m   1109\u001b[0m         \u001b[0mself\u001b[0m\u001b[0;34m.\u001b[0m\u001b[0m_try_put_index\u001b[0m\u001b[0;34m(\u001b[0m\u001b[0;34m)\u001b[0m\u001b[0;34m\u001b[0m\u001b[0;34m\u001b[0m\u001b[0m\n\u001b[1;32m   1110\u001b[0m         \u001b[0;32mif\u001b[0m \u001b[0misinstance\u001b[0m\u001b[0;34m(\u001b[0m\u001b[0mdata\u001b[0m\u001b[0;34m,\u001b[0m \u001b[0mExceptionWrapper\u001b[0m\u001b[0;34m)\u001b[0m\u001b[0;34m:\u001b[0m\u001b[0;34m\u001b[0m\u001b[0;34m\u001b[0m\u001b[0m\n\u001b[0;32m-> 1111\u001b[0;31m             \u001b[0mdata\u001b[0m\u001b[0;34m.\u001b[0m\u001b[0mreraise\u001b[0m\u001b[0;34m(\u001b[0m\u001b[0;34m)\u001b[0m\u001b[0;34m\u001b[0m\u001b[0;34m\u001b[0m\u001b[0m\n\u001b[0m\u001b[1;32m   1112\u001b[0m         \u001b[0;32mreturn\u001b[0m \u001b[0mdata\u001b[0m\u001b[0;34m\u001b[0m\u001b[0;34m\u001b[0m\u001b[0m\n\u001b[1;32m   1113\u001b[0m \u001b[0;34m\u001b[0m\u001b[0m\n",
      "\u001b[0;32m~/.local/lib/python3.9/site-packages/torch/_utils.py\u001b[0m in \u001b[0;36mreraise\u001b[0;34m(self)\u001b[0m\n\u001b[1;32m    426\u001b[0m             \u001b[0;31m# have message field\u001b[0m\u001b[0;34m\u001b[0m\u001b[0;34m\u001b[0m\u001b[0;34m\u001b[0m\u001b[0m\n\u001b[1;32m    427\u001b[0m             \u001b[0;32mraise\u001b[0m \u001b[0mself\u001b[0m\u001b[0;34m.\u001b[0m\u001b[0mexc_type\u001b[0m\u001b[0;34m(\u001b[0m\u001b[0mmessage\u001b[0m\u001b[0;34m=\u001b[0m\u001b[0mmsg\u001b[0m\u001b[0;34m)\u001b[0m\u001b[0;34m\u001b[0m\u001b[0;34m\u001b[0m\u001b[0m\n\u001b[0;32m--> 428\u001b[0;31m         \u001b[0;32mraise\u001b[0m \u001b[0mself\u001b[0m\u001b[0;34m.\u001b[0m\u001b[0mexc_type\u001b[0m\u001b[0;34m(\u001b[0m\u001b[0mmsg\u001b[0m\u001b[0;34m)\u001b[0m\u001b[0;34m\u001b[0m\u001b[0;34m\u001b[0m\u001b[0m\n\u001b[0m\u001b[1;32m    429\u001b[0m \u001b[0;34m\u001b[0m\u001b[0m\n\u001b[1;32m    430\u001b[0m \u001b[0;34m\u001b[0m\u001b[0m\n",
      "\u001b[0;31mRuntimeError\u001b[0m: Caught RuntimeError in DataLoader worker process 0.\nOriginal Traceback (most recent call last):\n  File \"/home/eragon/.local/lib/python3.9/site-packages/torch/utils/data/_utils/worker.py\", line 198, in _worker_loop\n    data = fetcher.fetch(index)\n  File \"/home/eragon/.local/lib/python3.9/site-packages/torch/utils/data/_utils/fetch.py\", line 44, in fetch\n    data = [self.dataset[idx] for idx in possibly_batched_index]\n  File \"/home/eragon/.local/lib/python3.9/site-packages/torch/utils/data/_utils/fetch.py\", line 44, in <listcomp>\n    data = [self.dataset[idx] for idx in possibly_batched_index]\n  File \"../sprintdl/data.py\", line 393, in __getitem__\n    return self.x[idx], self.y[idx]\n  File \"../sprintdl/data.py\", line 234, in __getitem__\n    return self._get(res)\n  File \"../sprintdl/data.py\", line 228, in _get\n    return compose(self.get(i), self.tfms)\n  File \"../sprintdl/helpers.py\", line 157, in compose\n    x = f(x, **kwargs)\n  File \"<ipython-input-6-c11b48fb1707>\", line 5, in __call__\n    return (sig.cuda(), sr)\n  File \"/home/eragon/.local/lib/python3.9/site-packages/torch/cuda/__init__.py\", line 163, in _lazy_init\n    raise RuntimeError(\nRuntimeError: Cannot re-initialize CUDA in forked subprocess. To use CUDA with multiprocessing, you must use the 'spawn' start method\n"
     ]
    }
   ],
   "source": [
    "learn.fit(1)"
   ]
  },
  {
   "cell_type": "code",
   "execution_count": null,
   "id": "removable-ticket",
   "metadata": {},
   "outputs": [],
   "source": []
  },
  {
   "cell_type": "code",
   "execution_count": null,
   "id": "solid-coast",
   "metadata": {},
   "outputs": [],
   "source": []
  }
 ],
 "metadata": {
  "kernelspec": {
   "display_name": "Python 3",
   "language": "python",
   "name": "python3"
  },
  "language_info": {
   "codemirror_mode": {
    "name": "ipython",
    "version": 3
   },
   "file_extension": ".py",
   "mimetype": "text/x-python",
   "name": "python",
   "nbconvert_exporter": "python",
   "pygments_lexer": "ipython3",
   "version": "3.9.1"
  },
  "toc": {
   "base_numbering": 1,
   "nav_menu": {},
   "number_sections": true,
   "sideBar": true,
   "skip_h1_title": false,
   "title_cell": "Table of Contents",
   "title_sidebar": "Contents",
   "toc_cell": false,
   "toc_position": {},
   "toc_section_display": true,
   "toc_window_display": true
  },
  "varInspector": {
   "cols": {
    "lenName": 16,
    "lenType": 16,
    "lenVar": 40
   },
   "kernels_config": {
    "python": {
     "delete_cmd_postfix": "",
     "delete_cmd_prefix": "del ",
     "library": "var_list.py",
     "varRefreshCmd": "print(var_dic_list())"
    },
    "r": {
     "delete_cmd_postfix": ") ",
     "delete_cmd_prefix": "rm(",
     "library": "var_list.r",
     "varRefreshCmd": "cat(var_dic_list()) "
    }
   },
   "types_to_exclude": [
    "module",
    "function",
    "builtin_function_or_method",
    "instance",
    "_Feature"
   ],
   "window_display": false
  }
 },
 "nbformat": 4,
 "nbformat_minor": 5
}
