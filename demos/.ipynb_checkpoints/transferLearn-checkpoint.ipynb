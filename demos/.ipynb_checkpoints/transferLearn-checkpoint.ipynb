{
 "cells": [
  {
   "cell_type": "code",
   "execution_count": 1,
   "id": "younger-lloyd",
   "metadata": {
    "execution": {
     "iopub.execute_input": "2021-05-15T09:43:38.803732Z",
     "iopub.status.busy": "2021-05-15T09:43:38.803111Z",
     "iopub.status.idle": "2021-05-15T09:43:38.975016Z",
     "shell.execute_reply": "2021-05-15T09:43:38.974577Z",
     "shell.execute_reply.started": "2021-05-15T09:43:38.803567Z"
    }
   },
   "outputs": [],
   "source": [
    "%load_ext autoreload\n",
    "%autoreload 2\n",
    "\n",
    "%matplotlib inline\n",
    "\n",
    "import sys\n",
    "sys.path.append(\"../\")"
   ]
  },
  {
   "cell_type": "code",
   "execution_count": 2,
   "id": "coated-valley",
   "metadata": {
    "execution": {
     "iopub.execute_input": "2021-05-15T09:43:38.975782Z",
     "iopub.status.busy": "2021-05-15T09:43:38.975676Z",
     "iopub.status.idle": "2021-05-15T09:43:41.601784Z",
     "shell.execute_reply": "2021-05-15T09:43:41.601352Z",
     "shell.execute_reply.started": "2021-05-15T09:43:38.975769Z"
    }
   },
   "outputs": [],
   "source": [
    "from sprintdl.main import *\n",
    "from sprintdl.nets import *"
   ]
  },
  {
   "cell_type": "code",
   "execution_count": 3,
   "id": "featured-airplane",
   "metadata": {
    "execution": {
     "iopub.execute_input": "2021-05-15T09:43:41.602814Z",
     "iopub.status.busy": "2021-05-15T09:43:41.602633Z",
     "iopub.status.idle": "2021-05-15T09:43:41.611002Z",
     "shell.execute_reply": "2021-05-15T09:43:41.610019Z",
     "shell.execute_reply.started": "2021-05-15T09:43:41.602767Z"
    }
   },
   "outputs": [],
   "source": [
    "device = torch.device('cuda',0)\n",
    "from torch.nn import init\n",
    "import torch\n",
    "import math"
   ]
  },
  {
   "cell_type": "markdown",
   "id": "qualified-thompson",
   "metadata": {},
   "source": [
    "# Define required"
   ]
  },
  {
   "cell_type": "code",
   "execution_count": 4,
   "id": "differential-encyclopedia",
   "metadata": {
    "execution": {
     "iopub.execute_input": "2021-05-15T09:43:41.613331Z",
     "iopub.status.busy": "2021-05-15T09:43:41.612937Z",
     "iopub.status.idle": "2021-05-15T09:43:42.881840Z",
     "shell.execute_reply": "2021-05-15T09:43:42.880089Z",
     "shell.execute_reply.started": "2021-05-15T09:43:41.613282Z"
    }
   },
   "outputs": [
    {
     "name": "stdout",
     "output_type": "stream",
     "text": [
      "Already downloaded at /media/hdd/Datasets/imagewoof2-160.tgz\n"
     ]
    }
   ],
   "source": [
    "url = \"https://s3.amazonaws.com/fast-ai-imageclas/imagewoof2-160.tgz\"\n",
    "\n",
    "fpath = download_and_check(url, fpath = \"/media/hdd/Datasets/\", name = \"imagewoof\")"
   ]
  },
  {
   "cell_type": "code",
   "execution_count": 5,
   "id": "fiscal-virus",
   "metadata": {
    "execution": {
     "iopub.execute_input": "2021-05-15T09:43:42.882960Z",
     "iopub.status.busy": "2021-05-15T09:43:42.882702Z",
     "iopub.status.idle": "2021-05-15T09:43:42.891208Z",
     "shell.execute_reply": "2021-05-15T09:43:42.890594Z",
     "shell.execute_reply.started": "2021-05-15T09:43:42.882945Z"
    }
   },
   "outputs": [
    {
     "name": "stdout",
     "output_type": "stream",
     "text": [
      "Extracted to /media/hdd/Datasets/imagewoof2-160\n"
     ]
    }
   ],
   "source": [
    "fpath = untar_data(fpath)"
   ]
  },
  {
   "cell_type": "code",
   "execution_count": 6,
   "id": "boring-czech",
   "metadata": {
    "execution": {
     "iopub.execute_input": "2021-05-15T09:43:42.892207Z",
     "iopub.status.busy": "2021-05-15T09:43:42.891898Z",
     "iopub.status.idle": "2021-05-15T09:43:42.900265Z",
     "shell.execute_reply": "2021-05-15T09:43:42.899779Z",
     "shell.execute_reply.started": "2021-05-15T09:43:42.892192Z"
    }
   },
   "outputs": [],
   "source": [
    "tfms = [make_rgb, ResizeFixed(128), to_byte_tensor, to_float_tensor]\n",
    "bs = 256"
   ]
  },
  {
   "cell_type": "markdown",
   "id": "integrated-special",
   "metadata": {},
   "source": [
    "# Define model and data"
   ]
  },
  {
   "cell_type": "code",
   "execution_count": 7,
   "id": "interested-lobby",
   "metadata": {
    "execution": {
     "iopub.execute_input": "2021-05-15T09:43:43.610997Z",
     "iopub.status.busy": "2021-05-15T09:43:43.610790Z",
     "iopub.status.idle": "2021-05-15T09:43:43.624853Z",
     "shell.execute_reply": "2021-05-15T09:43:43.623861Z",
     "shell.execute_reply.started": "2021-05-15T09:43:43.610975Z"
    }
   },
   "outputs": [],
   "source": [
    "lr = 1e-2\n",
    "pct_start = 0.5\n",
    "phases = create_phases(pct_start)\n",
    "sched_lr  = combine_scheds(phases, cos_1cycle_anneal(lr/10., lr, lr/1e5))\n",
    "sched_mom = combine_scheds(phases, cos_1cycle_anneal(0.95, 0.85, 0.95))\n",
    "\n",
    "cbfs = [\n",
    "    partial(AvgStatsCallback,accuracy),\n",
    "    partial(ParamScheduler, 'lr', sched_lr),\n",
    "    partial(ParamScheduler, 'mom', sched_mom),\n",
    "        partial(BatchTransformXCallback, norm_imagenette),\n",
    "    ProgressCallback,\n",
    "    Recorder,\n",
    "#     MixUp,\n",
    "       partial(CudaCallback, device)]\n",
    "\n",
    "loss_func=LabelSmoothingCrossEntropy()\n",
    "arch = partial(xresnet18, c_out=10)\n",
    "epochs = 5\n",
    "lr = .4\n",
    "# opt_func = partial(sgd_mom_opt, wd=0.01)\n",
    "opt_func = adam_opt(mom=0.9, mom_sqr=0.99, eps=1e-6, wd=1e-2)\n",
    "# opt_func = lamb"
   ]
  },
  {
   "cell_type": "markdown",
   "id": "computational-punch",
   "metadata": {},
   "source": [
    "# Actual process"
   ]
  },
  {
   "cell_type": "code",
   "execution_count": 9,
   "id": "fatty-portfolio",
   "metadata": {
    "execution": {
     "iopub.execute_input": "2021-05-15T09:33:15.288980Z",
     "iopub.status.busy": "2021-05-15T09:33:15.288484Z",
     "iopub.status.idle": "2021-05-15T09:33:15.384494Z",
     "shell.execute_reply": "2021-05-15T09:33:15.384133Z",
     "shell.execute_reply.started": "2021-05-15T09:33:15.288921Z"
    }
   },
   "outputs": [],
   "source": [
    "il = ImageList.from_files(fpath, tfms=tfms)"
   ]
  },
  {
   "cell_type": "code",
   "execution_count": 10,
   "id": "outdoor-simple",
   "metadata": {
    "execution": {
     "iopub.execute_input": "2021-05-15T09:33:15.554264Z",
     "iopub.status.busy": "2021-05-15T09:33:15.553769Z",
     "iopub.status.idle": "2021-05-15T09:33:15.581600Z",
     "shell.execute_reply": "2021-05-15T09:33:15.580830Z",
     "shell.execute_reply.started": "2021-05-15T09:33:15.554206Z"
    }
   },
   "outputs": [
    {
     "data": {
      "text/plain": [
       "ImageList (12954 items)\n",
       "[PosixPath('/media/hdd/Datasets/imagewoof2-160/train/n02115641/n02115641_8554.JPEG'), PosixPath('/media/hdd/Datasets/imagewoof2-160/train/n02115641/n02115641_4035.JPEG'), PosixPath('/media/hdd/Datasets/imagewoof2-160/train/n02115641/n02115641_13405.JPEG'), PosixPath('/media/hdd/Datasets/imagewoof2-160/train/n02115641/n02115641_50879.JPEG'), PosixPath('/media/hdd/Datasets/imagewoof2-160/train/n02115641/n02115641_14617.JPEG'), PosixPath('/media/hdd/Datasets/imagewoof2-160/train/n02115641/n02115641_15723.JPEG'), PosixPath('/media/hdd/Datasets/imagewoof2-160/train/n02115641/n02115641_8595.JPEG'), PosixPath('/media/hdd/Datasets/imagewoof2-160/train/n02115641/n02115641_10705.JPEG'), PosixPath('/media/hdd/Datasets/imagewoof2-160/train/n02115641/ILSVRC2012_val_00002786.JPEG'), PosixPath('/media/hdd/Datasets/imagewoof2-160/train/n02115641/n02115641_32024.JPEG')...]\n",
       "Path: /media/hdd/Datasets/imagewoof2-160"
      ]
     },
     "execution_count": 10,
     "metadata": {},
     "output_type": "execute_result"
    }
   ],
   "source": [
    "il"
   ]
  },
  {
   "cell_type": "code",
   "execution_count": 11,
   "id": "fabulous-lodging",
   "metadata": {
    "execution": {
     "iopub.execute_input": "2021-05-15T09:33:15.736578Z",
     "iopub.status.busy": "2021-05-15T09:33:15.736058Z",
     "iopub.status.idle": "2021-05-15T09:33:15.806191Z",
     "shell.execute_reply": "2021-05-15T09:33:15.805173Z",
     "shell.execute_reply.started": "2021-05-15T09:33:15.736498Z"
    }
   },
   "outputs": [],
   "source": [
    "sd = SplitData.split_by_func(il, partial(grandparent_splitter, valid_name='val'))\n",
    "ll = label_by_func(sd, parent_labeler, proc_y=CategoryProcessor())"
   ]
  },
  {
   "cell_type": "code",
   "execution_count": 12,
   "id": "sophisticated-witch",
   "metadata": {
    "execution": {
     "iopub.execute_input": "2021-05-15T09:33:15.874817Z",
     "iopub.status.busy": "2021-05-15T09:33:15.874363Z",
     "iopub.status.idle": "2021-05-15T09:33:15.897081Z",
     "shell.execute_reply": "2021-05-15T09:33:15.896320Z",
     "shell.execute_reply.started": "2021-05-15T09:33:15.874765Z"
    }
   },
   "outputs": [
    {
     "data": {
      "text/plain": [
       "SplitData\n",
       "Train: LabeledData\n",
       "x: ImageList (9025 items)\n",
       "[PosixPath('/media/hdd/Datasets/imagewoof2-160/train/n02115641/n02115641_8554.JPEG'), PosixPath('/media/hdd/Datasets/imagewoof2-160/train/n02115641/n02115641_4035.JPEG'), PosixPath('/media/hdd/Datasets/imagewoof2-160/train/n02115641/n02115641_13405.JPEG'), PosixPath('/media/hdd/Datasets/imagewoof2-160/train/n02115641/n02115641_50879.JPEG'), PosixPath('/media/hdd/Datasets/imagewoof2-160/train/n02115641/n02115641_14617.JPEG'), PosixPath('/media/hdd/Datasets/imagewoof2-160/train/n02115641/n02115641_15723.JPEG'), PosixPath('/media/hdd/Datasets/imagewoof2-160/train/n02115641/n02115641_8595.JPEG'), PosixPath('/media/hdd/Datasets/imagewoof2-160/train/n02115641/n02115641_10705.JPEG'), PosixPath('/media/hdd/Datasets/imagewoof2-160/train/n02115641/ILSVRC2012_val_00002786.JPEG'), PosixPath('/media/hdd/Datasets/imagewoof2-160/train/n02115641/n02115641_32024.JPEG')...]\n",
       "Path: /media/hdd/Datasets/imagewoof2-160\n",
       "y:ItemList (9025 items)\n",
       "[0, 0, 0, 0, 0, 0, 0, 0, 0, 0...]\n",
       "Path: /media/hdd/Datasets/imagewoof2-160\n",
       "\n",
       "Valid: LabeledData\n",
       "x: ImageList (3929 items)\n",
       "[PosixPath('/media/hdd/Datasets/imagewoof2-160/val/n02115641/n02115641_7360.JPEG'), PosixPath('/media/hdd/Datasets/imagewoof2-160/val/n02115641/n02115641_9892.JPEG'), PosixPath('/media/hdd/Datasets/imagewoof2-160/val/n02115641/n02115641_38960.JPEG'), PosixPath('/media/hdd/Datasets/imagewoof2-160/val/n02115641/n02115641_27730.JPEG'), PosixPath('/media/hdd/Datasets/imagewoof2-160/val/n02115641/n02115641_2590.JPEG'), PosixPath('/media/hdd/Datasets/imagewoof2-160/val/n02115641/n02115641_18782.JPEG'), PosixPath('/media/hdd/Datasets/imagewoof2-160/val/n02115641/n02115641_18272.JPEG'), PosixPath('/media/hdd/Datasets/imagewoof2-160/val/n02115641/n02115641_4951.JPEG'), PosixPath('/media/hdd/Datasets/imagewoof2-160/val/n02115641/n02115641_3740.JPEG'), PosixPath('/media/hdd/Datasets/imagewoof2-160/val/n02115641/n02115641_12990.JPEG')...]\n",
       "Path: /media/hdd/Datasets/imagewoof2-160\n",
       "y:ItemList (3929 items)\n",
       "[0, 0, 0, 0, 0, 0, 0, 0, 0, 0...]\n",
       "Path: /media/hdd/Datasets/imagewoof2-160\n"
      ]
     },
     "execution_count": 12,
     "metadata": {},
     "output_type": "execute_result"
    }
   ],
   "source": [
    "ll"
   ]
  },
  {
   "cell_type": "code",
   "execution_count": 13,
   "id": "sublime-guest",
   "metadata": {
    "execution": {
     "iopub.execute_input": "2021-05-15T09:33:16.131585Z",
     "iopub.status.busy": "2021-05-15T09:33:16.131086Z",
     "iopub.status.idle": "2021-05-15T09:33:16.155906Z",
     "shell.execute_reply": "2021-05-15T09:33:16.154626Z",
     "shell.execute_reply.started": "2021-05-15T09:33:16.131525Z"
    }
   },
   "outputs": [],
   "source": [
    "data = ll.to_databunch(bs, c_in=3, c_out=10)"
   ]
  },
  {
   "cell_type": "markdown",
   "id": "dangerous-claim",
   "metadata": {},
   "source": [
    "# Training"
   ]
  },
  {
   "cell_type": "code",
   "execution_count": 14,
   "id": "statistical-corpus",
   "metadata": {
    "execution": {
     "iopub.execute_input": "2021-05-15T09:33:17.227427Z",
     "iopub.status.busy": "2021-05-15T09:33:17.226849Z",
     "iopub.status.idle": "2021-05-15T09:33:17.380823Z",
     "shell.execute_reply": "2021-05-15T09:33:17.380397Z",
     "shell.execute_reply.started": "2021-05-15T09:33:17.227361Z"
    }
   },
   "outputs": [],
   "source": [
    "# learn = get_learner(nfs, data, lr, conv_layer, cb_funcs=cbfs)\n",
    "learn = Learner(arch(), data, loss_func, lr=lr, cb_funcs=cbfs, opt_func=opt_func)"
   ]
  },
  {
   "cell_type": "code",
   "execution_count": 15,
   "id": "graduate-durham",
   "metadata": {
    "execution": {
     "iopub.execute_input": "2021-05-15T09:33:17.951403Z",
     "iopub.status.busy": "2021-05-15T09:33:17.951258Z",
     "iopub.status.idle": "2021-05-15T09:33:17.958184Z",
     "shell.execute_reply": "2021-05-15T09:33:17.957838Z",
     "shell.execute_reply.started": "2021-05-15T09:33:17.951388Z"
    }
   },
   "outputs": [],
   "source": [
    "# model_summary(learn, data)"
   ]
  },
  {
   "cell_type": "code",
   "execution_count": 16,
   "id": "operating-packet",
   "metadata": {
    "execution": {
     "iopub.execute_input": "2021-05-15T09:33:18.251494Z",
     "iopub.status.busy": "2021-05-15T09:33:18.250896Z",
     "iopub.status.idle": "2021-05-15T09:34:36.957261Z",
     "shell.execute_reply": "2021-05-15T09:34:36.956832Z",
     "shell.execute_reply.started": "2021-05-15T09:33:18.251423Z"
    }
   },
   "outputs": [
    {
     "data": {
      "text/html": [
       "\n",
       "    <div>\n",
       "        <style>\n",
       "            /* Turns off some styling */\n",
       "            progress {\n",
       "                /* gets rid of default border in Firefox and Opera. */\n",
       "                border: none;\n",
       "                /* Needs to be in here for Safari polyfill so background images work as expected. */\n",
       "                background-size: auto;\n",
       "            }\n",
       "            .progress-bar-interrupted, .progress-bar-interrupted::-webkit-progress-bar {\n",
       "                background: #F44336;\n",
       "            }\n",
       "        </style>\n",
       "      <progress value='0' class='' max='5' style='width:300px; height:20px; vertical-align: middle;'></progress>\n",
       "      \n",
       "    </div>\n",
       "    \n"
      ],
      "text/plain": [
       "<IPython.core.display.HTML object>"
      ]
     },
     "metadata": {},
     "output_type": "display_data"
    },
    {
     "data": {
      "text/html": [
       "<table border=\"1\" class=\"dataframe\">\n",
       "  <thead>\n",
       "    <tr style=\"text-align: left;\">\n",
       "      <th>epoch</th>\n",
       "      <th>train_loss</th>\n",
       "      <th>train_accuracy</th>\n",
       "      <th>valid_loss</th>\n",
       "      <th>valid_accuracy</th>\n",
       "      <th>time</th>\n",
       "    </tr>\n",
       "  </thead>\n",
       "  <tbody>\n",
       "    <tr>\n",
       "      <td>0</td>\n",
       "      <td>2.192717</td>\n",
       "      <td>0.224820</td>\n",
       "      <td>2.443135</td>\n",
       "      <td>0.203360</td>\n",
       "      <td>00:15</td>\n",
       "    </tr>\n",
       "    <tr>\n",
       "      <td>1</td>\n",
       "      <td>1.992260</td>\n",
       "      <td>0.322105</td>\n",
       "      <td>2.807140</td>\n",
       "      <td>0.242555</td>\n",
       "      <td>00:15</td>\n",
       "    </tr>\n",
       "    <tr>\n",
       "      <td>2</td>\n",
       "      <td>1.864577</td>\n",
       "      <td>0.379612</td>\n",
       "      <td>2.529550</td>\n",
       "      <td>0.251209</td>\n",
       "      <td>00:15</td>\n",
       "    </tr>\n",
       "    <tr>\n",
       "      <td>3</td>\n",
       "      <td>1.667061</td>\n",
       "      <td>0.468366</td>\n",
       "      <td>1.714755</td>\n",
       "      <td>0.459913</td>\n",
       "      <td>00:15</td>\n",
       "    </tr>\n",
       "    <tr>\n",
       "      <td>4</td>\n",
       "      <td>1.445519</td>\n",
       "      <td>0.583380</td>\n",
       "      <td>1.519326</td>\n",
       "      <td>0.548995</td>\n",
       "      <td>00:16</td>\n",
       "    </tr>\n",
       "  </tbody>\n",
       "</table>"
      ],
      "text/plain": [
       "<IPython.core.display.HTML object>"
      ]
     },
     "metadata": {},
     "output_type": "display_data"
    }
   ],
   "source": [
    "learn.fit(epochs)"
   ]
  },
  {
   "cell_type": "markdown",
   "id": "physical-saskatchewan",
   "metadata": {},
   "source": [
    "# Save model"
   ]
  },
  {
   "cell_type": "code",
   "execution_count": 20,
   "id": "sealed-leather",
   "metadata": {
    "execution": {
     "iopub.execute_input": "2021-05-15T09:35:45.370918Z",
     "iopub.status.busy": "2021-05-15T09:35:45.370728Z",
     "iopub.status.idle": "2021-05-15T09:35:45.665768Z",
     "shell.execute_reply": "2021-05-15T09:35:45.664444Z",
     "shell.execute_reply.started": "2021-05-15T09:35:45.370896Z"
    }
   },
   "outputs": [],
   "source": [
    "sm1 = save_model(learn, \"5epoch\", fpath)"
   ]
  },
  {
   "cell_type": "markdown",
   "id": "republican-stockholm",
   "metadata": {},
   "source": [
    "# New data "
   ]
  },
  {
   "cell_type": "code",
   "execution_count": 8,
   "id": "dutch-closing",
   "metadata": {
    "execution": {
     "iopub.execute_input": "2021-05-15T09:43:50.469932Z",
     "iopub.status.busy": "2021-05-15T09:43:50.469747Z",
     "iopub.status.idle": "2021-05-15T09:43:50.481423Z",
     "shell.execute_reply": "2021-05-15T09:43:50.480748Z",
     "shell.execute_reply.started": "2021-05-15T09:43:50.469912Z"
    }
   },
   "outputs": [],
   "source": [
    "tfms = [make_rgb, ResizeFixed(256), to_byte_tensor, to_float_tensor]\n",
    "cbfs = [\n",
    "    partial(AvgStatsCallback,accuracy),\n",
    "    partial(ParamScheduler, 'lr', sched_lr),\n",
    "    partial(ParamScheduler, 'mom', sched_mom),\n",
    "        partial(BatchTransformXCallback, norm_imagenette),\n",
    "    ProgressCallback,\n",
    "#     Recorder,\n",
    "#     MixUp,\n",
    "       partial(CudaCallback, device)]\n",
    "bs = 64"
   ]
  },
  {
   "cell_type": "code",
   "execution_count": 9,
   "id": "normal-lunch",
   "metadata": {
    "execution": {
     "iopub.execute_input": "2021-05-15T09:43:50.691855Z",
     "iopub.status.busy": "2021-05-15T09:43:50.691683Z",
     "iopub.status.idle": "2021-05-15T09:43:50.762870Z",
     "shell.execute_reply": "2021-05-15T09:43:50.762421Z",
     "shell.execute_reply.started": "2021-05-15T09:43:50.691840Z"
    }
   },
   "outputs": [],
   "source": [
    "il = ImageList.from_files(fpath, tfms=tfms)"
   ]
  },
  {
   "cell_type": "code",
   "execution_count": 10,
   "id": "saving-stone",
   "metadata": {
    "execution": {
     "iopub.execute_input": "2021-05-15T09:43:51.236888Z",
     "iopub.status.busy": "2021-05-15T09:43:51.236719Z",
     "iopub.status.idle": "2021-05-15T09:43:51.278196Z",
     "shell.execute_reply": "2021-05-15T09:43:51.277781Z",
     "shell.execute_reply.started": "2021-05-15T09:43:51.236861Z"
    }
   },
   "outputs": [],
   "source": [
    "sd = SplitData.split_by_func(il, partial(grandparent_splitter, valid_name='val'))\n",
    "ll = label_by_func(sd, parent_labeler, proc_y=CategoryProcessor())"
   ]
  },
  {
   "cell_type": "code",
   "execution_count": 11,
   "id": "abandoned-commodity",
   "metadata": {
    "execution": {
     "iopub.execute_input": "2021-05-15T09:43:51.718899Z",
     "iopub.status.busy": "2021-05-15T09:43:51.718734Z",
     "iopub.status.idle": "2021-05-15T09:43:51.726147Z",
     "shell.execute_reply": "2021-05-15T09:43:51.725713Z",
     "shell.execute_reply.started": "2021-05-15T09:43:51.718872Z"
    }
   },
   "outputs": [],
   "source": [
    "data = ll.to_databunch(bs, c_in=3, c_out=10)"
   ]
  },
  {
   "cell_type": "code",
   "execution_count": 17,
   "id": "understanding-jurisdiction",
   "metadata": {
    "execution": {
     "iopub.execute_input": "2021-05-15T09:51:33.744666Z",
     "iopub.status.busy": "2021-05-15T09:51:33.744496Z",
     "iopub.status.idle": "2021-05-15T09:51:33.893050Z",
     "shell.execute_reply": "2021-05-15T09:51:33.892622Z",
     "shell.execute_reply.started": "2021-05-15T09:51:33.744638Z"
    }
   },
   "outputs": [],
   "source": [
    "# learn = get_learner(nfs, data, lr, conv_layer, cb_funcs=cbfs)\n",
    "learn = Learner(arch(), data, loss_func, lr=lr, cb_funcs=cbfs, opt_func=opt_func)"
   ]
  },
  {
   "cell_type": "code",
   "execution_count": 19,
   "id": "changed-selection",
   "metadata": {
    "execution": {
     "iopub.execute_input": "2021-05-15T09:51:39.146744Z",
     "iopub.status.busy": "2021-05-15T09:51:39.146575Z",
     "iopub.status.idle": "2021-05-15T09:51:39.995330Z",
     "shell.execute_reply": "2021-05-15T09:51:39.994877Z",
     "shell.execute_reply.started": "2021-05-15T09:51:39.146716Z"
    }
   },
   "outputs": [
    {
     "data": {
      "text/html": [
       "<table border=\"1\" class=\"dataframe\">\n",
       "  <thead>\n",
       "    <tr style=\"text-align: left;\">\n",
       "      <th>epoch</th>\n",
       "      <th>train_loss</th>\n",
       "      <th>train_accuracy</th>\n",
       "      <th>valid_loss</th>\n",
       "      <th>valid_accuracy</th>\n",
       "      <th>time</th>\n",
       "    </tr>\n",
       "  </thead>\n",
       "  <tbody>\n",
       "  </tbody>\n",
       "</table>"
      ],
      "text/plain": [
       "<IPython.core.display.HTML object>"
      ]
     },
     "metadata": {},
     "output_type": "display_data"
    }
   ],
   "source": [
    "adapt_model(learn, data, \"/media/hdd/Datasets/imagewoof2-160/models/5epoch\")"
   ]
  },
  {
   "cell_type": "code",
   "execution_count": 14,
   "id": "changed-tribute",
   "metadata": {
    "execution": {
     "iopub.execute_input": "2021-05-15T09:43:54.676173Z",
     "iopub.status.busy": "2021-05-15T09:43:54.675652Z",
     "iopub.status.idle": "2021-05-15T09:44:45.451123Z",
     "shell.execute_reply": "2021-05-15T09:44:45.450477Z",
     "shell.execute_reply.started": "2021-05-15T09:43:54.676106Z"
    }
   },
   "outputs": [
    {
     "data": {
      "text/html": [
       "\n",
       "    <div>\n",
       "        <style>\n",
       "            /* Turns off some styling */\n",
       "            progress {\n",
       "                /* gets rid of default border in Firefox and Opera. */\n",
       "                border: none;\n",
       "                /* Needs to be in here for Safari polyfill so background images work as expected. */\n",
       "                background-size: auto;\n",
       "            }\n",
       "            .progress-bar-interrupted, .progress-bar-interrupted::-webkit-progress-bar {\n",
       "                background: #F44336;\n",
       "            }\n",
       "        </style>\n",
       "      <progress value='0' class='' max='5' style='width:300px; height:20px; vertical-align: middle;'></progress>\n",
       "      \n",
       "    </div>\n",
       "    \n"
      ],
      "text/plain": [
       "<IPython.core.display.HTML object>"
      ]
     },
     "metadata": {},
     "output_type": "display_data"
    },
    {
     "data": {
      "text/html": [
       "<table border=\"1\" class=\"dataframe\">\n",
       "  <thead>\n",
       "    <tr style=\"text-align: left;\">\n",
       "      <th>epoch</th>\n",
       "      <th>train_loss</th>\n",
       "      <th>train_accuracy</th>\n",
       "      <th>valid_loss</th>\n",
       "      <th>valid_accuracy</th>\n",
       "      <th>time</th>\n",
       "    </tr>\n",
       "  </thead>\n",
       "  <tbody>\n",
       "    <tr>\n",
       "      <td>0</td>\n",
       "      <td>1.804654</td>\n",
       "      <td>0.412742</td>\n",
       "      <td>2.172411</td>\n",
       "      <td>0.331637</td>\n",
       "      <td>00:45</td>\n",
       "    </tr>\n",
       "  </tbody>\n",
       "</table>"
      ],
      "text/plain": [
       "<IPython.core.display.HTML object>"
      ]
     },
     "metadata": {},
     "output_type": "display_data"
    },
    {
     "ename": "KeyboardInterrupt",
     "evalue": "",
     "output_type": "error",
     "traceback": [
      "\u001b[0;31m---------------------------------------------------------------------------\u001b[0m",
      "\u001b[0;31mKeyboardInterrupt\u001b[0m                         Traceback (most recent call last)",
      "\u001b[0;32m<ipython-input-14-cec91dca8876>\u001b[0m in \u001b[0;36m<module>\u001b[0;34m\u001b[0m\n\u001b[0;32m----> 1\u001b[0;31m \u001b[0mlearn\u001b[0m\u001b[0;34m.\u001b[0m\u001b[0mfit\u001b[0m\u001b[0;34m(\u001b[0m\u001b[0mepochs\u001b[0m\u001b[0;34m)\u001b[0m\u001b[0;34m\u001b[0m\u001b[0;34m\u001b[0m\u001b[0m\n\u001b[0m",
      "\u001b[0;32m/media/hdd/github/sprintdl/sprintdl/core.py\u001b[0m in \u001b[0;36mfit\u001b[0;34m(self, epochs, cbs, reset_opt)\u001b[0m\n\u001b[1;32m    142\u001b[0m             \u001b[0;32mfor\u001b[0m \u001b[0mepoch\u001b[0m \u001b[0;32min\u001b[0m \u001b[0mrange\u001b[0m\u001b[0;34m(\u001b[0m\u001b[0mepochs\u001b[0m\u001b[0;34m)\u001b[0m\u001b[0;34m:\u001b[0m\u001b[0;34m\u001b[0m\u001b[0;34m\u001b[0m\u001b[0m\n\u001b[1;32m    143\u001b[0m                 \u001b[0;32mif\u001b[0m \u001b[0;32mnot\u001b[0m \u001b[0mself\u001b[0m\u001b[0;34m.\u001b[0m\u001b[0mdo_begin_epoch\u001b[0m\u001b[0;34m(\u001b[0m\u001b[0mepoch\u001b[0m\u001b[0;34m)\u001b[0m\u001b[0;34m:\u001b[0m\u001b[0;34m\u001b[0m\u001b[0;34m\u001b[0m\u001b[0m\n\u001b[0;32m--> 144\u001b[0;31m                     \u001b[0mself\u001b[0m\u001b[0;34m.\u001b[0m\u001b[0mall_batches\u001b[0m\u001b[0;34m(\u001b[0m\u001b[0;34m)\u001b[0m\u001b[0;34m\u001b[0m\u001b[0;34m\u001b[0m\u001b[0m\n\u001b[0m\u001b[1;32m    145\u001b[0m \u001b[0;34m\u001b[0m\u001b[0m\n\u001b[1;32m    146\u001b[0m                 \u001b[0;32mwith\u001b[0m \u001b[0mtorch\u001b[0m\u001b[0;34m.\u001b[0m\u001b[0mno_grad\u001b[0m\u001b[0;34m(\u001b[0m\u001b[0;34m)\u001b[0m\u001b[0;34m:\u001b[0m\u001b[0;34m\u001b[0m\u001b[0;34m\u001b[0m\u001b[0m\n",
      "\u001b[0;32m/media/hdd/github/sprintdl/sprintdl/core.py\u001b[0m in \u001b[0;36mall_batches\u001b[0;34m(self)\u001b[0m\n\u001b[1;32m    121\u001b[0m         \u001b[0;32mtry\u001b[0m\u001b[0;34m:\u001b[0m\u001b[0;34m\u001b[0m\u001b[0;34m\u001b[0m\u001b[0m\n\u001b[1;32m    122\u001b[0m             \u001b[0;32mfor\u001b[0m \u001b[0mi\u001b[0m\u001b[0;34m,\u001b[0m \u001b[0;34m(\u001b[0m\u001b[0mxb\u001b[0m\u001b[0;34m,\u001b[0m \u001b[0myb\u001b[0m\u001b[0;34m)\u001b[0m \u001b[0;32min\u001b[0m \u001b[0menumerate\u001b[0m\u001b[0;34m(\u001b[0m\u001b[0mself\u001b[0m\u001b[0;34m.\u001b[0m\u001b[0mdl\u001b[0m\u001b[0;34m)\u001b[0m\u001b[0;34m:\u001b[0m\u001b[0;34m\u001b[0m\u001b[0;34m\u001b[0m\u001b[0m\n\u001b[0;32m--> 123\u001b[0;31m                 \u001b[0mself\u001b[0m\u001b[0;34m.\u001b[0m\u001b[0mone_batch\u001b[0m\u001b[0;34m(\u001b[0m\u001b[0mi\u001b[0m\u001b[0;34m,\u001b[0m \u001b[0mxb\u001b[0m\u001b[0;34m,\u001b[0m \u001b[0myb\u001b[0m\u001b[0;34m)\u001b[0m\u001b[0;34m\u001b[0m\u001b[0;34m\u001b[0m\u001b[0m\n\u001b[0m\u001b[1;32m    124\u001b[0m         \u001b[0;32mexcept\u001b[0m \u001b[0mCancelEpochException\u001b[0m\u001b[0;34m:\u001b[0m\u001b[0;34m\u001b[0m\u001b[0;34m\u001b[0m\u001b[0m\n\u001b[1;32m    125\u001b[0m             \u001b[0mself\u001b[0m\u001b[0;34m(\u001b[0m\u001b[0;34m\"after_cancel_epoch\"\u001b[0m\u001b[0;34m)\u001b[0m\u001b[0;34m\u001b[0m\u001b[0;34m\u001b[0m\u001b[0m\n",
      "\u001b[0;32m/media/hdd/github/sprintdl/sprintdl/core.py\u001b[0m in \u001b[0;36mone_batch\u001b[0;34m(self, i, xb, yb)\u001b[0m\n\u001b[1;32m    100\u001b[0m             \u001b[0mself\u001b[0m\u001b[0;34m.\u001b[0m\u001b[0miter\u001b[0m \u001b[0;34m=\u001b[0m \u001b[0mi\u001b[0m\u001b[0;34m\u001b[0m\u001b[0;34m\u001b[0m\u001b[0m\n\u001b[1;32m    101\u001b[0m             \u001b[0mself\u001b[0m\u001b[0;34m.\u001b[0m\u001b[0mxb\u001b[0m\u001b[0;34m,\u001b[0m \u001b[0mself\u001b[0m\u001b[0;34m.\u001b[0m\u001b[0myb\u001b[0m \u001b[0;34m=\u001b[0m \u001b[0mxb\u001b[0m\u001b[0;34m,\u001b[0m \u001b[0myb\u001b[0m\u001b[0;34m\u001b[0m\u001b[0;34m\u001b[0m\u001b[0m\n\u001b[0;32m--> 102\u001b[0;31m             \u001b[0mself\u001b[0m\u001b[0;34m(\u001b[0m\u001b[0;34m\"begin_batch\"\u001b[0m\u001b[0;34m)\u001b[0m\u001b[0;34m\u001b[0m\u001b[0;34m\u001b[0m\u001b[0m\n\u001b[0m\u001b[1;32m    103\u001b[0m             \u001b[0mself\u001b[0m\u001b[0;34m.\u001b[0m\u001b[0mpred\u001b[0m \u001b[0;34m=\u001b[0m \u001b[0mself\u001b[0m\u001b[0;34m.\u001b[0m\u001b[0mmodel\u001b[0m\u001b[0;34m(\u001b[0m\u001b[0mself\u001b[0m\u001b[0;34m.\u001b[0m\u001b[0mxb\u001b[0m\u001b[0;34m)\u001b[0m\u001b[0;34m\u001b[0m\u001b[0;34m\u001b[0m\u001b[0m\n\u001b[1;32m    104\u001b[0m             \u001b[0mself\u001b[0m\u001b[0;34m(\u001b[0m\u001b[0;34m\"after_pred\"\u001b[0m\u001b[0;34m)\u001b[0m\u001b[0;34m\u001b[0m\u001b[0;34m\u001b[0m\u001b[0m\n",
      "\u001b[0;32m/media/hdd/github/sprintdl/sprintdl/core.py\u001b[0m in \u001b[0;36m__call__\u001b[0;34m(self, cb_name)\u001b[0m\n\u001b[1;32m    177\u001b[0m         \u001b[0;32massert\u001b[0m \u001b[0mcb_name\u001b[0m \u001b[0;32min\u001b[0m \u001b[0mself\u001b[0m\u001b[0;34m.\u001b[0m\u001b[0mALL_CBS\u001b[0m\u001b[0;34m\u001b[0m\u001b[0;34m\u001b[0m\u001b[0m\n\u001b[1;32m    178\u001b[0m         \u001b[0;32mfor\u001b[0m \u001b[0mcb\u001b[0m \u001b[0;32min\u001b[0m \u001b[0msorted\u001b[0m\u001b[0;34m(\u001b[0m\u001b[0mself\u001b[0m\u001b[0;34m.\u001b[0m\u001b[0mcbs\u001b[0m\u001b[0;34m,\u001b[0m \u001b[0mkey\u001b[0m\u001b[0;34m=\u001b[0m\u001b[0;32mlambda\u001b[0m \u001b[0mx\u001b[0m\u001b[0;34m:\u001b[0m \u001b[0mx\u001b[0m\u001b[0;34m.\u001b[0m\u001b[0m_order\u001b[0m\u001b[0;34m)\u001b[0m\u001b[0;34m:\u001b[0m\u001b[0;34m\u001b[0m\u001b[0;34m\u001b[0m\u001b[0m\n\u001b[0;32m--> 179\u001b[0;31m             \u001b[0mres\u001b[0m \u001b[0;34m=\u001b[0m \u001b[0mcb\u001b[0m\u001b[0;34m(\u001b[0m\u001b[0mcb_name\u001b[0m\u001b[0;34m)\u001b[0m \u001b[0;32mand\u001b[0m \u001b[0mres\u001b[0m\u001b[0;34m\u001b[0m\u001b[0;34m\u001b[0m\u001b[0m\n\u001b[0m\u001b[1;32m    180\u001b[0m         \u001b[0;32mreturn\u001b[0m \u001b[0mres\u001b[0m\u001b[0;34m\u001b[0m\u001b[0;34m\u001b[0m\u001b[0m\n\u001b[1;32m    181\u001b[0m \u001b[0;34m\u001b[0m\u001b[0m\n",
      "\u001b[0;32m/media/hdd/github/sprintdl/sprintdl/callbacks.py\u001b[0m in \u001b[0;36m__call__\u001b[0;34m(self, cb_name)\u001b[0m\n\u001b[1;32m     36\u001b[0m     \u001b[0;32mdef\u001b[0m \u001b[0m__call__\u001b[0m\u001b[0;34m(\u001b[0m\u001b[0mself\u001b[0m\u001b[0;34m,\u001b[0m \u001b[0mcb_name\u001b[0m\u001b[0;34m)\u001b[0m\u001b[0;34m:\u001b[0m\u001b[0;34m\u001b[0m\u001b[0;34m\u001b[0m\u001b[0m\n\u001b[1;32m     37\u001b[0m         \u001b[0mf\u001b[0m \u001b[0;34m=\u001b[0m \u001b[0mgetattr\u001b[0m\u001b[0;34m(\u001b[0m\u001b[0mself\u001b[0m\u001b[0;34m,\u001b[0m \u001b[0mcb_name\u001b[0m\u001b[0;34m,\u001b[0m \u001b[0;32mNone\u001b[0m\u001b[0;34m)\u001b[0m\u001b[0;34m\u001b[0m\u001b[0;34m\u001b[0m\u001b[0m\n\u001b[0;32m---> 38\u001b[0;31m         \u001b[0;32mif\u001b[0m \u001b[0mf\u001b[0m \u001b[0;32mand\u001b[0m \u001b[0mf\u001b[0m\u001b[0;34m(\u001b[0m\u001b[0;34m)\u001b[0m\u001b[0;34m:\u001b[0m\u001b[0;34m\u001b[0m\u001b[0;34m\u001b[0m\u001b[0m\n\u001b[0m\u001b[1;32m     39\u001b[0m             \u001b[0;32mreturn\u001b[0m \u001b[0;32mTrue\u001b[0m\u001b[0;34m\u001b[0m\u001b[0;34m\u001b[0m\u001b[0m\n\u001b[1;32m     40\u001b[0m         \u001b[0;32mreturn\u001b[0m \u001b[0;32mFalse\u001b[0m\u001b[0;34m\u001b[0m\u001b[0;34m\u001b[0m\u001b[0m\n",
      "\u001b[0;32m/media/hdd/github/sprintdl/sprintdl/callbacks.py\u001b[0m in \u001b[0;36mbegin_batch\u001b[0;34m(self)\u001b[0m\n\u001b[1;32m    265\u001b[0m \u001b[0;34m\u001b[0m\u001b[0m\n\u001b[1;32m    266\u001b[0m     \u001b[0;32mdef\u001b[0m \u001b[0mbegin_batch\u001b[0m\u001b[0;34m(\u001b[0m\u001b[0mself\u001b[0m\u001b[0;34m)\u001b[0m\u001b[0;34m:\u001b[0m\u001b[0;34m\u001b[0m\u001b[0;34m\u001b[0m\u001b[0m\n\u001b[0;32m--> 267\u001b[0;31m         \u001b[0mself\u001b[0m\u001b[0;34m.\u001b[0m\u001b[0mrun\u001b[0m\u001b[0;34m.\u001b[0m\u001b[0mxb\u001b[0m\u001b[0;34m,\u001b[0m \u001b[0mself\u001b[0m\u001b[0;34m.\u001b[0m\u001b[0mrun\u001b[0m\u001b[0;34m.\u001b[0m\u001b[0myb\u001b[0m \u001b[0;34m=\u001b[0m \u001b[0mself\u001b[0m\u001b[0;34m.\u001b[0m\u001b[0mxb\u001b[0m\u001b[0;34m.\u001b[0m\u001b[0mto\u001b[0m\u001b[0;34m(\u001b[0m\u001b[0mself\u001b[0m\u001b[0;34m.\u001b[0m\u001b[0mdevice\u001b[0m\u001b[0;34m)\u001b[0m\u001b[0;34m,\u001b[0m \u001b[0mself\u001b[0m\u001b[0;34m.\u001b[0m\u001b[0myb\u001b[0m\u001b[0;34m.\u001b[0m\u001b[0mto\u001b[0m\u001b[0;34m(\u001b[0m\u001b[0mself\u001b[0m\u001b[0;34m.\u001b[0m\u001b[0mdevice\u001b[0m\u001b[0;34m)\u001b[0m\u001b[0;34m\u001b[0m\u001b[0;34m\u001b[0m\u001b[0m\n\u001b[0m\u001b[1;32m    268\u001b[0m \u001b[0;34m\u001b[0m\u001b[0m\n\u001b[1;32m    269\u001b[0m \u001b[0;34m\u001b[0m\u001b[0m\n",
      "\u001b[0;31mKeyboardInterrupt\u001b[0m: "
     ]
    }
   ],
   "source": [
    "learn.fit(epochs)"
   ]
  },
  {
   "cell_type": "code",
   "execution_count": 20,
   "id": "statistical-store",
   "metadata": {
    "execution": {
     "iopub.execute_input": "2021-05-15T09:52:08.201353Z",
     "iopub.status.busy": "2021-05-15T09:52:08.200797Z",
     "iopub.status.idle": "2021-05-15T09:52:08.220433Z",
     "shell.execute_reply": "2021-05-15T09:52:08.220104Z",
     "shell.execute_reply.started": "2021-05-15T09:52:08.201271Z"
    }
   },
   "outputs": [],
   "source": []
  },
  {
   "cell_type": "code",
   "execution_count": null,
   "id": "indian-feeding",
   "metadata": {},
   "outputs": [],
   "source": []
  }
 ],
 "metadata": {
  "kernelspec": {
   "display_name": "Python 3",
   "language": "python",
   "name": "python3"
  },
  "language_info": {
   "codemirror_mode": {
    "name": "ipython",
    "version": 3
   },
   "file_extension": ".py",
   "mimetype": "text/x-python",
   "name": "python",
   "nbconvert_exporter": "python",
   "pygments_lexer": "ipython3",
   "version": "3.9.1"
  },
  "toc": {
   "base_numbering": 1,
   "nav_menu": {},
   "number_sections": true,
   "sideBar": true,
   "skip_h1_title": false,
   "title_cell": "Table of Contents",
   "title_sidebar": "Contents",
   "toc_cell": false,
   "toc_position": {},
   "toc_section_display": true,
   "toc_window_display": true
  },
  "varInspector": {
   "cols": {
    "lenName": 16,
    "lenType": 16,
    "lenVar": 40
   },
   "kernels_config": {
    "python": {
     "delete_cmd_postfix": "",
     "delete_cmd_prefix": "del ",
     "library": "var_list.py",
     "varRefreshCmd": "print(var_dic_list())"
    },
    "r": {
     "delete_cmd_postfix": ") ",
     "delete_cmd_prefix": "rm(",
     "library": "var_list.r",
     "varRefreshCmd": "cat(var_dic_list()) "
    }
   },
   "types_to_exclude": [
    "module",
    "function",
    "builtin_function_or_method",
    "instance",
    "_Feature"
   ],
   "window_display": false
  }
 },
 "nbformat": 4,
 "nbformat_minor": 5
}
