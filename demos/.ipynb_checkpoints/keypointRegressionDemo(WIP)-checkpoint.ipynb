{
 "cells": [
  {
   "cell_type": "code",
   "execution_count": 2,
   "id": "indian-avenue",
   "metadata": {
    "execution": {
     "iopub.execute_input": "2021-05-18T04:48:38.083571Z",
     "iopub.status.busy": "2021-05-18T04:48:38.083431Z",
     "iopub.status.idle": "2021-05-18T04:48:41.216311Z",
     "shell.execute_reply": "2021-05-18T04:48:41.215832Z",
     "shell.execute_reply.started": "2021-05-18T04:48:38.083556Z"
    }
   },
   "outputs": [],
   "source": [
    "%load_ext autoreload\n",
    "%autoreload 2\n",
    "\n",
    "%matplotlib inline\n",
    "\n",
    "import sys\n",
    "sys.path.append(\"../\")\n",
    "\n",
    "from sprintdl.main import *\n",
    "from sprintdl.models.efficientnet import *\n",
    "from sprintdl.models.xresnet import *\n",
    "\n",
    "device = torch.device('cuda',0)\n",
    "from torch.nn import init\n",
    "import torch\n",
    "import math"
   ]
  },
  {
   "cell_type": "markdown",
   "id": "accurate-emergency",
   "metadata": {},
   "source": [
    "# Preprocess"
   ]
  },
  {
   "cell_type": "code",
   "execution_count": 24,
   "id": "polished-aquarium",
   "metadata": {
    "execution": {
     "iopub.execute_input": "2021-05-18T04:53:10.892770Z",
     "iopub.status.busy": "2021-05-18T04:53:10.892600Z",
     "iopub.status.idle": "2021-05-18T04:53:12.367277Z",
     "shell.execute_reply": "2021-05-18T04:53:12.366088Z",
     "shell.execute_reply.started": "2021-05-18T04:53:10.892741Z"
    }
   },
   "outputs": [],
   "source": [
    "import pandas as pd\n",
    "import shutil\n",
    "from PIL import Image\n",
    "fpath = Path(\"/media/hdd/Datasets/faceKeypoint/\")\n",
    "t_path = fpath/\"training.csv\"\n",
    "id_l = pd.read_csv(t_path)"
   ]
  },
  {
   "cell_type": "code",
   "execution_count": 25,
   "id": "nearby-backing",
   "metadata": {
    "execution": {
     "iopub.execute_input": "2021-05-18T04:53:12.370304Z",
     "iopub.status.busy": "2021-05-18T04:53:12.369790Z",
     "iopub.status.idle": "2021-05-18T04:53:12.400558Z",
     "shell.execute_reply": "2021-05-18T04:53:12.399950Z",
     "shell.execute_reply.started": "2021-05-18T04:53:12.370254Z"
    }
   },
   "outputs": [
    {
     "data": {
      "text/html": [
       "<div>\n",
       "<style scoped>\n",
       "    .dataframe tbody tr th:only-of-type {\n",
       "        vertical-align: middle;\n",
       "    }\n",
       "\n",
       "    .dataframe tbody tr th {\n",
       "        vertical-align: top;\n",
       "    }\n",
       "\n",
       "    .dataframe thead th {\n",
       "        text-align: right;\n",
       "    }\n",
       "</style>\n",
       "<table border=\"1\" class=\"dataframe\">\n",
       "  <thead>\n",
       "    <tr style=\"text-align: right;\">\n",
       "      <th></th>\n",
       "      <th>left_eye_center_x</th>\n",
       "      <th>left_eye_center_y</th>\n",
       "      <th>right_eye_center_x</th>\n",
       "      <th>right_eye_center_y</th>\n",
       "      <th>left_eye_inner_corner_x</th>\n",
       "      <th>left_eye_inner_corner_y</th>\n",
       "      <th>left_eye_outer_corner_x</th>\n",
       "      <th>left_eye_outer_corner_y</th>\n",
       "      <th>right_eye_inner_corner_x</th>\n",
       "      <th>right_eye_inner_corner_y</th>\n",
       "      <th>...</th>\n",
       "      <th>nose_tip_y</th>\n",
       "      <th>mouth_left_corner_x</th>\n",
       "      <th>mouth_left_corner_y</th>\n",
       "      <th>mouth_right_corner_x</th>\n",
       "      <th>mouth_right_corner_y</th>\n",
       "      <th>mouth_center_top_lip_x</th>\n",
       "      <th>mouth_center_top_lip_y</th>\n",
       "      <th>mouth_center_bottom_lip_x</th>\n",
       "      <th>mouth_center_bottom_lip_y</th>\n",
       "      <th>Image</th>\n",
       "    </tr>\n",
       "  </thead>\n",
       "  <tbody>\n",
       "    <tr>\n",
       "      <th>0</th>\n",
       "      <td>66.033564</td>\n",
       "      <td>39.002274</td>\n",
       "      <td>30.227008</td>\n",
       "      <td>36.421678</td>\n",
       "      <td>59.582075</td>\n",
       "      <td>39.647423</td>\n",
       "      <td>73.130346</td>\n",
       "      <td>39.969997</td>\n",
       "      <td>36.356571</td>\n",
       "      <td>37.389402</td>\n",
       "      <td>...</td>\n",
       "      <td>57.066803</td>\n",
       "      <td>61.195308</td>\n",
       "      <td>79.970165</td>\n",
       "      <td>28.614496</td>\n",
       "      <td>77.388992</td>\n",
       "      <td>43.312602</td>\n",
       "      <td>72.935459</td>\n",
       "      <td>43.130707</td>\n",
       "      <td>84.485774</td>\n",
       "      <td>238 236 237 238 240 240 239 241 241 243 240 23...</td>\n",
       "    </tr>\n",
       "    <tr>\n",
       "      <th>1</th>\n",
       "      <td>64.332936</td>\n",
       "      <td>34.970077</td>\n",
       "      <td>29.949277</td>\n",
       "      <td>33.448715</td>\n",
       "      <td>58.856170</td>\n",
       "      <td>35.274349</td>\n",
       "      <td>70.722723</td>\n",
       "      <td>36.187166</td>\n",
       "      <td>36.034723</td>\n",
       "      <td>34.361532</td>\n",
       "      <td>...</td>\n",
       "      <td>55.660936</td>\n",
       "      <td>56.421447</td>\n",
       "      <td>76.352000</td>\n",
       "      <td>35.122383</td>\n",
       "      <td>76.047660</td>\n",
       "      <td>46.684596</td>\n",
       "      <td>70.266553</td>\n",
       "      <td>45.467915</td>\n",
       "      <td>85.480170</td>\n",
       "      <td>219 215 204 196 204 211 212 200 180 168 178 19...</td>\n",
       "    </tr>\n",
       "    <tr>\n",
       "      <th>2</th>\n",
       "      <td>65.057053</td>\n",
       "      <td>34.909642</td>\n",
       "      <td>30.903789</td>\n",
       "      <td>34.909642</td>\n",
       "      <td>59.412000</td>\n",
       "      <td>36.320968</td>\n",
       "      <td>70.984421</td>\n",
       "      <td>36.320968</td>\n",
       "      <td>37.678105</td>\n",
       "      <td>36.320968</td>\n",
       "      <td>...</td>\n",
       "      <td>53.538947</td>\n",
       "      <td>60.822947</td>\n",
       "      <td>73.014316</td>\n",
       "      <td>33.726316</td>\n",
       "      <td>72.732000</td>\n",
       "      <td>47.274947</td>\n",
       "      <td>70.191789</td>\n",
       "      <td>47.274947</td>\n",
       "      <td>78.659368</td>\n",
       "      <td>144 142 159 180 188 188 184 180 167 132 84 59 ...</td>\n",
       "    </tr>\n",
       "  </tbody>\n",
       "</table>\n",
       "<p>3 rows × 31 columns</p>\n",
       "</div>"
      ],
      "text/plain": [
       "   left_eye_center_x  left_eye_center_y  right_eye_center_x  \\\n",
       "0          66.033564          39.002274           30.227008   \n",
       "1          64.332936          34.970077           29.949277   \n",
       "2          65.057053          34.909642           30.903789   \n",
       "\n",
       "   right_eye_center_y  left_eye_inner_corner_x  left_eye_inner_corner_y  \\\n",
       "0           36.421678                59.582075                39.647423   \n",
       "1           33.448715                58.856170                35.274349   \n",
       "2           34.909642                59.412000                36.320968   \n",
       "\n",
       "   left_eye_outer_corner_x  left_eye_outer_corner_y  right_eye_inner_corner_x  \\\n",
       "0                73.130346                39.969997                 36.356571   \n",
       "1                70.722723                36.187166                 36.034723   \n",
       "2                70.984421                36.320968                 37.678105   \n",
       "\n",
       "   right_eye_inner_corner_y  ...  nose_tip_y  mouth_left_corner_x  \\\n",
       "0                 37.389402  ...   57.066803            61.195308   \n",
       "1                 34.361532  ...   55.660936            56.421447   \n",
       "2                 36.320968  ...   53.538947            60.822947   \n",
       "\n",
       "   mouth_left_corner_y  mouth_right_corner_x  mouth_right_corner_y  \\\n",
       "0            79.970165             28.614496             77.388992   \n",
       "1            76.352000             35.122383             76.047660   \n",
       "2            73.014316             33.726316             72.732000   \n",
       "\n",
       "   mouth_center_top_lip_x  mouth_center_top_lip_y  mouth_center_bottom_lip_x  \\\n",
       "0               43.312602               72.935459                  43.130707   \n",
       "1               46.684596               70.266553                  45.467915   \n",
       "2               47.274947               70.191789                  47.274947   \n",
       "\n",
       "   mouth_center_bottom_lip_y  \\\n",
       "0                  84.485774   \n",
       "1                  85.480170   \n",
       "2                  78.659368   \n",
       "\n",
       "                                               Image  \n",
       "0  238 236 237 238 240 240 239 241 241 243 240 23...  \n",
       "1  219 215 204 196 204 211 212 200 180 168 178 19...  \n",
       "2  144 142 159 180 188 188 184 180 167 132 84 59 ...  \n",
       "\n",
       "[3 rows x 31 columns]"
      ]
     },
     "execution_count": 25,
     "metadata": {},
     "output_type": "execute_result"
    }
   ],
   "source": [
    "id_l.head(3)"
   ]
  },
  {
   "cell_type": "code",
   "execution_count": 26,
   "id": "expanded-export",
   "metadata": {
    "execution": {
     "iopub.execute_input": "2021-05-18T04:53:12.402304Z",
     "iopub.status.busy": "2021-05-18T04:53:12.402019Z",
     "iopub.status.idle": "2021-05-18T04:53:12.427744Z",
     "shell.execute_reply": "2021-05-18T04:53:12.427305Z",
     "shell.execute_reply.started": "2021-05-18T04:53:12.402290Z"
    }
   },
   "outputs": [],
   "source": [
    "for c in id_l.columns:\n",
    "    if(id_l[c].dtype!='object'):\n",
    "        id_l[c]=id_l[c].fillna(id_l[c].median())"
   ]
  },
  {
   "cell_type": "code",
   "execution_count": 126,
   "id": "studied-qatar",
   "metadata": {
    "execution": {
     "iopub.execute_input": "2021-05-18T05:04:46.616822Z",
     "iopub.status.busy": "2021-05-18T05:04:46.616261Z",
     "iopub.status.idle": "2021-05-18T05:04:46.644601Z",
     "shell.execute_reply": "2021-05-18T05:04:46.643597Z",
     "shell.execute_reply.started": "2021-05-18T05:04:46.616757Z"
    }
   },
   "outputs": [],
   "source": [
    "import torchvision\n",
    "import tqdm"
   ]
  },
  {
   "cell_type": "code",
   "execution_count": 127,
   "id": "simplified-parade",
   "metadata": {
    "execution": {
     "iopub.execute_input": "2021-05-18T05:04:51.651486Z",
     "iopub.status.busy": "2021-05-18T05:04:51.651351Z",
     "iopub.status.idle": "2021-05-18T05:04:51.666282Z",
     "shell.execute_reply": "2021-05-18T05:04:51.665869Z",
     "shell.execute_reply.started": "2021-05-18T05:04:51.651472Z"
    }
   },
   "outputs": [],
   "source": [
    "def save_str_img(strimg,w,h,flpath):\n",
    "    px=255-np.array(strimg.split(),dtype=float)\n",
    "    if(len(px)==w*h and len(px)%w==0 and len(px)%h==0):\n",
    "        cpx = list(px.reshape(w,h))\n",
    "        img = torchvision.transforms.functional.to_pil_image(tensor([cpx,cpx,cpx]))\n",
    "        img.save(flpath)\n",
    "        return img\n",
    "    else:\n",
    "        raise Exception(\"Invalid height and width\")"
   ]
  },
  {
   "cell_type": "code",
   "execution_count": 128,
   "id": "political-prayer",
   "metadata": {
    "execution": {
     "iopub.execute_input": "2021-05-18T05:04:52.343328Z",
     "iopub.status.busy": "2021-05-18T05:04:52.343192Z",
     "iopub.status.idle": "2021-05-18T05:04:52.355480Z",
     "shell.execute_reply": "2021-05-18T05:04:52.355013Z",
     "shell.execute_reply.started": "2021-05-18T05:04:52.343313Z"
    }
   },
   "outputs": [],
   "source": [
    "train_im_path = fpath/\"trainImages\"\n",
    "\n",
    "train_im_path.mkdir(exist_ok=True)"
   ]
  },
  {
   "cell_type": "code",
   "execution_count": 132,
   "id": "ruled-norway",
   "metadata": {
    "execution": {
     "iopub.execute_input": "2021-05-18T05:05:38.852097Z",
     "iopub.status.busy": "2021-05-18T05:05:38.851470Z",
     "iopub.status.idle": "2021-05-18T05:05:38.873622Z",
     "shell.execute_reply": "2021-05-18T05:05:38.873244Z",
     "shell.execute_reply.started": "2021-05-18T05:05:38.852027Z"
    }
   },
   "outputs": [
    {
     "data": {
      "text/plain": [
       "(7049, 31)"
      ]
     },
     "execution_count": 132,
     "metadata": {},
     "output_type": "execute_result"
    }
   ],
   "source": [
    "id_l.shape"
   ]
  },
  {
   "cell_type": "code",
   "execution_count": 133,
   "id": "reliable-gravity",
   "metadata": {
    "execution": {
     "iopub.execute_input": "2021-05-18T05:05:50.958840Z",
     "iopub.status.busy": "2021-05-18T05:05:50.958010Z",
     "iopub.status.idle": "2021-05-18T05:06:09.445209Z",
     "shell.execute_reply": "2021-05-18T05:06:09.444782Z",
     "shell.execute_reply.started": "2021-05-18T05:05:50.958738Z"
    }
   },
   "outputs": [
    {
     "name": "stderr",
     "output_type": "stream",
     "text": [
      "100%|██████████| 7049/7049 [00:18<00:00, 382.06it/s]\n"
     ]
    }
   ],
   "source": [
    "for index, train_row in tqdm.tqdm(id_l.iterrows(), total = id_l.shape[0]):\n",
    "    save_str_img(train_row.Image,96,96,train_im_path/(str(index)+'.jpg'))"
   ]
  },
  {
   "cell_type": "code",
   "execution_count": 135,
   "id": "christian-grammar",
   "metadata": {
    "execution": {
     "iopub.execute_input": "2021-05-18T05:08:42.424360Z",
     "iopub.status.busy": "2021-05-18T05:08:42.424156Z",
     "iopub.status.idle": "2021-05-18T05:08:42.443284Z",
     "shell.execute_reply": "2021-05-18T05:08:42.442575Z",
     "shell.execute_reply.started": "2021-05-18T05:08:42.424337Z"
    }
   },
   "outputs": [],
   "source": [
    "class PreProcessor():\n",
    "    \"Basic class for a processor that will be applied to items at the end of the data block API.\"\n",
    "    def __init__(self, ds:Collection=None):  self.ref_ds = ds\n",
    "    def process_one(self, item:Any):         return item\n",
    "    def process(self, ds:Collection):        ds.items = array([self.process_one(item) for item in ds.items])\n"
   ]
  },
  {
   "cell_type": "code",
   "execution_count": 142,
   "id": "hybrid-depth",
   "metadata": {
    "execution": {
     "iopub.execute_input": "2021-05-18T05:12:01.210368Z",
     "iopub.status.busy": "2021-05-18T05:12:01.210233Z",
     "iopub.status.idle": "2021-05-18T05:12:01.225985Z",
     "shell.execute_reply": "2021-05-18T05:12:01.225607Z",
     "shell.execute_reply.started": "2021-05-18T05:12:01.210354Z"
    }
   },
   "outputs": [],
   "source": [
    "class PointsProcessor(PreProcessor):\n",
    "    \"`PreProcessor` that stores the number of targets for point regression.\"\n",
    "    def __init__(self, ds:ItemList): self.c = len(ds.items[0].reshape(-1))\n",
    "    def process(self, ds:ItemList):  ds.c = self.c\n",
    "\n",
    "class PointsLabelList(ItemList):\n",
    "    \"`ItemList` for points.\"\n",
    "    _processor = PointsProcessor\n",
    "    def __init__(self, items:Iterator, **kwargs):\n",
    "        super().__init__(items, **kwargs)\n",
    "        self.loss_func = MSELossFlat()\n",
    "\n",
    "    def get(self, i):\n",
    "        o = super().get(i)\n",
    "        return ImagePoints(FlowField(_get_size(self.x,i), o), scale=True)\n",
    "\n",
    "    def analyze_pred(self, pred, thresh:float=0.5): return pred.view(-1,2)\n",
    "    def reconstruct(self, t, x): return ImagePoints(FlowField(x.size, t), scale=False)\n",
    "\n",
    "class PointsItemList(ImageList):\n",
    "    \"`ItemList` for `Image` to `ImagePoints` tasks.\"\n",
    "    _label_cls,_square_show_res = PointsLabelList,False"
   ]
  },
  {
   "cell_type": "markdown",
   "id": "younger-sending",
   "metadata": {},
   "source": [
    "# Define required"
   ]
  },
  {
   "cell_type": "code",
   "execution_count": 239,
   "id": "august-sympathy",
   "metadata": {
    "execution": {
     "iopub.execute_input": "2021-05-18T05:35:14.490292Z",
     "iopub.status.busy": "2021-05-18T05:35:14.490111Z",
     "iopub.status.idle": "2021-05-18T05:35:14.503461Z",
     "shell.execute_reply": "2021-05-18T05:35:14.502961Z",
     "shell.execute_reply.started": "2021-05-18T05:35:14.490264Z"
    }
   },
   "outputs": [],
   "source": [
    "def pilToTensor(item):\n",
    "    return torchvision.transforms.functional.pil_to_tensor(test)"
   ]
  },
  {
   "cell_type": "code",
   "execution_count": 299,
   "id": "exact-recall",
   "metadata": {
    "execution": {
     "iopub.execute_input": "2021-05-18T05:38:11.359930Z",
     "iopub.status.busy": "2021-05-18T05:38:11.359787Z",
     "iopub.status.idle": "2021-05-18T05:38:11.372289Z",
     "shell.execute_reply": "2021-05-18T05:38:11.371482Z",
     "shell.execute_reply.started": "2021-05-18T05:38:11.359915Z"
    }
   },
   "outputs": [],
   "source": [
    "# tfms = [make_rgb, to_byte_tensor, to_float_tensor, pilToTensor]\n",
    "tfms = [make_rgb, pilToTensor]\n",
    "bs = 128"
   ]
  },
  {
   "cell_type": "code",
   "execution_count": 300,
   "id": "persistent-improvement",
   "metadata": {
    "execution": {
     "iopub.execute_input": "2021-05-18T05:38:11.559560Z",
     "iopub.status.busy": "2021-05-18T05:38:11.559028Z",
     "iopub.status.idle": "2021-05-18T05:38:11.596529Z",
     "shell.execute_reply": "2021-05-18T05:38:11.595777Z",
     "shell.execute_reply.started": "2021-05-18T05:38:11.559497Z"
    }
   },
   "outputs": [],
   "source": [
    "def mloss(y_true, y_pred):\n",
    "    y_true=y_true.view(-1,15,2)\n",
    "    \n",
    "    y_true[:,:,0]=y_true[:,:,0].clone()-y_pred[:,:,0]\n",
    "    y_true[:,:,1]=y_true[:,:,1].clone()-y_pred[:,:,1]\n",
    "    \n",
    "    y_true[:,:,0]=y_true[:,:,0].clone()**2\n",
    "    y_true[:,:,1]=y_true[:,:,1].clone()**2\n",
    "    \n",
    "    return y_true.sum(dim=2).sum(dim=1).sum()\n"
   ]
  },
  {
   "cell_type": "code",
   "execution_count": 301,
   "id": "returning-aging",
   "metadata": {
    "execution": {
     "iopub.execute_input": "2021-05-18T05:38:11.729353Z",
     "iopub.status.busy": "2021-05-18T05:38:11.728817Z",
     "iopub.status.idle": "2021-05-18T05:38:11.766162Z",
     "shell.execute_reply": "2021-05-18T05:38:11.765577Z",
     "shell.execute_reply.started": "2021-05-18T05:38:11.729291Z"
    }
   },
   "outputs": [],
   "source": [
    "lr = 1e-2\n",
    "pct_start = 0.5\n",
    "phases = create_phases(pct_start)\n",
    "sched_lr  = combine_scheds(phases, cos_1cycle_anneal(lr/10., lr, lr/1e5))\n",
    "sched_mom = combine_scheds(phases, cos_1cycle_anneal(0.95, 0.85, 0.95))\n",
    "\n",
    "cbfs = [\n",
    "    partial(AvgStatsCallback,accuracy),\n",
    "    partial(ParamScheduler, 'lr', sched_lr),\n",
    "    partial(ParamScheduler, 'mom', sched_mom),\n",
    "        partial(BatchTransformXCallback, norm_imagenette),\n",
    "    ProgressCallback,\n",
    "    Recorder,\n",
    "       partial(CudaCallback, device)]\n",
    "\n",
    "loss_func=mloss\n",
    "lr = .001\n",
    "opt_func = adam_opt(mom=0.9, mom_sqr=0.99, eps=1e-6, wd=1e-2)"
   ]
  },
  {
   "cell_type": "code",
   "execution_count": 302,
   "id": "innovative-consciousness",
   "metadata": {
    "execution": {
     "iopub.execute_input": "2021-05-18T05:38:12.385529Z",
     "iopub.status.busy": "2021-05-18T05:38:12.385389Z",
     "iopub.status.idle": "2021-05-18T05:38:12.423183Z",
     "shell.execute_reply": "2021-05-18T05:38:12.422674Z",
     "shell.execute_reply.started": "2021-05-18T05:38:12.385514Z"
    }
   },
   "outputs": [],
   "source": [
    "data = PointsItemList.from_files(train_im_path, tfms = tfms)"
   ]
  },
  {
   "cell_type": "code",
   "execution_count": 303,
   "id": "extraordinary-mechanism",
   "metadata": {
    "execution": {
     "iopub.execute_input": "2021-05-18T05:38:12.424167Z",
     "iopub.status.busy": "2021-05-18T05:38:12.424025Z",
     "iopub.status.idle": "2021-05-18T05:38:12.436778Z",
     "shell.execute_reply": "2021-05-18T05:38:12.436475Z",
     "shell.execute_reply.started": "2021-05-18T05:38:12.424140Z"
    }
   },
   "outputs": [
    {
     "data": {
      "text/plain": [
       "PointsItemList (7049 items)\n",
       "[PosixPath('/media/hdd/Datasets/faceKeypoint/trainImages/2246.jpg'), PosixPath('/media/hdd/Datasets/faceKeypoint/trainImages/5325.jpg'), PosixPath('/media/hdd/Datasets/faceKeypoint/trainImages/4065.jpg'), PosixPath('/media/hdd/Datasets/faceKeypoint/trainImages/3146.jpg'), PosixPath('/media/hdd/Datasets/faceKeypoint/trainImages/2232.jpg'), PosixPath('/media/hdd/Datasets/faceKeypoint/trainImages/2555.jpg'), PosixPath('/media/hdd/Datasets/faceKeypoint/trainImages/3791.jpg'), PosixPath('/media/hdd/Datasets/faceKeypoint/trainImages/4444.jpg'), PosixPath('/media/hdd/Datasets/faceKeypoint/trainImages/5419.jpg'), PosixPath('/media/hdd/Datasets/faceKeypoint/trainImages/2549.jpg')...]\n",
       "Path: /media/hdd/Datasets/faceKeypoint/trainImages"
      ]
     },
     "execution_count": 303,
     "metadata": {},
     "output_type": "execute_result"
    }
   ],
   "source": [
    "data"
   ]
  },
  {
   "cell_type": "code",
   "execution_count": 304,
   "id": "mounted-canon",
   "metadata": {
    "execution": {
     "iopub.execute_input": "2021-05-18T05:38:12.461426Z",
     "iopub.status.busy": "2021-05-18T05:38:12.461253Z",
     "iopub.status.idle": "2021-05-18T05:38:12.474483Z",
     "shell.execute_reply": "2021-05-18T05:38:12.474062Z",
     "shell.execute_reply.started": "2021-05-18T05:38:12.461408Z"
    }
   },
   "outputs": [],
   "source": [
    "# il = ImageList.from_files(\"/media/hdd/Datasets/imagewoof2-160/\", tfms = tfms)"
   ]
  },
  {
   "cell_type": "code",
   "execution_count": 305,
   "id": "quiet-culture",
   "metadata": {
    "execution": {
     "iopub.execute_input": "2021-05-18T05:38:12.503315Z",
     "iopub.status.busy": "2021-05-18T05:38:12.503171Z",
     "iopub.status.idle": "2021-05-18T05:38:12.514458Z",
     "shell.execute_reply": "2021-05-18T05:38:12.514119Z",
     "shell.execute_reply.started": "2021-05-18T05:38:12.503299Z"
    }
   },
   "outputs": [],
   "source": [
    "# il"
   ]
  },
  {
   "cell_type": "code",
   "execution_count": 306,
   "id": "adolescent-constant",
   "metadata": {
    "execution": {
     "iopub.execute_input": "2021-05-18T05:38:12.553437Z",
     "iopub.status.busy": "2021-05-18T05:38:12.552945Z",
     "iopub.status.idle": "2021-05-18T05:38:12.578945Z",
     "shell.execute_reply": "2021-05-18T05:38:12.578383Z",
     "shell.execute_reply.started": "2021-05-18T05:38:12.553380Z"
    }
   },
   "outputs": [],
   "source": [
    "sd = SplitData.split_by_func(data, partial(random_splitter,p_valid = .2))"
   ]
  },
  {
   "cell_type": "code",
   "execution_count": 307,
   "id": "serious-breakfast",
   "metadata": {
    "execution": {
     "iopub.execute_input": "2021-05-18T05:38:12.584370Z",
     "iopub.status.busy": "2021-05-18T05:38:12.584201Z",
     "iopub.status.idle": "2021-05-18T05:38:12.596697Z",
     "shell.execute_reply": "2021-05-18T05:38:12.596253Z",
     "shell.execute_reply.started": "2021-05-18T05:38:12.584352Z"
    }
   },
   "outputs": [
    {
     "data": {
      "text/plain": [
       "SplitData\n",
       "Train: PointsItemList (5605 items)\n",
       "[PosixPath('/media/hdd/Datasets/faceKeypoint/trainImages/2246.jpg'), PosixPath('/media/hdd/Datasets/faceKeypoint/trainImages/5325.jpg'), PosixPath('/media/hdd/Datasets/faceKeypoint/trainImages/2232.jpg'), PosixPath('/media/hdd/Datasets/faceKeypoint/trainImages/2555.jpg'), PosixPath('/media/hdd/Datasets/faceKeypoint/trainImages/3791.jpg'), PosixPath('/media/hdd/Datasets/faceKeypoint/trainImages/4444.jpg'), PosixPath('/media/hdd/Datasets/faceKeypoint/trainImages/5419.jpg'), PosixPath('/media/hdd/Datasets/faceKeypoint/trainImages/2549.jpg'), PosixPath('/media/hdd/Datasets/faceKeypoint/trainImages/4896.jpg'), PosixPath('/media/hdd/Datasets/faceKeypoint/trainImages/6913.jpg')...]\n",
       "Path: /media/hdd/Datasets/faceKeypoint/trainImages\n",
       "Valid: PointsItemList (1444 items)\n",
       "[PosixPath('/media/hdd/Datasets/faceKeypoint/trainImages/4065.jpg'), PosixPath('/media/hdd/Datasets/faceKeypoint/trainImages/3146.jpg'), PosixPath('/media/hdd/Datasets/faceKeypoint/trainImages/6794.jpg'), PosixPath('/media/hdd/Datasets/faceKeypoint/trainImages/4743.jpg'), PosixPath('/media/hdd/Datasets/faceKeypoint/trainImages/2593.jpg'), PosixPath('/media/hdd/Datasets/faceKeypoint/trainImages/429.jpg'), PosixPath('/media/hdd/Datasets/faceKeypoint/trainImages/6696.jpg'), PosixPath('/media/hdd/Datasets/faceKeypoint/trainImages/6512.jpg'), PosixPath('/media/hdd/Datasets/faceKeypoint/trainImages/1463.jpg'), PosixPath('/media/hdd/Datasets/faceKeypoint/trainImages/2902.jpg')...]\n",
       "Path: /media/hdd/Datasets/faceKeypoint/trainImages"
      ]
     },
     "execution_count": 307,
     "metadata": {},
     "output_type": "execute_result"
    }
   ],
   "source": [
    "sd"
   ]
  },
  {
   "cell_type": "code",
   "execution_count": 308,
   "id": "painted-customer",
   "metadata": {
    "execution": {
     "iopub.execute_input": "2021-05-18T05:38:12.828385Z",
     "iopub.status.busy": "2021-05-18T05:38:12.827848Z",
     "iopub.status.idle": "2021-05-18T05:38:12.861100Z",
     "shell.execute_reply": "2021-05-18T05:38:12.860445Z",
     "shell.execute_reply.started": "2021-05-18T05:38:12.828322Z"
    }
   },
   "outputs": [],
   "source": [
    "def get_locs(flname):\n",
    "    index = int(flname.name[:-4])\n",
    "    plist=[]\n",
    "    coords=list(id_l.loc[index])\n",
    "    for i in range(len(coords)//2):\n",
    "        plist.append([coords[i*2+1],coords[i*2]])\n",
    "    return tensor(plist)"
   ]
  },
  {
   "cell_type": "code",
   "execution_count": 309,
   "id": "nearby-hybrid",
   "metadata": {
    "execution": {
     "iopub.execute_input": "2021-05-18T05:38:13.279932Z",
     "iopub.status.busy": "2021-05-18T05:38:13.279406Z",
     "iopub.status.idle": "2021-05-18T05:38:13.296338Z",
     "shell.execute_reply": "2021-05-18T05:38:13.295681Z",
     "shell.execute_reply.started": "2021-05-18T05:38:13.279871Z"
    }
   },
   "outputs": [
    {
     "data": {
      "text/plain": [
       "tensor([[37.4975, 65.4759],\n",
       "        [37.9938, 30.4601],\n",
       "        [38.4653, 58.0807],\n",
       "        [39.1353, 72.8687],\n",
       "        [38.9616, 38.0787],\n",
       "        [39.6525, 22.3000],\n",
       "        [29.2928, 56.5432],\n",
       "        [30.6152, 78.5232],\n",
       "        [29.3534, 38.5824],\n",
       "        [31.8727, 14.7483],\n",
       "        [58.4229, 48.0418],\n",
       "        [78.6050, 61.7846],\n",
       "        [78.8908, 33.0484],\n",
       "        [77.4177, 47.4275],\n",
       "        [78.8029, 47.6694]], dtype=torch.float64)"
      ]
     },
     "execution_count": 309,
     "metadata": {},
     "output_type": "execute_result"
    }
   ],
   "source": [
    "get_locs(Path(\"/media/hdd/Datasets/faceKeypoint/trainImages/2246.jpg\"))"
   ]
  },
  {
   "cell_type": "code",
   "execution_count": 310,
   "id": "spiritual-omaha",
   "metadata": {
    "execution": {
     "iopub.execute_input": "2021-05-18T05:38:13.449450Z",
     "iopub.status.busy": "2021-05-18T05:38:13.448923Z",
     "iopub.status.idle": "2021-05-18T05:38:13.477530Z",
     "shell.execute_reply": "2021-05-18T05:38:13.476822Z",
     "shell.execute_reply.started": "2021-05-18T05:38:13.449388Z"
    }
   },
   "outputs": [],
   "source": [
    "# sd.train.items"
   ]
  },
  {
   "cell_type": "code",
   "execution_count": 311,
   "id": "innocent-picnic",
   "metadata": {
    "execution": {
     "iopub.execute_input": "2021-05-18T05:38:13.616769Z",
     "iopub.status.busy": "2021-05-18T05:38:13.616236Z",
     "iopub.status.idle": "2021-05-18T05:38:14.457389Z",
     "shell.execute_reply": "2021-05-18T05:38:14.456041Z",
     "shell.execute_reply.started": "2021-05-18T05:38:13.616706Z"
    }
   },
   "outputs": [],
   "source": [
    "ll = label_by_func(sd, get_locs)"
   ]
  },
  {
   "cell_type": "code",
   "execution_count": 312,
   "id": "beginning-bulgarian",
   "metadata": {
    "execution": {
     "iopub.execute_input": "2021-05-18T05:38:14.459627Z",
     "iopub.status.busy": "2021-05-18T05:38:14.459251Z",
     "iopub.status.idle": "2021-05-18T05:38:14.480353Z",
     "shell.execute_reply": "2021-05-18T05:38:14.479778Z",
     "shell.execute_reply.started": "2021-05-18T05:38:14.459580Z"
    }
   },
   "outputs": [
    {
     "data": {
      "text/plain": [
       "PointsItemList (5605 items)\n",
       "[PosixPath('/media/hdd/Datasets/faceKeypoint/trainImages/2246.jpg'), PosixPath('/media/hdd/Datasets/faceKeypoint/trainImages/5325.jpg'), PosixPath('/media/hdd/Datasets/faceKeypoint/trainImages/2232.jpg'), PosixPath('/media/hdd/Datasets/faceKeypoint/trainImages/2555.jpg'), PosixPath('/media/hdd/Datasets/faceKeypoint/trainImages/3791.jpg'), PosixPath('/media/hdd/Datasets/faceKeypoint/trainImages/4444.jpg'), PosixPath('/media/hdd/Datasets/faceKeypoint/trainImages/5419.jpg'), PosixPath('/media/hdd/Datasets/faceKeypoint/trainImages/2549.jpg'), PosixPath('/media/hdd/Datasets/faceKeypoint/trainImages/4896.jpg'), PosixPath('/media/hdd/Datasets/faceKeypoint/trainImages/6913.jpg')...]\n",
       "Path: /media/hdd/Datasets/faceKeypoint/trainImages"
      ]
     },
     "execution_count": 312,
     "metadata": {},
     "output_type": "execute_result"
    }
   ],
   "source": [
    "ll.train.x"
   ]
  },
  {
   "cell_type": "code",
   "execution_count": 313,
   "id": "comic-flashing",
   "metadata": {
    "execution": {
     "iopub.execute_input": "2021-05-18T05:38:14.481379Z",
     "iopub.status.busy": "2021-05-18T05:38:14.481240Z",
     "iopub.status.idle": "2021-05-18T05:38:14.494380Z",
     "shell.execute_reply": "2021-05-18T05:38:14.493936Z",
     "shell.execute_reply.started": "2021-05-18T05:38:14.481361Z"
    }
   },
   "outputs": [],
   "source": [
    "data = ll.to_databunch(bs, c_in=3, c_out=10)"
   ]
  },
  {
   "cell_type": "code",
   "execution_count": 314,
   "id": "invalid-adrian",
   "metadata": {
    "execution": {
     "iopub.execute_input": "2021-05-18T05:38:16.515529Z",
     "iopub.status.busy": "2021-05-18T05:38:16.515363Z",
     "iopub.status.idle": "2021-05-18T05:38:16.531386Z",
     "shell.execute_reply": "2021-05-18T05:38:16.530812Z",
     "shell.execute_reply.started": "2021-05-18T05:38:16.515501Z"
    }
   },
   "outputs": [],
   "source": [
    "def show_image(im, ax=None, figsize=(3, 3)):\n",
    "    \"\"\"\n",
    "    Show single image\n",
    "    \"\"\"\n",
    "    if ax is None:\n",
    "        _, ax = plt.subplots(1, 1, figsize=figsize)\n",
    "    ax.axis(\"off\")\n",
    "    ax.imshow(im.permute(1, 2, 0))"
   ]
  },
  {
   "cell_type": "code",
   "execution_count": 317,
   "id": "normal-floating",
   "metadata": {
    "execution": {
     "iopub.execute_input": "2021-05-18T05:38:26.066568Z",
     "iopub.status.busy": "2021-05-18T05:38:26.066432Z",
     "iopub.status.idle": "2021-05-18T05:38:26.079931Z",
     "shell.execute_reply": "2021-05-18T05:38:26.079424Z",
     "shell.execute_reply.started": "2021-05-18T05:38:26.066553Z"
    }
   },
   "outputs": [],
   "source": [
    "def show_batch(data, n=4, c=4, r=None, figsize=None):\n",
    "    \"\"\"\n",
    "    Show a batch of n images from the train dataloader\n",
    "    \"\"\"\n",
    "    x = data.train_ds.x[:n]\n",
    "    if r is None:\n",
    "        r = int(math.ceil(n / c))\n",
    "    if figsize is None:\n",
    "        figsize = (c * 3, r * 3)\n",
    "    fig, axes = plt.subplots(r, c, figsize=figsize)\n",
    "    for xi, ax in zip(x, axes.flat):\n",
    "#         xi = torchvision.transforms.functional.pil_to_tensor(xi)\n",
    "        show_image(xi, ax)"
   ]
  },
  {
   "cell_type": "code",
   "execution_count": 318,
   "id": "worst-finnish",
   "metadata": {
    "execution": {
     "iopub.execute_input": "2021-05-18T05:38:26.355249Z",
     "iopub.status.busy": "2021-05-18T05:38:26.354708Z",
     "iopub.status.idle": "2021-05-18T05:38:26.482359Z",
     "shell.execute_reply": "2021-05-18T05:38:26.481860Z",
     "shell.execute_reply.started": "2021-05-18T05:38:26.355187Z"
    }
   },
   "outputs": [
    {
     "data": {
      "image/png": "[encoded data removed]",
      "text/plain": [
       "<Figure size 864x216 with 4 Axes>"
      ]
     },
     "metadata": {
      "needs_background": "light"
     },
     "output_type": "display_data"
    }
   ],
   "source": [
    "show_batch(data)"
   ]
  },
  {
   "cell_type": "code",
   "execution_count": 319,
   "id": "mature-philadelphia",
   "metadata": {
    "execution": {
     "iopub.execute_input": "2021-05-18T05:38:31.847017Z",
     "iopub.status.busy": "2021-05-18T05:38:31.846804Z",
     "iopub.status.idle": "2021-05-18T05:38:32.125663Z",
     "shell.execute_reply": "2021-05-18T05:38:32.125218Z",
     "shell.execute_reply.started": "2021-05-18T05:38:31.846994Z"
    }
   },
   "outputs": [],
   "source": [
    "learn = Learner(get_vision_model('resnet34',1), data, loss_func, lr=lr, cb_funcs=cbfs, opt_func=opt_func)"
   ]
  },
  {
   "cell_type": "code",
   "execution_count": 320,
   "id": "local-application",
   "metadata": {
    "execution": {
     "iopub.execute_input": "2021-05-18T05:38:32.175489Z",
     "iopub.status.busy": "2021-05-18T05:38:32.175350Z",
     "iopub.status.idle": "2021-05-18T05:38:32.728128Z",
     "shell.execute_reply": "2021-05-18T05:38:32.727448Z",
     "shell.execute_reply.started": "2021-05-18T05:38:32.175475Z"
    }
   },
   "outputs": [
    {
     "data": {
      "text/html": [
       "\n",
       "    <div>\n",
       "        <style>\n",
       "            /* Turns off some styling */\n",
       "            progress {\n",
       "                /* gets rid of default border in Firefox and Opera. */\n",
       "                border: none;\n",
       "                /* Needs to be in here for Safari polyfill so background images work as expected. */\n",
       "                background-size: auto;\n",
       "            }\n",
       "            .progress-bar-interrupted, .progress-bar-interrupted::-webkit-progress-bar {\n",
       "                background: #F44336;\n",
       "            }\n",
       "        </style>\n",
       "      <progress value='0' class='' max='1' style='width:300px; height:20px; vertical-align: middle;'></progress>\n",
       "      \n",
       "    </div>\n",
       "    \n"
      ],
      "text/plain": [
       "<IPython.core.display.HTML object>"
      ]
     },
     "metadata": {},
     "output_type": "display_data"
    },
    {
     "data": {
      "text/html": [
       "<table border=\"1\" class=\"dataframe\">\n",
       "  <thead>\n",
       "    <tr style=\"text-align: left;\">\n",
       "      <th>epoch</th>\n",
       "      <th>train_loss</th>\n",
       "      <th>train_accuracy</th>\n",
       "      <th>valid_loss</th>\n",
       "      <th>valid_accuracy</th>\n",
       "      <th>time</th>\n",
       "    </tr>\n",
       "  </thead>\n",
       "  <tbody>\n",
       "  </tbody>\n",
       "</table>"
      ],
      "text/plain": [
       "<IPython.core.display.HTML object>"
      ]
     },
     "metadata": {},
     "output_type": "display_data"
    },
    {
     "ename": "RuntimeError",
     "evalue": "shape '[-1, 15, 2]' is invalid for input of size 128",
     "output_type": "error",
     "traceback": [
      "\u001b[0;31m---------------------------------------------------------------------------\u001b[0m",
      "\u001b[0;31mRuntimeError\u001b[0m                              Traceback (most recent call last)",
      "\u001b[0;32m<ipython-input-320-8587f3539821>\u001b[0m in \u001b[0;36m<module>\u001b[0;34m\u001b[0m\n\u001b[0;32m----> 1\u001b[0;31m \u001b[0mlearn\u001b[0m\u001b[0;34m.\u001b[0m\u001b[0mfit\u001b[0m\u001b[0;34m(\u001b[0m\u001b[0;36m1\u001b[0m\u001b[0;34m)\u001b[0m\u001b[0;34m\u001b[0m\u001b[0;34m\u001b[0m\u001b[0m\n\u001b[0m",
      "\u001b[0;32m/media/hdd/github/sprintdl/sprintdl/core.py\u001b[0m in \u001b[0;36mfit\u001b[0;34m(self, epochs, cbs, reset_opt)\u001b[0m\n\u001b[1;32m    161\u001b[0m             \u001b[0;32mfor\u001b[0m \u001b[0mepoch\u001b[0m \u001b[0;32min\u001b[0m \u001b[0mrange\u001b[0m\u001b[0;34m(\u001b[0m\u001b[0mepochs\u001b[0m\u001b[0;34m)\u001b[0m\u001b[0;34m:\u001b[0m\u001b[0;34m\u001b[0m\u001b[0;34m\u001b[0m\u001b[0m\n\u001b[1;32m    162\u001b[0m                 \u001b[0;32mif\u001b[0m \u001b[0;32mnot\u001b[0m \u001b[0mself\u001b[0m\u001b[0;34m.\u001b[0m\u001b[0mdo_begin_epoch\u001b[0m\u001b[0;34m(\u001b[0m\u001b[0mepoch\u001b[0m\u001b[0;34m)\u001b[0m\u001b[0;34m:\u001b[0m\u001b[0;34m\u001b[0m\u001b[0;34m\u001b[0m\u001b[0m\n\u001b[0;32m--> 163\u001b[0;31m                     \u001b[0mself\u001b[0m\u001b[0;34m.\u001b[0m\u001b[0mall_batches\u001b[0m\u001b[0;34m(\u001b[0m\u001b[0;34m)\u001b[0m\u001b[0;34m\u001b[0m\u001b[0;34m\u001b[0m\u001b[0m\n\u001b[0m\u001b[1;32m    164\u001b[0m \u001b[0;34m\u001b[0m\u001b[0m\n\u001b[1;32m    165\u001b[0m                 \u001b[0;32mwith\u001b[0m \u001b[0mtorch\u001b[0m\u001b[0;34m.\u001b[0m\u001b[0mno_grad\u001b[0m\u001b[0;34m(\u001b[0m\u001b[0;34m)\u001b[0m\u001b[0;34m:\u001b[0m\u001b[0;34m\u001b[0m\u001b[0;34m\u001b[0m\u001b[0m\n",
      "\u001b[0;32m/media/hdd/github/sprintdl/sprintdl/core.py\u001b[0m in \u001b[0;36mall_batches\u001b[0;34m(self)\u001b[0m\n\u001b[1;32m    140\u001b[0m         \u001b[0;32mtry\u001b[0m\u001b[0;34m:\u001b[0m\u001b[0;34m\u001b[0m\u001b[0;34m\u001b[0m\u001b[0m\n\u001b[1;32m    141\u001b[0m             \u001b[0;32mfor\u001b[0m \u001b[0mi\u001b[0m\u001b[0;34m,\u001b[0m \u001b[0;34m(\u001b[0m\u001b[0mxb\u001b[0m\u001b[0;34m,\u001b[0m \u001b[0myb\u001b[0m\u001b[0;34m)\u001b[0m \u001b[0;32min\u001b[0m \u001b[0menumerate\u001b[0m\u001b[0;34m(\u001b[0m\u001b[0mself\u001b[0m\u001b[0;34m.\u001b[0m\u001b[0mdl\u001b[0m\u001b[0;34m)\u001b[0m\u001b[0;34m:\u001b[0m\u001b[0;34m\u001b[0m\u001b[0;34m\u001b[0m\u001b[0m\n\u001b[0;32m--> 142\u001b[0;31m                 \u001b[0mself\u001b[0m\u001b[0;34m.\u001b[0m\u001b[0mone_batch\u001b[0m\u001b[0;34m(\u001b[0m\u001b[0mi\u001b[0m\u001b[0;34m,\u001b[0m \u001b[0mxb\u001b[0m\u001b[0;34m,\u001b[0m \u001b[0myb\u001b[0m\u001b[0;34m)\u001b[0m\u001b[0;34m\u001b[0m\u001b[0;34m\u001b[0m\u001b[0m\n\u001b[0m\u001b[1;32m    143\u001b[0m         \u001b[0;32mexcept\u001b[0m \u001b[0mCancelEpochException\u001b[0m\u001b[0;34m:\u001b[0m\u001b[0;34m\u001b[0m\u001b[0;34m\u001b[0m\u001b[0m\n\u001b[1;32m    144\u001b[0m             \u001b[0mself\u001b[0m\u001b[0;34m(\u001b[0m\u001b[0;34m\"after_cancel_epoch\"\u001b[0m\u001b[0;34m)\u001b[0m\u001b[0;34m\u001b[0m\u001b[0;34m\u001b[0m\u001b[0m\n",
      "\u001b[0;32m/media/hdd/github/sprintdl/sprintdl/core.py\u001b[0m in \u001b[0;36mone_batch\u001b[0;34m(self, i, xb, yb)\u001b[0m\n\u001b[1;32m    122\u001b[0m             \u001b[0mself\u001b[0m\u001b[0;34m.\u001b[0m\u001b[0mpred\u001b[0m \u001b[0;34m=\u001b[0m \u001b[0mself\u001b[0m\u001b[0;34m.\u001b[0m\u001b[0mmodel\u001b[0m\u001b[0;34m(\u001b[0m\u001b[0mself\u001b[0m\u001b[0;34m.\u001b[0m\u001b[0mxb\u001b[0m\u001b[0;34m)\u001b[0m\u001b[0;34m\u001b[0m\u001b[0;34m\u001b[0m\u001b[0m\n\u001b[1;32m    123\u001b[0m             \u001b[0mself\u001b[0m\u001b[0;34m(\u001b[0m\u001b[0;34m\"after_pred\"\u001b[0m\u001b[0;34m)\u001b[0m\u001b[0;34m\u001b[0m\u001b[0;34m\u001b[0m\u001b[0m\n\u001b[0;32m--> 124\u001b[0;31m             \u001b[0mself\u001b[0m\u001b[0;34m.\u001b[0m\u001b[0mloss\u001b[0m \u001b[0;34m=\u001b[0m \u001b[0mself\u001b[0m\u001b[0;34m.\u001b[0m\u001b[0mloss_func\u001b[0m\u001b[0;34m(\u001b[0m\u001b[0mself\u001b[0m\u001b[0;34m.\u001b[0m\u001b[0mpred\u001b[0m\u001b[0;34m,\u001b[0m \u001b[0mself\u001b[0m\u001b[0;34m.\u001b[0m\u001b[0myb\u001b[0m\u001b[0;34m)\u001b[0m\u001b[0;34m\u001b[0m\u001b[0;34m\u001b[0m\u001b[0m\n\u001b[0m\u001b[1;32m    125\u001b[0m             \u001b[0mself\u001b[0m\u001b[0;34m(\u001b[0m\u001b[0;34m\"after_loss\"\u001b[0m\u001b[0;34m)\u001b[0m\u001b[0;34m\u001b[0m\u001b[0;34m\u001b[0m\u001b[0m\n\u001b[1;32m    126\u001b[0m             \u001b[0;32mif\u001b[0m \u001b[0;32mnot\u001b[0m \u001b[0mself\u001b[0m\u001b[0;34m.\u001b[0m\u001b[0min_train\u001b[0m\u001b[0;34m:\u001b[0m\u001b[0;34m\u001b[0m\u001b[0;34m\u001b[0m\u001b[0m\n",
      "\u001b[0;32m<ipython-input-300-54694769f2bb>\u001b[0m in \u001b[0;36mmloss\u001b[0;34m(y_true, y_pred)\u001b[0m\n\u001b[1;32m      1\u001b[0m \u001b[0;32mdef\u001b[0m \u001b[0mmloss\u001b[0m\u001b[0;34m(\u001b[0m\u001b[0my_true\u001b[0m\u001b[0;34m,\u001b[0m \u001b[0my_pred\u001b[0m\u001b[0;34m)\u001b[0m\u001b[0;34m:\u001b[0m\u001b[0;34m\u001b[0m\u001b[0;34m\u001b[0m\u001b[0m\n\u001b[0;32m----> 2\u001b[0;31m     \u001b[0my_true\u001b[0m\u001b[0;34m=\u001b[0m\u001b[0my_true\u001b[0m\u001b[0;34m.\u001b[0m\u001b[0mview\u001b[0m\u001b[0;34m(\u001b[0m\u001b[0;34m-\u001b[0m\u001b[0;36m1\u001b[0m\u001b[0;34m,\u001b[0m\u001b[0;36m15\u001b[0m\u001b[0;34m,\u001b[0m\u001b[0;36m2\u001b[0m\u001b[0;34m)\u001b[0m\u001b[0;34m\u001b[0m\u001b[0;34m\u001b[0m\u001b[0m\n\u001b[0m\u001b[1;32m      3\u001b[0m \u001b[0;34m\u001b[0m\u001b[0m\n\u001b[1;32m      4\u001b[0m     \u001b[0my_true\u001b[0m\u001b[0;34m[\u001b[0m\u001b[0;34m:\u001b[0m\u001b[0;34m,\u001b[0m\u001b[0;34m:\u001b[0m\u001b[0;34m,\u001b[0m\u001b[0;36m0\u001b[0m\u001b[0;34m]\u001b[0m\u001b[0;34m=\u001b[0m\u001b[0my_true\u001b[0m\u001b[0;34m[\u001b[0m\u001b[0;34m:\u001b[0m\u001b[0;34m,\u001b[0m\u001b[0;34m:\u001b[0m\u001b[0;34m,\u001b[0m\u001b[0;36m0\u001b[0m\u001b[0;34m]\u001b[0m\u001b[0;34m.\u001b[0m\u001b[0mclone\u001b[0m\u001b[0;34m(\u001b[0m\u001b[0;34m)\u001b[0m\u001b[0;34m-\u001b[0m\u001b[0my_pred\u001b[0m\u001b[0;34m[\u001b[0m\u001b[0;34m:\u001b[0m\u001b[0;34m,\u001b[0m\u001b[0;34m:\u001b[0m\u001b[0;34m,\u001b[0m\u001b[0;36m0\u001b[0m\u001b[0;34m]\u001b[0m\u001b[0;34m\u001b[0m\u001b[0;34m\u001b[0m\u001b[0m\n\u001b[1;32m      5\u001b[0m     \u001b[0my_true\u001b[0m\u001b[0;34m[\u001b[0m\u001b[0;34m:\u001b[0m\u001b[0;34m,\u001b[0m\u001b[0;34m:\u001b[0m\u001b[0;34m,\u001b[0m\u001b[0;36m1\u001b[0m\u001b[0;34m]\u001b[0m\u001b[0;34m=\u001b[0m\u001b[0my_true\u001b[0m\u001b[0;34m[\u001b[0m\u001b[0;34m:\u001b[0m\u001b[0;34m,\u001b[0m\u001b[0;34m:\u001b[0m\u001b[0;34m,\u001b[0m\u001b[0;36m1\u001b[0m\u001b[0;34m]\u001b[0m\u001b[0;34m.\u001b[0m\u001b[0mclone\u001b[0m\u001b[0;34m(\u001b[0m\u001b[0;34m)\u001b[0m\u001b[0;34m-\u001b[0m\u001b[0my_pred\u001b[0m\u001b[0;34m[\u001b[0m\u001b[0;34m:\u001b[0m\u001b[0;34m,\u001b[0m\u001b[0;34m:\u001b[0m\u001b[0;34m,\u001b[0m\u001b[0;36m1\u001b[0m\u001b[0;34m]\u001b[0m\u001b[0;34m\u001b[0m\u001b[0;34m\u001b[0m\u001b[0m\n",
      "\u001b[0;31mRuntimeError\u001b[0m: shape '[-1, 15, 2]' is invalid for input of size 128"
     ]
    }
   ],
   "source": [
    "learn.fit(1)"
   ]
  },
  {
   "cell_type": "code",
   "execution_count": null,
   "id": "sapphire-metro",
   "metadata": {},
   "outputs": [],
   "source": []
  },
  {
   "cell_type": "code",
   "execution_count": null,
   "id": "mighty-scanning",
   "metadata": {},
   "outputs": [],
   "source": []
  }
 ],
 "metadata": {
  "kernelspec": {
   "display_name": "Python 3",
   "language": "python",
   "name": "python3"
  },
  "language_info": {
   "codemirror_mode": {
    "name": "ipython",
    "version": 3
   },
   "file_extension": ".py",
   "mimetype": "text/x-python",
   "name": "python",
   "nbconvert_exporter": "python",
   "pygments_lexer": "ipython3",
   "version": "3.9.1"
  },
  "toc": {
   "base_numbering": 1,
   "nav_menu": {},
   "number_sections": true,
   "sideBar": true,
   "skip_h1_title": false,
   "title_cell": "Table of Contents",
   "title_sidebar": "Contents",
   "toc_cell": false,
   "toc_position": {},
   "toc_section_display": true,
   "toc_window_display": true
  },
  "varInspector": {
   "cols": {
    "lenName": 16,
    "lenType": 16,
    "lenVar": 40
   },
   "kernels_config": {
    "python": {
     "delete_cmd_postfix": "",
     "delete_cmd_prefix": "del ",
     "library": "var_list.py",
     "varRefreshCmd": "print(var_dic_list())"
    },
    "r": {
     "delete_cmd_postfix": ") ",
     "delete_cmd_prefix": "rm(",
     "library": "var_list.r",
     "varRefreshCmd": "cat(var_dic_list()) "
    }
   },
   "types_to_exclude": [
    "module",
    "function",
    "builtin_function_or_method",
    "instance",
    "_Feature"
   ],
   "window_display": false
  }
 },
 "nbformat": 4,
 "nbformat_minor": 5
}
