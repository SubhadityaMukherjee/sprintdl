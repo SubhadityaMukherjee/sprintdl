{
 "cells": [
  {
   "cell_type": "code",
   "execution_count": 1,
   "id": "durable-punishment",
   "metadata": {
    "execution": {
     "iopub.execute_input": "2021-05-17T17:00:20.261512Z",
     "iopub.status.busy": "2021-05-17T17:00:20.261331Z",
     "iopub.status.idle": "2021-05-17T17:00:23.418110Z",
     "shell.execute_reply": "2021-05-17T17:00:23.417681Z",
     "shell.execute_reply.started": "2021-05-17T17:00:20.261462Z"
    }
   },
   "outputs": [],
   "source": [
    "%load_ext autoreload\n",
    "%autoreload 2\n",
    "\n",
    "%matplotlib inline\n",
    "\n",
    "import sys\n",
    "sys.path.append(\"../\")\n",
    "\n",
    "from sprintdl.main import *\n",
    "from sprintdl.models.efficientnet import *\n",
    "from sprintdl.models.xresnet import *\n",
    "\n",
    "device = torch.device('cuda',0)\n",
    "from torch.nn import init\n",
    "import torch\n",
    "import math"
   ]
  },
  {
   "cell_type": "code",
   "execution_count": 2,
   "id": "amended-edgar",
   "metadata": {
    "execution": {
     "iopub.execute_input": "2021-05-17T17:00:23.419060Z",
     "iopub.status.busy": "2021-05-17T17:00:23.418919Z",
     "iopub.status.idle": "2021-05-17T17:00:23.442385Z",
     "shell.execute_reply": "2021-05-17T17:00:23.441885Z",
     "shell.execute_reply.started": "2021-05-17T17:00:23.419033Z"
    }
   },
   "outputs": [],
   "source": [
    "import torchaudio\n",
    "from torchaudio import transforms\n",
    "from IPython.display import Audio\n",
    "AUDIO_EXTS = {str.lower(k) for k,v in mimetypes.types_map.items() if v.startswith('audio/')}"
   ]
  },
  {
   "cell_type": "code",
   "execution_count": 3,
   "id": "strong-round",
   "metadata": {
    "execution": {
     "iopub.execute_input": "2021-05-17T17:00:23.443624Z",
     "iopub.status.busy": "2021-05-17T17:00:23.443408Z",
     "iopub.status.idle": "2021-05-17T17:00:23.456504Z",
     "shell.execute_reply": "2021-05-17T17:00:23.456146Z",
     "shell.execute_reply.started": "2021-05-17T17:00:23.443602Z"
    }
   },
   "outputs": [],
   "source": [
    "class AudioList(ItemList):\n",
    "    @classmethod\n",
    "    def from_files(cls, path, extensions=None, recurse=True, include=None, **kwargs):\n",
    "        if extensions is None: extensions = AUDIO_EXTS\n",
    "        return cls(get_files(path, extensions, recurse=recurse, include=include), path, **kwargs)\n",
    "    \n",
    "    def get(self, fn): \n",
    "        sig, sr = torchaudio.load(fn)\n",
    "        assert sig.size(0) == 1, \"Non-mono audio detected, mono only supported for now.\"\n",
    "        return (sig, sr)"
   ]
  },
  {
   "cell_type": "code",
   "execution_count": 4,
   "id": "corrected-integral",
   "metadata": {
    "execution": {
     "iopub.execute_input": "2021-05-17T17:00:23.457281Z",
     "iopub.status.busy": "2021-05-17T17:00:23.457115Z",
     "iopub.status.idle": "2021-05-17T17:00:23.468448Z",
     "shell.execute_reply": "2021-05-17T17:00:23.468009Z",
     "shell.execute_reply.started": "2021-05-17T17:00:23.457264Z"
    }
   },
   "outputs": [],
   "source": [
    "def show_audio(ad):\n",
    "    sig,sr=ad\n",
    "    display(Audio(data=sig, rate=sr))"
   ]
  },
  {
   "cell_type": "code",
   "execution_count": 5,
   "id": "developing-macedonia",
   "metadata": {
    "execution": {
     "iopub.execute_input": "2021-05-17T17:00:23.469030Z",
     "iopub.status.busy": "2021-05-17T17:00:23.468921Z",
     "iopub.status.idle": "2021-05-17T17:00:23.482534Z",
     "shell.execute_reply": "2021-05-17T17:00:23.482103Z",
     "shell.execute_reply.started": "2021-05-17T17:00:23.469017Z"
    }
   },
   "outputs": [],
   "source": [
    "def show_audio_in_out(orig, trans):\n",
    "    ossig, osr = orig\n",
    "    tsig, tsr = trans\n",
    "    print(\"↓ Original ↓\")\n",
    "    show_audio(orig)\n",
    "    print(\"↓ Transformed ↓\")\n",
    "    show_audio(trans)\n",
    "    if orig is not None: plt.plot(osig[0], 'm', label=\"Orig.\")\n",
    "    if trans is not None: plt.plot(tsig[0], 'c', alpha=0.5, label=\"Transf.\")\n",
    "    plt.legend()\n",
    "    plt.show()"
   ]
  },
  {
   "cell_type": "code",
   "execution_count": 6,
   "id": "soviet-embassy",
   "metadata": {
    "execution": {
     "iopub.execute_input": "2021-05-17T17:00:23.483210Z",
     "iopub.status.busy": "2021-05-17T17:00:23.483100Z",
     "iopub.status.idle": "2021-05-17T17:00:23.496431Z",
     "shell.execute_reply": "2021-05-17T17:00:23.496117Z",
     "shell.execute_reply.started": "2021-05-17T17:00:23.483196Z"
    }
   },
   "outputs": [],
   "source": [
    "class AudioCuda(Transform):\n",
    "    _order=10\n",
    "    def __call__(self, ad):\n",
    "        sig,sr = ad\n",
    "        return (sig.cuda(), sr)"
   ]
  },
  {
   "cell_type": "code",
   "execution_count": 7,
   "id": "random-pendant",
   "metadata": {
    "execution": {
     "iopub.execute_input": "2021-05-17T17:00:23.497722Z",
     "iopub.status.busy": "2021-05-17T17:00:23.497612Z",
     "iopub.status.idle": "2021-05-17T17:00:23.510007Z",
     "shell.execute_reply": "2021-05-17T17:00:23.509614Z",
     "shell.execute_reply.started": "2021-05-17T17:00:23.497708Z"
    }
   },
   "outputs": [],
   "source": [
    "class PadOrTrim(Transform):\n",
    "    _order = 11\n",
    "    def __init__(self, msecs): self.msecs = msecs\n",
    "    def __call__(self, ad):\n",
    "        sig,sr = ad\n",
    "        mx = sr//1000 * self.msecs\n",
    "        return (transforms.PadOrTrim(mx)(sig), sr)"
   ]
  },
  {
   "cell_type": "code",
   "execution_count": 8,
   "id": "challenging-nickel",
   "metadata": {
    "execution": {
     "iopub.execute_input": "2021-05-17T17:00:23.510912Z",
     "iopub.status.busy": "2021-05-17T17:00:23.510796Z",
     "iopub.status.idle": "2021-05-17T17:00:23.521823Z",
     "shell.execute_reply": "2021-05-17T17:00:23.521474Z",
     "shell.execute_reply.started": "2021-05-17T17:00:23.510899Z"
    }
   },
   "outputs": [],
   "source": [
    "class SignalShift(Transform):\n",
    "    _order=20\n",
    "    def __init__(self, max_shift_pct=.6): self.max_shift_pct = max_shift_pct\n",
    "    def __call__(self, ad):\n",
    "        sig,sr = ad\n",
    "        roll_by = int(random.random()*self.max_shift_pct*len(sig[0]))\n",
    "        return (sig.roll(roll_by), sr)"
   ]
  },
  {
   "cell_type": "code",
   "execution_count": 9,
   "id": "white-duration",
   "metadata": {
    "execution": {
     "iopub.execute_input": "2021-05-17T17:00:23.522455Z",
     "iopub.status.busy": "2021-05-17T17:00:23.522337Z",
     "iopub.status.idle": "2021-05-17T17:00:23.534694Z",
     "shell.execute_reply": "2021-05-17T17:00:23.534300Z",
     "shell.execute_reply.started": "2021-05-17T17:00:23.522442Z"
    }
   },
   "outputs": [],
   "source": [
    "class Spectrogrammer(Transform):\n",
    "    _order=90\n",
    "    def __init__(self, to_mel=True, to_db=True, n_fft=400, ws=None, hop=None, \n",
    "                 f_min=0.0, f_max=None, pad=0, n_mels=128, top_db=None, normalize=False):\n",
    "        self.to_mel, self.to_db, self.n_fft, self.ws, self.hop, self.f_min, self.f_max, \\\n",
    "        self.pad, self.n_mels, self.top_db, self.normalize = to_mel, to_db, n_fft, \\\n",
    "        ws, hop, f_min, f_max, pad, n_mels, top_db, normalize\n",
    "\n",
    "    def __call__(self, ad):\n",
    "        ad = ad\n",
    "        sig,sr = ad\n",
    "        if self.to_mel:\n",
    "            spec = transforms.MelSpectrogram(sr, self.n_fft, self.ws, self.hop, self.f_min, \n",
    "                                             self.f_max, self.pad, self.n_mels)(sig)\n",
    "        else: \n",
    "            spec = transforms.Spectrogram(self.n_fft, self.ws, self.hop, self.pad, \n",
    "                                          normalize=self.normalize)(sig)\n",
    "        if self.to_db:\n",
    "            spec = transforms.SpectrogramToDB(top_db=self.top_db)(spec)\n",
    "        spec = spec.permute(0,2,1) # reshape so it looks good to humans\n",
    "        return spec"
   ]
  },
  {
   "cell_type": "code",
   "execution_count": 10,
   "id": "multiple-recording",
   "metadata": {
    "execution": {
     "iopub.execute_input": "2021-05-17T17:00:23.535355Z",
     "iopub.status.busy": "2021-05-17T17:00:23.535193Z",
     "iopub.status.idle": "2021-05-17T17:00:23.546752Z",
     "shell.execute_reply": "2021-05-17T17:00:23.546253Z",
     "shell.execute_reply.started": "2021-05-17T17:00:23.535342Z"
    }
   },
   "outputs": [],
   "source": [
    "def show_spectro(img, ax=None, figsize=(6,6), with_shape=True):\n",
    "    if hasattr(img,\"device\") & str(img.device).startswith(\"cuda\"): img = img.cpu()\n",
    "    if ax is None: _,ax = plt.subplots(1, 1, figsize=figsize)\n",
    "    ax.imshow(img if (img.shape[0]==3) else img.squeeze(0))\n",
    "    if with_shape: display(f'Tensor shape={img.shape}')"
   ]
  },
  {
   "cell_type": "code",
   "execution_count": 11,
   "id": "unavailable-vault",
   "metadata": {
    "execution": {
     "iopub.execute_input": "2021-05-17T17:00:23.547676Z",
     "iopub.status.busy": "2021-05-17T17:00:23.547486Z",
     "iopub.status.idle": "2021-05-17T17:00:23.560662Z",
     "shell.execute_reply": "2021-05-17T17:00:23.560233Z",
     "shell.execute_reply.started": "2021-05-17T17:00:23.547661Z"
    }
   },
   "outputs": [],
   "source": [
    "class SpecAugment(Transform):\n",
    "    _order=99\n",
    "    def __init__(self, max_mask_pct=0.2, freq_masks=1, time_masks=1, replace_with_zero=False):\n",
    "        self.max_mask_pct, self.freq_masks, self.time_masks, self.replace_with_zero = \\\n",
    "        max_mask_pct, freq_masks, time_masks, replace_with_zero\n",
    "        if not 0 <= self.max_mask_pct <= 1.0: \n",
    "            raise ValueError( f\"max_mask_pct must be between 0.0 and 1.0, but it's {self.max_mask_pct}\")\n",
    "\n",
    "    def __call__(self, spec):\n",
    "        _, n_mels, n_steps = spec.shape\n",
    "        F = math.ceil(n_mels * self.max_mask_pct) # rounding up in case of small %\n",
    "        T = math.ceil(n_steps * self.max_mask_pct)\n",
    "        fill = 0 if self.replace_with_zero else spec.mean()\n",
    "        for i in range(0, self.freq_masks):\n",
    "            f = random.randint(0, F)\n",
    "            f0 = random.randint(0, n_mels-f)\n",
    "            spec[0][f0:f0+f] = fill\n",
    "        for i in range(0, self.time_masks):\n",
    "            t = random.randint(0, T)\n",
    "            t0 = random.randint(0, n_steps-t)\n",
    "            spec[0][:,t0:t0+t] = fill\n",
    "        return spec"
   ]
  },
  {
   "cell_type": "code",
   "execution_count": 12,
   "id": "demographic-burton",
   "metadata": {
    "execution": {
     "iopub.execute_input": "2021-05-17T17:00:23.561367Z",
     "iopub.status.busy": "2021-05-17T17:00:23.561208Z",
     "iopub.status.idle": "2021-05-17T17:00:23.574382Z",
     "shell.execute_reply": "2021-05-17T17:00:23.573942Z",
     "shell.execute_reply.started": "2021-05-17T17:00:23.561353Z"
    }
   },
   "outputs": [],
   "source": [
    "def show_batch_audio(x, c=4, r=None, figsize=None, shower=show_image):\n",
    "    n = len(x)\n",
    "    if r is None: r = int(math.ceil(n/c))\n",
    "    if figsize is None: figsize=(c*3,r*3)\n",
    "    fig,axes = plt.subplots(r,c, figsize=figsize)\n",
    "    for xi,ax in zip(x,axes.flat): shower(xi, ax)"
   ]
  },
  {
   "cell_type": "markdown",
   "id": "metallic-classroom",
   "metadata": {},
   "source": [
    "# Define required"
   ]
  },
  {
   "cell_type": "code",
   "execution_count": 13,
   "id": "impressive-recommendation",
   "metadata": {
    "execution": {
     "iopub.execute_input": "2021-05-17T17:00:23.575127Z",
     "iopub.status.busy": "2021-05-17T17:00:23.575012Z",
     "iopub.status.idle": "2021-05-17T17:00:23.585642Z",
     "shell.execute_reply": "2021-05-17T17:00:23.585300Z",
     "shell.execute_reply.started": "2021-05-17T17:00:23.575113Z"
    }
   },
   "outputs": [],
   "source": [
    "fpath = Path(\"/media/hdd/Datasets/STAEDS/\")"
   ]
  },
  {
   "cell_type": "code",
   "execution_count": 14,
   "id": "combined-advice",
   "metadata": {
    "execution": {
     "iopub.execute_input": "2021-05-17T17:00:23.586244Z",
     "iopub.status.busy": "2021-05-17T17:00:23.586136Z",
     "iopub.status.idle": "2021-05-17T17:00:23.597049Z",
     "shell.execute_reply": "2021-05-17T17:00:23.596700Z",
     "shell.execute_reply.started": "2021-05-17T17:00:23.586230Z"
    }
   },
   "outputs": [],
   "source": [
    "pad_3sec = PadOrTrim(3000)\n",
    "shifter = SignalShift()\n",
    "speccer = Spectrogrammer(n_fft=1024, n_mels=64, top_db=80)\n",
    "masker = SpecAugment(freq_masks=2, time_masks=2, max_mask_pct=0.1)\n",
    "\n",
    "tfms = [AudioCuda(), shifter, speccer, masker]\n",
    "bs = 256"
   ]
  },
  {
   "cell_type": "code",
   "execution_count": 15,
   "id": "informational-adolescent",
   "metadata": {
    "execution": {
     "iopub.execute_input": "2021-05-17T17:00:23.597684Z",
     "iopub.status.busy": "2021-05-17T17:00:23.597575Z",
     "iopub.status.idle": "2021-05-17T17:00:23.610207Z",
     "shell.execute_reply": "2021-05-17T17:00:23.609850Z",
     "shell.execute_reply.started": "2021-05-17T17:00:23.597671Z"
    }
   },
   "outputs": [],
   "source": [
    "lr = 1e-2\n",
    "pct_start = 0.5\n",
    "phases = create_phases(pct_start)\n",
    "sched_lr  = combine_scheds(phases, cos_1cycle_anneal(lr/10., lr, lr/1e5))\n",
    "sched_mom = combine_scheds(phases, cos_1cycle_anneal(0.95, 0.85, 0.95))\n",
    "\n",
    "cbfs = [\n",
    "    partial(AvgStatsCallback,accuracy),\n",
    "    partial(ParamScheduler, 'lr', sched_lr),\n",
    "    partial(ParamScheduler, 'mom', sched_mom),\n",
    "        partial(BatchTransformXCallback, norm_imagenette),\n",
    "    ProgressCallback,\n",
    "    Recorder,]\n",
    "#        partial(CudaCallback, device)]\n",
    "\n",
    "loss_func=LabelSmoothingCrossEntropy()\n",
    "lr = .001\n",
    "opt_func = adam_opt(mom=0.9, mom_sqr=0.99, eps=1e-6, wd=1e-2)"
   ]
  },
  {
   "cell_type": "code",
   "execution_count": 16,
   "id": "rocky-sight",
   "metadata": {
    "execution": {
     "iopub.execute_input": "2021-05-17T17:00:23.610859Z",
     "iopub.status.busy": "2021-05-17T17:00:23.610747Z",
     "iopub.status.idle": "2021-05-17T17:00:23.644345Z",
     "shell.execute_reply": "2021-05-17T17:00:23.643979Z",
     "shell.execute_reply.started": "2021-05-17T17:00:23.610846Z"
    }
   },
   "outputs": [],
   "source": [
    "al = AudioList.from_files(fpath, tfms=tfms)\n",
    "sd = SplitData.split_by_func(al, partial(random_splitter, p_valid=0.2))\n",
    "label_pat = r'/([mf]\\d+)_'\n",
    "\n",
    "ll = label_by_func(sd, partial(re_labeler, pat=label_pat), proc_y=CategoryProcessor())"
   ]
  },
  {
   "cell_type": "code",
   "execution_count": 17,
   "id": "fewer-belly",
   "metadata": {
    "execution": {
     "iopub.execute_input": "2021-05-17T17:00:23.645012Z",
     "iopub.status.busy": "2021-05-17T17:00:23.644900Z",
     "iopub.status.idle": "2021-05-17T17:00:23.692842Z",
     "shell.execute_reply": "2021-05-17T17:00:23.692465Z",
     "shell.execute_reply.started": "2021-05-17T17:00:23.644998Z"
    }
   },
   "outputs": [],
   "source": [
    "c_in = torchaudio.load('/media/hdd/Datasets/STAEDS/m0005_us_m0005_00418.wav')[0][0].shape[0]"
   ]
  },
  {
   "cell_type": "code",
   "execution_count": 18,
   "id": "heard-isaac",
   "metadata": {
    "execution": {
     "iopub.execute_input": "2021-05-17T17:00:23.693568Z",
     "iopub.status.busy": "2021-05-17T17:00:23.693454Z",
     "iopub.status.idle": "2021-05-17T17:00:23.707327Z",
     "shell.execute_reply": "2021-05-17T17:00:23.706868Z",
     "shell.execute_reply.started": "2021-05-17T17:00:23.693554Z"
    }
   },
   "outputs": [
    {
     "data": {
      "text/plain": [
       "10"
      ]
     },
     "execution_count": 18,
     "metadata": {},
     "output_type": "execute_result"
    }
   ],
   "source": [
    "c_out = len(uniqueify(ll.train.y));c_out"
   ]
  },
  {
   "cell_type": "code",
   "execution_count": 19,
   "id": "increasing-stock",
   "metadata": {
    "execution": {
     "iopub.execute_input": "2021-05-17T17:00:23.707978Z",
     "iopub.status.busy": "2021-05-17T17:00:23.707864Z",
     "iopub.status.idle": "2021-05-17T17:00:23.718937Z",
     "shell.execute_reply": "2021-05-17T17:00:23.718587Z",
     "shell.execute_reply.started": "2021-05-17T17:00:23.707964Z"
    }
   },
   "outputs": [],
   "source": [
    "data = ll.to_databunch(bs, c_in=3, c_out=c_out)"
   ]
  },
  {
   "cell_type": "code",
   "execution_count": 20,
   "id": "disturbed-kentucky",
   "metadata": {
    "execution": {
     "iopub.execute_input": "2021-05-17T17:00:23.719574Z",
     "iopub.status.busy": "2021-05-17T17:00:23.719462Z",
     "iopub.status.idle": "2021-05-17T17:00:23.731359Z",
     "shell.execute_reply": "2021-05-17T17:00:23.730985Z",
     "shell.execute_reply.started": "2021-05-17T17:00:23.719560Z"
    }
   },
   "outputs": [],
   "source": [
    "# show_spec_batch = partial(show_batch_audio, c=4, r=2, figsize=None, \n",
    "#                           shower=partial(show_spectro, with_shape=False))"
   ]
  },
  {
   "cell_type": "code",
   "execution_count": 21,
   "id": "sought-confusion",
   "metadata": {
    "execution": {
     "iopub.execute_input": "2021-05-17T17:00:23.732024Z",
     "iopub.status.busy": "2021-05-17T17:00:23.731911Z",
     "iopub.status.idle": "2021-05-17T17:00:23.743691Z",
     "shell.execute_reply": "2021-05-17T17:00:23.743328Z",
     "shell.execute_reply.started": "2021-05-17T17:00:23.732010Z"
    }
   },
   "outputs": [],
   "source": [
    "# x,y = next(iter(data.train_dl))\n",
    "# show_spec_batch(x)"
   ]
  },
  {
   "cell_type": "code",
   "execution_count": 22,
   "id": "commercial-database",
   "metadata": {
    "execution": {
     "iopub.execute_input": "2021-05-17T17:00:23.744362Z",
     "iopub.status.busy": "2021-05-17T17:00:23.744251Z",
     "iopub.status.idle": "2021-05-17T17:00:24.008053Z",
     "shell.execute_reply": "2021-05-17T17:00:24.007698Z",
     "shell.execute_reply.started": "2021-05-17T17:00:23.744349Z"
    }
   },
   "outputs": [],
   "source": [
    "arch = partial(xresnet34, c_out =5)()"
   ]
  },
  {
   "cell_type": "code",
   "execution_count": 23,
   "id": "painted-moses",
   "metadata": {
    "execution": {
     "iopub.execute_input": "2021-05-17T17:00:24.008745Z",
     "iopub.status.busy": "2021-05-17T17:00:24.008639Z",
     "iopub.status.idle": "2021-05-17T17:00:24.019727Z",
     "shell.execute_reply": "2021-05-17T17:00:24.019401Z",
     "shell.execute_reply.started": "2021-05-17T17:00:24.008732Z"
    }
   },
   "outputs": [],
   "source": [
    "learn = Learner(arch, data, loss_func, lr=lr, cb_funcs=cbfs, opt_func=opt_func)"
   ]
  },
  {
   "cell_type": "code",
   "execution_count": 24,
   "id": "micro-auction",
   "metadata": {
    "execution": {
     "iopub.execute_input": "2021-05-17T17:00:24.020412Z",
     "iopub.status.busy": "2021-05-17T17:00:24.020276Z",
     "iopub.status.idle": "2021-05-17T17:00:24.402307Z",
     "shell.execute_reply": "2021-05-17T17:00:24.401628Z",
     "shell.execute_reply.started": "2021-05-17T17:00:24.020371Z"
    }
   },
   "outputs": [
    {
     "data": {
      "text/html": [
       "\n",
       "    <div>\n",
       "        <style>\n",
       "            /* Turns off some styling */\n",
       "            progress {\n",
       "                /* gets rid of default border in Firefox and Opera. */\n",
       "                border: none;\n",
       "                /* Needs to be in here for Safari polyfill so background images work as expected. */\n",
       "                background-size: auto;\n",
       "            }\n",
       "            .progress-bar-interrupted, .progress-bar-interrupted::-webkit-progress-bar {\n",
       "                background: #F44336;\n",
       "            }\n",
       "        </style>\n",
       "      <progress value='0' class='' max='1' style='width:300px; height:20px; vertical-align: middle;'></progress>\n",
       "      \n",
       "    </div>\n",
       "    \n"
      ],
      "text/plain": [
       "<IPython.core.display.HTML object>"
      ]
     },
     "metadata": {},
     "output_type": "display_data"
    },
    {
     "data": {
      "text/html": [
       "<table border=\"1\" class=\"dataframe\">\n",
       "  <thead>\n",
       "    <tr style=\"text-align: left;\">\n",
       "      <th>epoch</th>\n",
       "      <th>train_loss</th>\n",
       "      <th>train_accuracy</th>\n",
       "      <th>valid_loss</th>\n",
       "      <th>valid_accuracy</th>\n",
       "      <th>time</th>\n",
       "    </tr>\n",
       "  </thead>\n",
       "  <tbody>\n",
       "  </tbody>\n",
       "</table>"
      ],
      "text/plain": [
       "<IPython.core.display.HTML object>"
      ]
     },
     "metadata": {},
     "output_type": "display_data"
    },
    {
     "ename": "RuntimeError",
     "evalue": "Caught RuntimeError in DataLoader worker process 0.\nOriginal Traceback (most recent call last):\n  File \"/home/eragon/.local/lib/python3.9/site-packages/torch/utils/data/_utils/worker.py\", line 198, in _worker_loop\n    data = fetcher.fetch(index)\n  File \"/home/eragon/.local/lib/python3.9/site-packages/torch/utils/data/_utils/fetch.py\", line 44, in fetch\n    data = [self.dataset[idx] for idx in possibly_batched_index]\n  File \"/home/eragon/.local/lib/python3.9/site-packages/torch/utils/data/_utils/fetch.py\", line 44, in <listcomp>\n    data = [self.dataset[idx] for idx in possibly_batched_index]\n  File \"../sprintdl/data.py\", line 393, in __getitem__\n    return self.x[idx], self.y[idx]\n  File \"../sprintdl/data.py\", line 234, in __getitem__\n    return self._get(res)\n  File \"../sprintdl/data.py\", line 228, in _get\n    return compose(self.get(i), self.tfms)\n  File \"../sprintdl/helpers.py\", line 157, in compose\n    x = f(x, **kwargs)\n  File \"<ipython-input-6-c11b48fb1707>\", line 5, in __call__\n    return (sig.cuda(), sr)\n  File \"/home/eragon/.local/lib/python3.9/site-packages/torch/cuda/__init__.py\", line 163, in _lazy_init\n    raise RuntimeError(\nRuntimeError: Cannot re-initialize CUDA in forked subprocess. To use CUDA with multiprocessing, you must use the 'spawn' start method\n",
     "output_type": "error",
     "traceback": [
      "\u001b[0;31m---------------------------------------------------------------------------\u001b[0m",
      "\u001b[0;31mRuntimeError\u001b[0m                              Traceback (most recent call last)",
      "\u001b[0;32m<ipython-input-24-8587f3539821>\u001b[0m in \u001b[0;36m<module>\u001b[0;34m\u001b[0m\n\u001b[0;32m----> 1\u001b[0;31m \u001b[0mlearn\u001b[0m\u001b[0;34m.\u001b[0m\u001b[0mfit\u001b[0m\u001b[0;34m(\u001b[0m\u001b[0;36m1\u001b[0m\u001b[0;34m)\u001b[0m\u001b[0;34m\u001b[0m\u001b[0;34m\u001b[0m\u001b[0m\n\u001b[0m",
      "\u001b[0;32m/media/hdd/github/sprintdl/sprintdl/core.py\u001b[0m in \u001b[0;36mfit\u001b[0;34m(self, epochs, cbs, reset_opt)\u001b[0m\n\u001b[1;32m    161\u001b[0m             \u001b[0;32mfor\u001b[0m \u001b[0mepoch\u001b[0m \u001b[0;32min\u001b[0m \u001b[0mrange\u001b[0m\u001b[0;34m(\u001b[0m\u001b[0mepochs\u001b[0m\u001b[0;34m)\u001b[0m\u001b[0;34m:\u001b[0m\u001b[0;34m\u001b[0m\u001b[0;34m\u001b[0m\u001b[0m\n\u001b[1;32m    162\u001b[0m                 \u001b[0;32mif\u001b[0m \u001b[0;32mnot\u001b[0m \u001b[0mself\u001b[0m\u001b[0;34m.\u001b[0m\u001b[0mdo_begin_epoch\u001b[0m\u001b[0;34m(\u001b[0m\u001b[0mepoch\u001b[0m\u001b[0;34m)\u001b[0m\u001b[0;34m:\u001b[0m\u001b[0;34m\u001b[0m\u001b[0;34m\u001b[0m\u001b[0m\n\u001b[0;32m--> 163\u001b[0;31m                     \u001b[0mself\u001b[0m\u001b[0;34m.\u001b[0m\u001b[0mall_batches\u001b[0m\u001b[0;34m(\u001b[0m\u001b[0;34m)\u001b[0m\u001b[0;34m\u001b[0m\u001b[0;34m\u001b[0m\u001b[0m\n\u001b[0m\u001b[1;32m    164\u001b[0m \u001b[0;34m\u001b[0m\u001b[0m\n\u001b[1;32m    165\u001b[0m                 \u001b[0;32mwith\u001b[0m \u001b[0mtorch\u001b[0m\u001b[0;34m.\u001b[0m\u001b[0mno_grad\u001b[0m\u001b[0;34m(\u001b[0m\u001b[0;34m)\u001b[0m\u001b[0;34m:\u001b[0m\u001b[0;34m\u001b[0m\u001b[0;34m\u001b[0m\u001b[0m\n",
      "\u001b[0;32m/media/hdd/github/sprintdl/sprintdl/core.py\u001b[0m in \u001b[0;36mall_batches\u001b[0;34m(self)\u001b[0m\n\u001b[1;32m    139\u001b[0m         \u001b[0mself\u001b[0m\u001b[0;34m.\u001b[0m\u001b[0miters\u001b[0m \u001b[0;34m=\u001b[0m \u001b[0mlen\u001b[0m\u001b[0;34m(\u001b[0m\u001b[0mself\u001b[0m\u001b[0;34m.\u001b[0m\u001b[0mdl\u001b[0m\u001b[0;34m)\u001b[0m\u001b[0;34m\u001b[0m\u001b[0;34m\u001b[0m\u001b[0m\n\u001b[1;32m    140\u001b[0m         \u001b[0;32mtry\u001b[0m\u001b[0;34m:\u001b[0m\u001b[0;34m\u001b[0m\u001b[0;34m\u001b[0m\u001b[0m\n\u001b[0;32m--> 141\u001b[0;31m             \u001b[0;32mfor\u001b[0m \u001b[0mi\u001b[0m\u001b[0;34m,\u001b[0m \u001b[0;34m(\u001b[0m\u001b[0mxb\u001b[0m\u001b[0;34m,\u001b[0m \u001b[0myb\u001b[0m\u001b[0;34m)\u001b[0m \u001b[0;32min\u001b[0m \u001b[0menumerate\u001b[0m\u001b[0;34m(\u001b[0m\u001b[0mself\u001b[0m\u001b[0;34m.\u001b[0m\u001b[0mdl\u001b[0m\u001b[0;34m)\u001b[0m\u001b[0;34m:\u001b[0m\u001b[0;34m\u001b[0m\u001b[0;34m\u001b[0m\u001b[0m\n\u001b[0m\u001b[1;32m    142\u001b[0m                 \u001b[0mself\u001b[0m\u001b[0;34m.\u001b[0m\u001b[0mone_batch\u001b[0m\u001b[0;34m(\u001b[0m\u001b[0mi\u001b[0m\u001b[0;34m,\u001b[0m \u001b[0mxb\u001b[0m\u001b[0;34m,\u001b[0m \u001b[0myb\u001b[0m\u001b[0;34m)\u001b[0m\u001b[0;34m\u001b[0m\u001b[0;34m\u001b[0m\u001b[0m\n\u001b[1;32m    143\u001b[0m         \u001b[0;32mexcept\u001b[0m \u001b[0mCancelEpochException\u001b[0m\u001b[0;34m:\u001b[0m\u001b[0;34m\u001b[0m\u001b[0;34m\u001b[0m\u001b[0m\n",
      "\u001b[0;32m~/.local/lib/python3.9/site-packages/torch/utils/data/dataloader.py\u001b[0m in \u001b[0;36m__next__\u001b[0;34m(self)\u001b[0m\n\u001b[1;32m    433\u001b[0m         \u001b[0;32mif\u001b[0m \u001b[0mself\u001b[0m\u001b[0;34m.\u001b[0m\u001b[0m_sampler_iter\u001b[0m \u001b[0;32mis\u001b[0m \u001b[0;32mNone\u001b[0m\u001b[0;34m:\u001b[0m\u001b[0;34m\u001b[0m\u001b[0;34m\u001b[0m\u001b[0m\n\u001b[1;32m    434\u001b[0m             \u001b[0mself\u001b[0m\u001b[0;34m.\u001b[0m\u001b[0m_reset\u001b[0m\u001b[0;34m(\u001b[0m\u001b[0;34m)\u001b[0m\u001b[0;34m\u001b[0m\u001b[0;34m\u001b[0m\u001b[0m\n\u001b[0;32m--> 435\u001b[0;31m         \u001b[0mdata\u001b[0m \u001b[0;34m=\u001b[0m \u001b[0mself\u001b[0m\u001b[0;34m.\u001b[0m\u001b[0m_next_data\u001b[0m\u001b[0;34m(\u001b[0m\u001b[0;34m)\u001b[0m\u001b[0;34m\u001b[0m\u001b[0;34m\u001b[0m\u001b[0m\n\u001b[0m\u001b[1;32m    436\u001b[0m         \u001b[0mself\u001b[0m\u001b[0;34m.\u001b[0m\u001b[0m_num_yielded\u001b[0m \u001b[0;34m+=\u001b[0m \u001b[0;36m1\u001b[0m\u001b[0;34m\u001b[0m\u001b[0;34m\u001b[0m\u001b[0m\n\u001b[1;32m    437\u001b[0m         \u001b[0;32mif\u001b[0m \u001b[0mself\u001b[0m\u001b[0;34m.\u001b[0m\u001b[0m_dataset_kind\u001b[0m \u001b[0;34m==\u001b[0m \u001b[0m_DatasetKind\u001b[0m\u001b[0;34m.\u001b[0m\u001b[0mIterable\u001b[0m \u001b[0;32mand\u001b[0m\u001b[0;31m \u001b[0m\u001b[0;31m\\\u001b[0m\u001b[0;34m\u001b[0m\u001b[0;34m\u001b[0m\u001b[0m\n",
      "\u001b[0;32m~/.local/lib/python3.9/site-packages/torch/utils/data/dataloader.py\u001b[0m in \u001b[0;36m_next_data\u001b[0;34m(self)\u001b[0m\n\u001b[1;32m   1083\u001b[0m             \u001b[0;32melse\u001b[0m\u001b[0;34m:\u001b[0m\u001b[0;34m\u001b[0m\u001b[0;34m\u001b[0m\u001b[0m\n\u001b[1;32m   1084\u001b[0m                 \u001b[0;32mdel\u001b[0m \u001b[0mself\u001b[0m\u001b[0;34m.\u001b[0m\u001b[0m_task_info\u001b[0m\u001b[0;34m[\u001b[0m\u001b[0midx\u001b[0m\u001b[0;34m]\u001b[0m\u001b[0;34m\u001b[0m\u001b[0;34m\u001b[0m\u001b[0m\n\u001b[0;32m-> 1085\u001b[0;31m                 \u001b[0;32mreturn\u001b[0m \u001b[0mself\u001b[0m\u001b[0;34m.\u001b[0m\u001b[0m_process_data\u001b[0m\u001b[0;34m(\u001b[0m\u001b[0mdata\u001b[0m\u001b[0;34m)\u001b[0m\u001b[0;34m\u001b[0m\u001b[0;34m\u001b[0m\u001b[0m\n\u001b[0m\u001b[1;32m   1086\u001b[0m \u001b[0;34m\u001b[0m\u001b[0m\n\u001b[1;32m   1087\u001b[0m     \u001b[0;32mdef\u001b[0m \u001b[0m_try_put_index\u001b[0m\u001b[0;34m(\u001b[0m\u001b[0mself\u001b[0m\u001b[0;34m)\u001b[0m\u001b[0;34m:\u001b[0m\u001b[0;34m\u001b[0m\u001b[0;34m\u001b[0m\u001b[0m\n",
      "\u001b[0;32m~/.local/lib/python3.9/site-packages/torch/utils/data/dataloader.py\u001b[0m in \u001b[0;36m_process_data\u001b[0;34m(self, data)\u001b[0m\n\u001b[1;32m   1109\u001b[0m         \u001b[0mself\u001b[0m\u001b[0;34m.\u001b[0m\u001b[0m_try_put_index\u001b[0m\u001b[0;34m(\u001b[0m\u001b[0;34m)\u001b[0m\u001b[0;34m\u001b[0m\u001b[0;34m\u001b[0m\u001b[0m\n\u001b[1;32m   1110\u001b[0m         \u001b[0;32mif\u001b[0m \u001b[0misinstance\u001b[0m\u001b[0;34m(\u001b[0m\u001b[0mdata\u001b[0m\u001b[0;34m,\u001b[0m \u001b[0mExceptionWrapper\u001b[0m\u001b[0;34m)\u001b[0m\u001b[0;34m:\u001b[0m\u001b[0;34m\u001b[0m\u001b[0;34m\u001b[0m\u001b[0m\n\u001b[0;32m-> 1111\u001b[0;31m             \u001b[0mdata\u001b[0m\u001b[0;34m.\u001b[0m\u001b[0mreraise\u001b[0m\u001b[0;34m(\u001b[0m\u001b[0;34m)\u001b[0m\u001b[0;34m\u001b[0m\u001b[0;34m\u001b[0m\u001b[0m\n\u001b[0m\u001b[1;32m   1112\u001b[0m         \u001b[0;32mreturn\u001b[0m \u001b[0mdata\u001b[0m\u001b[0;34m\u001b[0m\u001b[0;34m\u001b[0m\u001b[0m\n\u001b[1;32m   1113\u001b[0m \u001b[0;34m\u001b[0m\u001b[0m\n",
      "\u001b[0;32m~/.local/lib/python3.9/site-packages/torch/_utils.py\u001b[0m in \u001b[0;36mreraise\u001b[0;34m(self)\u001b[0m\n\u001b[1;32m    426\u001b[0m             \u001b[0;31m# have message field\u001b[0m\u001b[0;34m\u001b[0m\u001b[0;34m\u001b[0m\u001b[0;34m\u001b[0m\u001b[0m\n\u001b[1;32m    427\u001b[0m             \u001b[0;32mraise\u001b[0m \u001b[0mself\u001b[0m\u001b[0;34m.\u001b[0m\u001b[0mexc_type\u001b[0m\u001b[0;34m(\u001b[0m\u001b[0mmessage\u001b[0m\u001b[0;34m=\u001b[0m\u001b[0mmsg\u001b[0m\u001b[0;34m)\u001b[0m\u001b[0;34m\u001b[0m\u001b[0;34m\u001b[0m\u001b[0m\n\u001b[0;32m--> 428\u001b[0;31m         \u001b[0;32mraise\u001b[0m \u001b[0mself\u001b[0m\u001b[0;34m.\u001b[0m\u001b[0mexc_type\u001b[0m\u001b[0;34m(\u001b[0m\u001b[0mmsg\u001b[0m\u001b[0;34m)\u001b[0m\u001b[0;34m\u001b[0m\u001b[0;34m\u001b[0m\u001b[0m\n\u001b[0m\u001b[1;32m    429\u001b[0m \u001b[0;34m\u001b[0m\u001b[0m\n\u001b[1;32m    430\u001b[0m \u001b[0;34m\u001b[0m\u001b[0m\n",
      "\u001b[0;31mRuntimeError\u001b[0m: Caught RuntimeError in DataLoader worker process 0.\nOriginal Traceback (most recent call last):\n  File \"/home/eragon/.local/lib/python3.9/site-packages/torch/utils/data/_utils/worker.py\", line 198, in _worker_loop\n    data = fetcher.fetch(index)\n  File \"/home/eragon/.local/lib/python3.9/site-packages/torch/utils/data/_utils/fetch.py\", line 44, in fetch\n    data = [self.dataset[idx] for idx in possibly_batched_index]\n  File \"/home/eragon/.local/lib/python3.9/site-packages/torch/utils/data/_utils/fetch.py\", line 44, in <listcomp>\n    data = [self.dataset[idx] for idx in possibly_batched_index]\n  File \"../sprintdl/data.py\", line 393, in __getitem__\n    return self.x[idx], self.y[idx]\n  File \"../sprintdl/data.py\", line 234, in __getitem__\n    return self._get(res)\n  File \"../sprintdl/data.py\", line 228, in _get\n    return compose(self.get(i), self.tfms)\n  File \"../sprintdl/helpers.py\", line 157, in compose\n    x = f(x, **kwargs)\n  File \"<ipython-input-6-c11b48fb1707>\", line 5, in __call__\n    return (sig.cuda(), sr)\n  File \"/home/eragon/.local/lib/python3.9/site-packages/torch/cuda/__init__.py\", line 163, in _lazy_init\n    raise RuntimeError(\nRuntimeError: Cannot re-initialize CUDA in forked subprocess. To use CUDA with multiprocessing, you must use the 'spawn' start method\n"
     ]
    }
   ],
   "source": [
    "learn.fit(1)"
   ]
  },
  {
   "cell_type": "code",
   "execution_count": null,
   "id": "secure-steal",
   "metadata": {},
   "outputs": [],
   "source": []
  },
  {
   "cell_type": "code",
   "execution_count": null,
   "id": "acoustic-tournament",
   "metadata": {},
   "outputs": [],
   "source": []
  }
 ],
 "metadata": {
  "kernelspec": {
   "display_name": "Python 3",
   "language": "python",
   "name": "python3"
  },
  "language_info": {
   "codemirror_mode": {
    "name": "ipython",
    "version": 3
   },
   "file_extension": ".py",
   "mimetype": "text/x-python",
   "name": "python",
   "nbconvert_exporter": "python",
   "pygments_lexer": "ipython3",
   "version": "3.9.1"
  },
  "toc": {
   "base_numbering": 1,
   "nav_menu": {},
   "number_sections": true,
   "sideBar": true,
   "skip_h1_title": false,
   "title_cell": "Table of Contents",
   "title_sidebar": "Contents",
   "toc_cell": false,
   "toc_position": {},
   "toc_section_display": true,
   "toc_window_display": true
  },
  "varInspector": {
   "cols": {
    "lenName": 16,
    "lenType": 16,
    "lenVar": 40
   },
   "kernels_config": {
    "python": {
     "delete_cmd_postfix": "",
     "delete_cmd_prefix": "del ",
     "library": "var_list.py",
     "varRefreshCmd": "print(var_dic_list())"
    },
    "r": {
     "delete_cmd_postfix": ") ",
     "delete_cmd_prefix": "rm(",
     "library": "var_list.r",
     "varRefreshCmd": "cat(var_dic_list()) "
    }
   },
   "types_to_exclude": [
    "module",
    "function",
    "builtin_function_or_method",
    "instance",
    "_Feature"
   ],
   "window_display": false
  }
 },
 "nbformat": 4,
 "nbformat_minor": 5
}
