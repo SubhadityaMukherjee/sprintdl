{
 "cells": [
  {
   "cell_type": "code",
   "execution_count": 1,
   "id": "relevant-oklahoma",
   "metadata": {
    "execution": {
     "iopub.execute_input": "2021-05-18T15:57:19.711180Z",
     "iopub.status.busy": "2021-05-18T15:57:19.711021Z",
     "iopub.status.idle": "2021-05-18T15:57:23.051542Z",
     "shell.execute_reply": "2021-05-18T15:57:23.051114Z",
     "shell.execute_reply.started": "2021-05-18T15:57:19.711130Z"
    }
   },
   "outputs": [],
   "source": [
    "%load_ext autoreload\n",
    "%autoreload 2\n",
    "\n",
    "%matplotlib inline\n",
    "\n",
    "import sys\n",
    "sys.path.append(\"../\")\n",
    "\n",
    "from sprintdl.main import *\n",
    "from sprintdl.models.efficientnet import *\n",
    "from sprintdl.models.xresnet import *\n",
    "\n",
    "device = torch.device('cuda',0)\n",
    "from torch.nn import init\n",
    "import torch\n",
    "import math"
   ]
  },
  {
   "cell_type": "code",
   "execution_count": 2,
   "id": "visible-reputation",
   "metadata": {
    "execution": {
     "iopub.execute_input": "2021-05-18T15:57:23.357038Z",
     "iopub.status.busy": "2021-05-18T15:57:23.356521Z",
     "iopub.status.idle": "2021-05-18T15:57:23.394929Z",
     "shell.execute_reply": "2021-05-18T15:57:23.394132Z",
     "shell.execute_reply.started": "2021-05-18T15:57:23.356975Z"
    }
   },
   "outputs": [],
   "source": [
    "import torchsnooper as tsp"
   ]
  },
  {
   "cell_type": "code",
   "execution_count": 3,
   "id": "crazy-applicant",
   "metadata": {
    "execution": {
     "iopub.execute_input": "2021-05-18T15:57:23.532317Z",
     "iopub.status.busy": "2021-05-18T15:57:23.531789Z",
     "iopub.status.idle": "2021-05-18T15:57:23.573674Z",
     "shell.execute_reply": "2021-05-18T15:57:23.573096Z",
     "shell.execute_reply.started": "2021-05-18T15:57:23.532261Z"
    }
   },
   "outputs": [],
   "source": [
    "import torchaudio\n",
    "from torchaudio import transforms\n",
    "from IPython.display import Audio\n",
    "AUDIO_EXTS = {str.lower(k) for k,v in mimetypes.types_map.items() if v.startswith('audio/')}"
   ]
  },
  {
   "cell_type": "code",
   "execution_count": 4,
   "id": "vital-final",
   "metadata": {
    "execution": {
     "iopub.execute_input": "2021-05-18T15:57:23.993051Z",
     "iopub.status.busy": "2021-05-18T15:57:23.992508Z",
     "iopub.status.idle": "2021-05-18T15:57:24.010570Z",
     "shell.execute_reply": "2021-05-18T15:57:24.010077Z",
     "shell.execute_reply.started": "2021-05-18T15:57:23.992988Z"
    }
   },
   "outputs": [],
   "source": [
    "class AudioList(ItemList):\n",
    "    @classmethod\n",
    "    def from_files(cls, path, extensions=None, recurse=True, include=None, **kwargs):\n",
    "        if extensions is None: extensions = AUDIO_EXTS\n",
    "        return cls(get_files(path, extensions, recurse=recurse, include=include), path, **kwargs)\n",
    "    \n",
    "    def get(self, fn): \n",
    "        sig, sr = torchaudio.load(fn)\n",
    "        assert sig.size(0) == 1, \"Non-mono audio detected, mono only supported for now.\"\n",
    "        return (sig, sr)"
   ]
  },
  {
   "cell_type": "code",
   "execution_count": 5,
   "id": "documentary-stroke",
   "metadata": {
    "execution": {
     "iopub.execute_input": "2021-05-18T15:57:24.163248Z",
     "iopub.status.busy": "2021-05-18T15:57:24.162713Z",
     "iopub.status.idle": "2021-05-18T15:57:24.180684Z",
     "shell.execute_reply": "2021-05-18T15:57:24.180232Z",
     "shell.execute_reply.started": "2021-05-18T15:57:24.163187Z"
    }
   },
   "outputs": [],
   "source": [
    "def show_audio(ad):\n",
    "    sig,sr=ad\n",
    "    display(Audio(data=sig, rate=sr))"
   ]
  },
  {
   "cell_type": "code",
   "execution_count": 6,
   "id": "elect-contribution",
   "metadata": {
    "execution": {
     "iopub.execute_input": "2021-05-18T15:57:24.295672Z",
     "iopub.status.busy": "2021-05-18T15:57:24.295133Z",
     "iopub.status.idle": "2021-05-18T15:57:24.328942Z",
     "shell.execute_reply": "2021-05-18T15:57:24.328116Z",
     "shell.execute_reply.started": "2021-05-18T15:57:24.295608Z"
    }
   },
   "outputs": [],
   "source": [
    "def show_audio_in_out(orig, trans):\n",
    "    ossig, osr = orig\n",
    "    tsig, tsr = trans\n",
    "    print(\"↓ Original ↓\")\n",
    "    show_audio(orig)\n",
    "    print(\"↓ Transformed ↓\")\n",
    "    show_audio(trans)\n",
    "    if orig is not None: plt.plot(osig[0], 'm', label=\"Orig.\")\n",
    "    if trans is not None: plt.plot(tsig[0], 'c', alpha=0.5, label=\"Transf.\")\n",
    "    plt.legend()\n",
    "    plt.show()"
   ]
  },
  {
   "cell_type": "code",
   "execution_count": 7,
   "id": "german-needle",
   "metadata": {
    "execution": {
     "iopub.execute_input": "2021-05-18T15:57:24.494119Z",
     "iopub.status.busy": "2021-05-18T15:57:24.493583Z",
     "iopub.status.idle": "2021-05-18T15:57:24.527833Z",
     "shell.execute_reply": "2021-05-18T15:57:24.527192Z",
     "shell.execute_reply.started": "2021-05-18T15:57:24.494056Z"
    }
   },
   "outputs": [],
   "source": [
    "class AudioCuda(Transform):\n",
    "    _order=10\n",
    "    def __call__(self, ad):\n",
    "        sig,sr = ad\n",
    "        return (sig.cuda(), sr)"
   ]
  },
  {
   "cell_type": "code",
   "execution_count": 8,
   "id": "static-sunglasses",
   "metadata": {
    "execution": {
     "iopub.execute_input": "2021-05-18T15:57:24.679675Z",
     "iopub.status.busy": "2021-05-18T15:57:24.679139Z",
     "iopub.status.idle": "2021-05-18T15:57:24.710233Z",
     "shell.execute_reply": "2021-05-18T15:57:24.709544Z",
     "shell.execute_reply.started": "2021-05-18T15:57:24.679613Z"
    }
   },
   "outputs": [],
   "source": [
    "class PadOrTrim(Transform):\n",
    "    _order = 11\n",
    "    def __init__(self, msecs): self.msecs = msecs\n",
    "    def __call__(self, ad):\n",
    "        sig,sr = ad\n",
    "        mx = sr//1000 * self.msecs\n",
    "        return (transforms.PadOrTrim(mx)(sig), sr)"
   ]
  },
  {
   "cell_type": "code",
   "execution_count": 9,
   "id": "convertible-florence",
   "metadata": {
    "execution": {
     "iopub.execute_input": "2021-05-18T15:57:24.844108Z",
     "iopub.status.busy": "2021-05-18T15:57:24.843730Z",
     "iopub.status.idle": "2021-05-18T15:57:24.865368Z",
     "shell.execute_reply": "2021-05-18T15:57:24.864732Z",
     "shell.execute_reply.started": "2021-05-18T15:57:24.844068Z"
    }
   },
   "outputs": [],
   "source": [
    "class SignalShift(Transform):\n",
    "    _order=20\n",
    "    def __init__(self, max_shift_pct=.6): self.max_shift_pct = max_shift_pct\n",
    "    def __call__(self, ad):\n",
    "        sig,sr = ad\n",
    "        roll_by = int(random.random()*self.max_shift_pct*len(sig[0]))\n",
    "        return (sig.roll(roll_by), sr)"
   ]
  },
  {
   "cell_type": "code",
   "execution_count": 33,
   "id": "overhead-lemon",
   "metadata": {
    "execution": {
     "iopub.execute_input": "2021-05-18T16:00:16.061828Z",
     "iopub.status.busy": "2021-05-18T16:00:16.061672Z",
     "iopub.status.idle": "2021-05-18T16:00:16.075973Z",
     "shell.execute_reply": "2021-05-18T16:00:16.075475Z",
     "shell.execute_reply.started": "2021-05-18T16:00:16.061810Z"
    }
   },
   "outputs": [],
   "source": [
    "class Spectrogrammer(Transform):\n",
    "    _order=90\n",
    "    def __init__(self, to_mel=True, to_db=True, n_fft=400, ws=None, hop=None, \n",
    "                 f_min=0.0, f_max=None, pad=0, n_mels=128, top_db=None, normalize=False):\n",
    "        self.to_mel, self.to_db, self.n_fft, self.ws, self.hop, self.f_min, self.f_max, \\\n",
    "        self.pad, self.n_mels, self.top_db, self.normalize = to_mel, to_db, n_fft, \\\n",
    "        ws, hop, f_min, f_max, pad, n_mels, top_db, normalize\n",
    "\n",
    "    def __call__(self, ad):\n",
    "        ad = ad\n",
    "        sig,sr = ad\n",
    "        if self.to_mel:\n",
    "            spec = transforms.MelSpectrogram(sr, self.n_fft, self.ws, self.hop, self.f_min, \n",
    "                                             self.f_max, self.pad, self.n_mels)(sig)\n",
    "        else: \n",
    "            spec = transforms.Spectrogram(self.n_fft, self.ws, self.hop, self.pad, \n",
    "                                          normalize=self.normalize)(sig)\n",
    "#         if self.to_db:\n",
    "#             spec = transforms.SpectrogramToDB(top_db=self.top_db)(spec)\n",
    "        spec = spec.permute(0,2,1) # reshape so it looks good to humans\n",
    "        return spec"
   ]
  },
  {
   "cell_type": "code",
   "execution_count": 34,
   "id": "ruled-airport",
   "metadata": {
    "execution": {
     "iopub.execute_input": "2021-05-18T16:00:16.645721Z",
     "iopub.status.busy": "2021-05-18T16:00:16.645583Z",
     "iopub.status.idle": "2021-05-18T16:00:16.661307Z",
     "shell.execute_reply": "2021-05-18T16:00:16.660761Z",
     "shell.execute_reply.started": "2021-05-18T16:00:16.645707Z"
    }
   },
   "outputs": [],
   "source": [
    "def show_spectro(img, ax=None, figsize=(6,6), with_shape=True):\n",
    "    if hasattr(img,\"device\") & str(img.device).startswith(\"cuda\"): img = img.cpu()\n",
    "    if ax is None: _,ax = plt.subplots(1, 1, figsize=figsize)\n",
    "    ax.imshow(img if (img.shape[0]==3) else img.squeeze(0))\n",
    "    if with_shape: display(f'Tensor shape={img.shape}')"
   ]
  },
  {
   "cell_type": "code",
   "execution_count": 35,
   "id": "nonprofit-brand",
   "metadata": {
    "execution": {
     "iopub.execute_input": "2021-05-18T16:00:16.814368Z",
     "iopub.status.busy": "2021-05-18T16:00:16.813835Z",
     "iopub.status.idle": "2021-05-18T16:00:16.849838Z",
     "shell.execute_reply": "2021-05-18T16:00:16.849178Z",
     "shell.execute_reply.started": "2021-05-18T16:00:16.814306Z"
    }
   },
   "outputs": [],
   "source": [
    "class SpecAugment(Transform):\n",
    "    _order=99\n",
    "    def __init__(self, max_mask_pct=0.2, freq_masks=1, time_masks=1, replace_with_zero=False):\n",
    "        self.max_mask_pct, self.freq_masks, self.time_masks, self.replace_with_zero = \\\n",
    "        max_mask_pct, freq_masks, time_masks, replace_with_zero\n",
    "        if not 0 <= self.max_mask_pct <= 1.0: \n",
    "            raise ValueError( f\"max_mask_pct must be between 0.0 and 1.0, but it's {self.max_mask_pct}\")\n",
    "\n",
    "    def __call__(self, spec):\n",
    "        _, n_mels, n_steps = spec.shape\n",
    "        F = math.ceil(n_mels * self.max_mask_pct) # rounding up in case of small %\n",
    "        T = math.ceil(n_steps * self.max_mask_pct)\n",
    "        fill = 0 if self.replace_with_zero else spec.mean()\n",
    "        for i in range(0, self.freq_masks):\n",
    "            f = random.randint(0, F)\n",
    "            f0 = random.randint(0, n_mels-f)\n",
    "            spec[0][f0:f0+f] = fill\n",
    "        for i in range(0, self.time_masks):\n",
    "            t = random.randint(0, T)\n",
    "            t0 = random.randint(0, n_steps-t)\n",
    "            spec[0][:,t0:t0+t] = fill\n",
    "        return spec"
   ]
  },
  {
   "cell_type": "code",
   "execution_count": 36,
   "id": "dependent-decision",
   "metadata": {
    "execution": {
     "iopub.execute_input": "2021-05-18T16:00:16.976122Z",
     "iopub.status.busy": "2021-05-18T16:00:16.975589Z",
     "iopub.status.idle": "2021-05-18T16:00:17.005878Z",
     "shell.execute_reply": "2021-05-18T16:00:17.005369Z",
     "shell.execute_reply.started": "2021-05-18T16:00:16.976060Z"
    }
   },
   "outputs": [],
   "source": [
    "def show_batch_audio(x, c=4, r=None, figsize=None, shower=show_image):\n",
    "    n = len(x)\n",
    "    if r is None: r = int(math.ceil(n/c))\n",
    "    if figsize is None: figsize=(c*3,r*3)\n",
    "    fig,axes = plt.subplots(r,c, figsize=figsize)\n",
    "    for xi,ax in zip(x,axes.flat): shower(xi, ax)"
   ]
  },
  {
   "cell_type": "markdown",
   "id": "paperback-clarity",
   "metadata": {},
   "source": [
    "# Define required"
   ]
  },
  {
   "cell_type": "code",
   "execution_count": 37,
   "id": "integral-nothing",
   "metadata": {
    "execution": {
     "iopub.execute_input": "2021-05-18T16:00:17.505100Z",
     "iopub.status.busy": "2021-05-18T16:00:17.504845Z",
     "iopub.status.idle": "2021-05-18T16:00:17.518528Z",
     "shell.execute_reply": "2021-05-18T16:00:17.518000Z",
     "shell.execute_reply.started": "2021-05-18T16:00:17.505044Z"
    }
   },
   "outputs": [],
   "source": [
    "fpath = Path(\"/media/hdd/Datasets/STAEDS/\")"
   ]
  },
  {
   "cell_type": "code",
   "execution_count": 38,
   "id": "manufactured-culture",
   "metadata": {
    "execution": {
     "iopub.execute_input": "2021-05-18T16:00:17.671094Z",
     "iopub.status.busy": "2021-05-18T16:00:17.670289Z",
     "iopub.status.idle": "2021-05-18T16:00:17.708032Z",
     "shell.execute_reply": "2021-05-18T16:00:17.707495Z",
     "shell.execute_reply.started": "2021-05-18T16:00:17.670994Z"
    }
   },
   "outputs": [],
   "source": [
    "pad_3sec = PadOrTrim(3000)\n",
    "shifter = SignalShift()\n",
    "speccer = Spectrogrammer(n_fft=1024, n_mels=64, top_db=80)\n",
    "masker = SpecAugment(freq_masks=2, time_masks=2, max_mask_pct=0.1)\n",
    "\n",
    "# tfms = [AudioCuda(), shifter, speccer, masker]\n",
    "tfms = [ shifter, speccer, masker]\n",
    "bs = 256"
   ]
  },
  {
   "cell_type": "code",
   "execution_count": 39,
   "id": "wanted-things",
   "metadata": {
    "execution": {
     "iopub.execute_input": "2021-05-18T16:00:17.821985Z",
     "iopub.status.busy": "2021-05-18T16:00:17.821151Z",
     "iopub.status.idle": "2021-05-18T16:00:17.863885Z",
     "shell.execute_reply": "2021-05-18T16:00:17.863490Z",
     "shell.execute_reply.started": "2021-05-18T16:00:17.821883Z"
    }
   },
   "outputs": [],
   "source": [
    "lr = 1e-2\n",
    "pct_start = 0.5\n",
    "phases = create_phases(pct_start)\n",
    "sched_lr  = combine_scheds(phases, cos_1cycle_anneal(lr/10., lr, lr/1e5))\n",
    "sched_mom = combine_scheds(phases, cos_1cycle_anneal(0.95, 0.85, 0.95))\n",
    "\n",
    "cbfs = [\n",
    "    partial(AvgStatsCallback,accuracy),\n",
    "    partial(ParamScheduler, 'lr', sched_lr),\n",
    "    partial(ParamScheduler, 'mom', sched_mom),\n",
    "        partial(BatchTransformXCallback, norm_imagenette),\n",
    "    ProgressCallback,\n",
    "    Recorder,]\n",
    "#        partial(CudaCallback, device)]\n",
    "\n",
    "loss_func=LabelSmoothingCrossEntropy()\n",
    "lr = .001\n",
    "opt_func = adam_opt(mom=0.9, mom_sqr=0.99, eps=1e-6, wd=1e-2)"
   ]
  },
  {
   "cell_type": "code",
   "execution_count": 40,
   "id": "finite-security",
   "metadata": {
    "execution": {
     "iopub.execute_input": "2021-05-18T16:00:18.171567Z",
     "iopub.status.busy": "2021-05-18T16:00:18.171347Z",
     "iopub.status.idle": "2021-05-18T16:00:18.219242Z",
     "shell.execute_reply": "2021-05-18T16:00:18.218783Z",
     "shell.execute_reply.started": "2021-05-18T16:00:18.171546Z"
    }
   },
   "outputs": [],
   "source": [
    "al = AudioList.from_files(fpath, tfms=tfms)\n",
    "sd = SplitData.split_by_func(al, partial(random_splitter, p_valid=0.2))\n",
    "label_pat = r'/([mf]\\d+)_'\n",
    "\n",
    "ll = label_by_func(sd, partial(re_labeler, pat=label_pat), proc_y=CategoryProcessor())"
   ]
  },
  {
   "cell_type": "code",
   "execution_count": 41,
   "id": "prescription-directory",
   "metadata": {
    "execution": {
     "iopub.execute_input": "2021-05-18T16:00:18.345061Z",
     "iopub.status.busy": "2021-05-18T16:00:18.344522Z",
     "iopub.status.idle": "2021-05-18T16:00:18.377037Z",
     "shell.execute_reply": "2021-05-18T16:00:18.376460Z",
     "shell.execute_reply.started": "2021-05-18T16:00:18.344996Z"
    }
   },
   "outputs": [],
   "source": [
    "c_in = torchaudio.load('/media/hdd/Datasets/STAEDS/m0005_us_m0005_00418.wav')[0][0].shape[0]"
   ]
  },
  {
   "cell_type": "code",
   "execution_count": 42,
   "id": "federal-research",
   "metadata": {
    "execution": {
     "iopub.execute_input": "2021-05-18T16:00:18.752391Z",
     "iopub.status.busy": "2021-05-18T16:00:18.752252Z",
     "iopub.status.idle": "2021-05-18T16:00:18.765510Z",
     "shell.execute_reply": "2021-05-18T16:00:18.764990Z",
     "shell.execute_reply.started": "2021-05-18T16:00:18.752377Z"
    }
   },
   "outputs": [
    {
     "data": {
      "text/plain": [
       "10"
      ]
     },
     "execution_count": 42,
     "metadata": {},
     "output_type": "execute_result"
    }
   ],
   "source": [
    "c_out = len(uniqueify(ll.train.y));c_out"
   ]
  },
  {
   "cell_type": "code",
   "execution_count": 43,
   "id": "funny-fighter",
   "metadata": {
    "execution": {
     "iopub.execute_input": "2021-05-18T16:00:19.082414Z",
     "iopub.status.busy": "2021-05-18T16:00:19.081863Z",
     "iopub.status.idle": "2021-05-18T16:00:19.101945Z",
     "shell.execute_reply": "2021-05-18T16:00:19.101444Z",
     "shell.execute_reply.started": "2021-05-18T16:00:19.082350Z"
    }
   },
   "outputs": [],
   "source": [
    "data = ll.to_databunch(bs, c_in=3, c_out=c_out)"
   ]
  },
  {
   "cell_type": "code",
   "execution_count": 44,
   "id": "enclosed-royalty",
   "metadata": {
    "execution": {
     "iopub.execute_input": "2021-05-18T16:00:19.558848Z",
     "iopub.status.busy": "2021-05-18T16:00:19.558027Z",
     "iopub.status.idle": "2021-05-18T16:00:19.604174Z",
     "shell.execute_reply": "2021-05-18T16:00:19.603738Z",
     "shell.execute_reply.started": "2021-05-18T16:00:19.558747Z"
    }
   },
   "outputs": [],
   "source": [
    "show_spec_batch = partial(show_batch_audio, c=4, r=2, figsize=None, \n",
    "                          shower=partial(show_spectro, with_shape=False))"
   ]
  },
  {
   "cell_type": "code",
   "execution_count": 50,
   "id": "boring-daniel",
   "metadata": {
    "execution": {
     "iopub.execute_input": "2021-05-18T16:02:06.065398Z",
     "iopub.status.busy": "2021-05-18T16:02:06.064838Z",
     "iopub.status.idle": "2021-05-18T16:02:06.083861Z",
     "shell.execute_reply": "2021-05-18T16:02:06.083421Z",
     "shell.execute_reply.started": "2021-05-18T16:02:06.065332Z"
    }
   },
   "outputs": [],
   "source": [
    "assert len(data.train_ds.x.items) == len(data.train_ds.y.items)"
   ]
  },
  {
   "cell_type": "code",
   "execution_count": 65,
   "id": "northern-bumper",
   "metadata": {
    "execution": {
     "iopub.execute_input": "2021-05-18T16:15:30.934926Z",
     "iopub.status.busy": "2021-05-18T16:15:30.934729Z",
     "iopub.status.idle": "2021-05-18T16:15:32.885917Z",
     "shell.execute_reply": "2021-05-18T16:15:32.885126Z",
     "shell.execute_reply.started": "2021-05-18T16:15:30.934890Z"
    }
   },
   "outputs": [
    {
     "name": "stderr",
     "output_type": "stream",
     "text": [
      "Exception ignored in: <function _MultiProcessingDataLoaderIter.__del__ at 0x7ff51a6a4940>\n",
      "Traceback (most recent call last):\n",
      "  File \"/home/eragon/.local/lib/python3.9/site-packages/torch/utils/data/dataloader.py\", line 1203, in __del__\n",
      "    self._shutdown_workers()\n",
      "  File \"/home/eragon/.local/lib/python3.9/site-packages/torch/utils/data/dataloader.py\", line 1177, in _shutdown_workers\n",
      "    w.join(timeout=_utils.MP_STATUS_CHECK_INTERVAL)\n",
      "  File \"/usr/lib/python3.9/multiprocessing/process.py\", line 147, in join\n",
      "    assert self._parent_pid == os.getpid(), 'can only join a child process'\n",
      "AssertionError: can only join a child process\n",
      "Exception ignored in: <function _MultiProcessingDataLoaderIter.__del__ at 0x7ff51a6a4940>\n",
      "Traceback (most recent call last):\n",
      "  File \"/home/eragon/.local/lib/python3.9/site-packages/torch/utils/data/dataloader.py\", line 1203, in __del__\n",
      "    self._shutdown_workers()\n",
      "  File \"/home/eragon/.local/lib/python3.9/site-packages/torch/utils/data/dataloader.py\", line 1177, in _shutdown_workers\n",
      "    w.join(timeout=_utils.MP_STATUS_CHECK_INTERVAL)\n",
      "  File \"/usr/lib/python3.9/multiprocessing/process.py\", line 147, in join\n",
      "    assert self._parent_pid == os.getpid(), 'can only join a child process'\n",
      "AssertionError: can only join a child process\n",
      "Exception ignored in: <function _MultiProcessingDataLoaderIter.__del__ at 0x7ff51a6a4940>\n",
      "Traceback (most recent call last):\n",
      "  File \"/home/eragon/.local/lib/python3.9/site-packages/torch/utils/data/dataloader.py\", line 1203, in __del__\n",
      "    self._shutdown_workers()\n",
      "  File \"/home/eragon/.local/lib/python3.9/site-packages/torch/utils/data/dataloader.py\", line 1177, in _shutdown_workers\n",
      "    w.join(timeout=_utils.MP_STATUS_CHECK_INTERVAL)\n",
      "  File \"/usr/lib/python3.9/multiprocessing/process.py\", line 147, in join\n",
      "    assert self._parent_pid == os.getpid(), 'can only join a child process'\n",
      "AssertionError: can only join a child process\n",
      "Exception ignored in: <function _MultiProcessingDataLoaderIter.__del__ at 0x7ff51a6a4940>\n",
      "Traceback (most recent call last):\n",
      "  File \"/home/eragon/.local/lib/python3.9/site-packages/torch/utils/data/dataloader.py\", line 1203, in __del__\n",
      "    self._shutdown_workers()\n",
      "  File \"/home/eragon/.local/lib/python3.9/site-packages/torch/utils/data/dataloader.py\", line 1177, in _shutdown_workers\n",
      "    w.join(timeout=_utils.MP_STATUS_CHECK_INTERVAL)\n",
      "  File \"/usr/lib/python3.9/multiprocessing/process.py\", line 147, in join\n",
      "    assert self._parent_pid == os.getpid(), 'can only join a child process'\n",
      "AssertionError: can only join a child process\n",
      "Exception ignored in: <function _MultiProcessingDataLoaderIter.__del__ at 0x7ff51a6a4940>\n",
      "Traceback (most recent call last):\n",
      "  File \"/home/eragon/.local/lib/python3.9/site-packages/torch/utils/data/dataloader.py\", line 1203, in __del__\n",
      "    self._shutdown_workers()\n",
      "  File \"/home/eragon/.local/lib/python3.9/site-packages/torch/utils/data/dataloader.py\", line 1177, in _shutdown_workers\n",
      "    w.join(timeout=_utils.MP_STATUS_CHECK_INTERVAL)\n",
      "  File \"/usr/lib/python3.9/multiprocessing/process.py\", line 147, in join\n",
      "    assert self._parent_pid == os.getpid(), 'can only join a child process'\n",
      "AssertionError: can only join a child process\n",
      "Exception ignored in: <function _MultiProcessingDataLoaderIter.__del__ at 0x7ff51a6a4940>\n",
      "Traceback (most recent call last):\n",
      "  File \"/home/eragon/.local/lib/python3.9/site-packages/torch/utils/data/dataloader.py\", line 1203, in __del__\n",
      "    Exception ignored in: <function _MultiProcessingDataLoaderIter.__del__ at 0x7ff51a6a4940>self._shutdown_workers()\n",
      "\n",
      "Traceback (most recent call last):\n",
      "  File \"/home/eragon/.local/lib/python3.9/site-packages/torch/utils/data/dataloader.py\", line 1177, in _shutdown_workers\n",
      "  File \"/home/eragon/.local/lib/python3.9/site-packages/torch/utils/data/dataloader.py\", line 1203, in __del__\n",
      "        self._shutdown_workers()w.join(timeout=_utils.MP_STATUS_CHECK_INTERVAL)\n",
      "  File \"/home/eragon/.local/lib/python3.9/site-packages/torch/utils/data/dataloader.py\", line 1177, in _shutdown_workers\n",
      "\n",
      "  File \"/usr/lib/python3.9/multiprocessing/process.py\", line 147, in join\n",
      "    w.join(timeout=_utils.MP_STATUS_CHECK_INTERVAL)    assert self._parent_pid == os.getpid(), 'can only join a child process'\n",
      "\n",
      "  File \"/usr/lib/python3.9/multiprocessing/process.py\", line 147, in join\n",
      "    assert self._parent_pid == os.getpid(), 'can only join a child process'AssertionError: \n",
      "can only join a child processAssertionError: \n",
      "can only join a child process\n",
      "Exception ignored in: <function _MultiProcessingDataLoaderIter.__del__ at 0x7ff51a6a4940>Exception ignored in: \n",
      "<function _MultiProcessingDataLoaderIter.__del__ at 0x7ff51a6a4940>Traceback (most recent call last):\n",
      "  File \"/home/eragon/.local/lib/python3.9/site-packages/torch/utils/data/dataloader.py\", line 1203, in __del__\n",
      "\n",
      "Traceback (most recent call last):\n",
      "      File \"/home/eragon/.local/lib/python3.9/site-packages/torch/utils/data/dataloader.py\", line 1203, in __del__\n",
      "    self._shutdown_workers()self._shutdown_workers()\n",
      "  File \"/home/eragon/.local/lib/python3.9/site-packages/torch/utils/data/dataloader.py\", line 1177, in _shutdown_workers\n",
      "\n",
      "      File \"/home/eragon/.local/lib/python3.9/site-packages/torch/utils/data/dataloader.py\", line 1177, in _shutdown_workers\n",
      "w.join(timeout=_utils.MP_STATUS_CHECK_INTERVAL)    \n",
      "  File \"/usr/lib/python3.9/multiprocessing/process.py\", line 147, in join\n",
      "w.join(timeout=_utils.MP_STATUS_CHECK_INTERVAL)\n",
      "      File \"/usr/lib/python3.9/multiprocessing/process.py\", line 147, in join\n",
      "assert self._parent_pid == os.getpid(), 'can only join a child process'    \n",
      "AssertionError: assert self._parent_pid == os.getpid(), 'can only join a child process'can only join a child process\n",
      "AssertionError\n",
      ": can only join a child process\n",
      "Exception ignored in: Exception ignored in: <function _MultiProcessingDataLoaderIter.__del__ at 0x7ff51a6a4940><function _MultiProcessingDataLoaderIter.__del__ at 0x7ff51a6a4940>\n",
      "\n",
      "Traceback (most recent call last):\n",
      "Traceback (most recent call last):\n",
      "  File \"/home/eragon/.local/lib/python3.9/site-packages/torch/utils/data/dataloader.py\", line 1203, in __del__\n",
      "  File \"/home/eragon/.local/lib/python3.9/site-packages/torch/utils/data/dataloader.py\", line 1203, in __del__\n",
      "    self._shutdown_workers()\n",
      "    self._shutdown_workers()\n",
      "  File \"/home/eragon/.local/lib/python3.9/site-packages/torch/utils/data/dataloader.py\", line 1177, in _shutdown_workers\n",
      "  File \"/home/eragon/.local/lib/python3.9/site-packages/torch/utils/data/dataloader.py\", line 1177, in _shutdown_workers\n",
      "        w.join(timeout=_utils.MP_STATUS_CHECK_INTERVAL)w.join(timeout=_utils.MP_STATUS_CHECK_INTERVAL)\n",
      "  File \"/usr/lib/python3.9/multiprocessing/process.py\", line 147, in join\n",
      "\n",
      "  File \"/usr/lib/python3.9/multiprocessing/process.py\", line 147, in join\n",
      "        assert self._parent_pid == os.getpid(), 'can only join a child process'assert self._parent_pid == os.getpid(), 'can only join a child process'\n",
      "\n",
      "AssertionErrorAssertionError: : can only join a child process\n",
      "can only join a child process\n",
      "Exception ignored in: <function _MultiProcessingDataLoaderIter.__del__ at 0x7ff51a6a4940>\n",
      "Traceback (most recent call last):\n",
      "  File \"/home/eragon/.local/lib/python3.9/site-packages/torch/utils/data/dataloader.py\", line 1203, in __del__\n",
      "    self._shutdown_workers()\n",
      "  File \"/home/eragon/.local/lib/python3.9/site-packages/torch/utils/data/dataloader.py\", line 1177, in _shutdown_workers\n",
      "    w.join(timeout=_utils.MP_STATUS_CHECK_INTERVAL)\n",
      "  File \"/usr/lib/python3.9/multiprocessing/process.py\", line 147, in join\n",
      "    assert self._parent_pid == os.getpid(), 'can only join a child process'\n",
      "AssertionError: can only join a child process\n"
     ]
    },
    {
     "ename": "RuntimeError",
     "evalue": "Caught RuntimeError in DataLoader worker process 0.\nOriginal Traceback (most recent call last):\n  File \"/home/eragon/.local/lib/python3.9/site-packages/torch/utils/data/_utils/worker.py\", line 198, in _worker_loop\n    data = fetcher.fetch(index)\n  File \"/home/eragon/.local/lib/python3.9/site-packages/torch/utils/data/_utils/fetch.py\", line 47, in fetch\n    return self.collate_fn(data)\n  File \"/home/eragon/.local/lib/python3.9/site-packages/torch/utils/data/_utils/collate.py\", line 83, in default_collate\n    return [default_collate(samples) for samples in transposed]\n  File \"/home/eragon/.local/lib/python3.9/site-packages/torch/utils/data/_utils/collate.py\", line 83, in <listcomp>\n    return [default_collate(samples) for samples in transposed]\n  File \"/home/eragon/.local/lib/python3.9/site-packages/torch/utils/data/_utils/collate.py\", line 55, in default_collate\n    return torch.stack(batch, 0, out=out)\nRuntimeError: stack expects each tensor to be equal size, but got [1, 177, 64] at entry 0 and [1, 137, 64] at entry 1\n",
     "output_type": "error",
     "traceback": [
      "\u001b[0;31m---------------------------------------------------------------------------\u001b[0m",
      "\u001b[0;31mRuntimeError\u001b[0m                              Traceback (most recent call last)",
      "\u001b[0;32m<ipython-input-65-a75f98c52297>\u001b[0m in \u001b[0;36m<module>\u001b[0;34m\u001b[0m\n\u001b[0;32m----> 1\u001b[0;31m \u001b[0mx\u001b[0m\u001b[0;34m,\u001b[0m\u001b[0my\u001b[0m \u001b[0;34m=\u001b[0m \u001b[0mnext\u001b[0m\u001b[0;34m(\u001b[0m\u001b[0miter\u001b[0m\u001b[0;34m(\u001b[0m\u001b[0mdata\u001b[0m\u001b[0;34m.\u001b[0m\u001b[0mtrain_dl\u001b[0m\u001b[0;34m)\u001b[0m\u001b[0;34m)\u001b[0m\u001b[0;34m\u001b[0m\u001b[0;34m\u001b[0m\u001b[0m\n\u001b[0m",
      "\u001b[0;32m~/.local/lib/python3.9/site-packages/torch/utils/data/dataloader.py\u001b[0m in \u001b[0;36m__next__\u001b[0;34m(self)\u001b[0m\n\u001b[1;32m    433\u001b[0m         \u001b[0;32mif\u001b[0m \u001b[0mself\u001b[0m\u001b[0;34m.\u001b[0m\u001b[0m_sampler_iter\u001b[0m \u001b[0;32mis\u001b[0m \u001b[0;32mNone\u001b[0m\u001b[0;34m:\u001b[0m\u001b[0;34m\u001b[0m\u001b[0;34m\u001b[0m\u001b[0m\n\u001b[1;32m    434\u001b[0m             \u001b[0mself\u001b[0m\u001b[0;34m.\u001b[0m\u001b[0m_reset\u001b[0m\u001b[0;34m(\u001b[0m\u001b[0;34m)\u001b[0m\u001b[0;34m\u001b[0m\u001b[0;34m\u001b[0m\u001b[0m\n\u001b[0;32m--> 435\u001b[0;31m         \u001b[0mdata\u001b[0m \u001b[0;34m=\u001b[0m \u001b[0mself\u001b[0m\u001b[0;34m.\u001b[0m\u001b[0m_next_data\u001b[0m\u001b[0;34m(\u001b[0m\u001b[0;34m)\u001b[0m\u001b[0;34m\u001b[0m\u001b[0;34m\u001b[0m\u001b[0m\n\u001b[0m\u001b[1;32m    436\u001b[0m         \u001b[0mself\u001b[0m\u001b[0;34m.\u001b[0m\u001b[0m_num_yielded\u001b[0m \u001b[0;34m+=\u001b[0m \u001b[0;36m1\u001b[0m\u001b[0;34m\u001b[0m\u001b[0;34m\u001b[0m\u001b[0m\n\u001b[1;32m    437\u001b[0m         \u001b[0;32mif\u001b[0m \u001b[0mself\u001b[0m\u001b[0;34m.\u001b[0m\u001b[0m_dataset_kind\u001b[0m \u001b[0;34m==\u001b[0m \u001b[0m_DatasetKind\u001b[0m\u001b[0;34m.\u001b[0m\u001b[0mIterable\u001b[0m \u001b[0;32mand\u001b[0m\u001b[0;31m \u001b[0m\u001b[0;31m\\\u001b[0m\u001b[0;34m\u001b[0m\u001b[0;34m\u001b[0m\u001b[0m\n",
      "\u001b[0;32m~/.local/lib/python3.9/site-packages/torch/utils/data/dataloader.py\u001b[0m in \u001b[0;36m_next_data\u001b[0;34m(self)\u001b[0m\n\u001b[1;32m   1083\u001b[0m             \u001b[0;32melse\u001b[0m\u001b[0;34m:\u001b[0m\u001b[0;34m\u001b[0m\u001b[0;34m\u001b[0m\u001b[0m\n\u001b[1;32m   1084\u001b[0m                 \u001b[0;32mdel\u001b[0m \u001b[0mself\u001b[0m\u001b[0;34m.\u001b[0m\u001b[0m_task_info\u001b[0m\u001b[0;34m[\u001b[0m\u001b[0midx\u001b[0m\u001b[0;34m]\u001b[0m\u001b[0;34m\u001b[0m\u001b[0;34m\u001b[0m\u001b[0m\n\u001b[0;32m-> 1085\u001b[0;31m                 \u001b[0;32mreturn\u001b[0m \u001b[0mself\u001b[0m\u001b[0;34m.\u001b[0m\u001b[0m_process_data\u001b[0m\u001b[0;34m(\u001b[0m\u001b[0mdata\u001b[0m\u001b[0;34m)\u001b[0m\u001b[0;34m\u001b[0m\u001b[0;34m\u001b[0m\u001b[0m\n\u001b[0m\u001b[1;32m   1086\u001b[0m \u001b[0;34m\u001b[0m\u001b[0m\n\u001b[1;32m   1087\u001b[0m     \u001b[0;32mdef\u001b[0m \u001b[0m_try_put_index\u001b[0m\u001b[0;34m(\u001b[0m\u001b[0mself\u001b[0m\u001b[0;34m)\u001b[0m\u001b[0;34m:\u001b[0m\u001b[0;34m\u001b[0m\u001b[0;34m\u001b[0m\u001b[0m\n",
      "\u001b[0;32m~/.local/lib/python3.9/site-packages/torch/utils/data/dataloader.py\u001b[0m in \u001b[0;36m_process_data\u001b[0;34m(self, data)\u001b[0m\n\u001b[1;32m   1109\u001b[0m         \u001b[0mself\u001b[0m\u001b[0;34m.\u001b[0m\u001b[0m_try_put_index\u001b[0m\u001b[0;34m(\u001b[0m\u001b[0;34m)\u001b[0m\u001b[0;34m\u001b[0m\u001b[0;34m\u001b[0m\u001b[0m\n\u001b[1;32m   1110\u001b[0m         \u001b[0;32mif\u001b[0m \u001b[0misinstance\u001b[0m\u001b[0;34m(\u001b[0m\u001b[0mdata\u001b[0m\u001b[0;34m,\u001b[0m \u001b[0mExceptionWrapper\u001b[0m\u001b[0;34m)\u001b[0m\u001b[0;34m:\u001b[0m\u001b[0;34m\u001b[0m\u001b[0;34m\u001b[0m\u001b[0m\n\u001b[0;32m-> 1111\u001b[0;31m             \u001b[0mdata\u001b[0m\u001b[0;34m.\u001b[0m\u001b[0mreraise\u001b[0m\u001b[0;34m(\u001b[0m\u001b[0;34m)\u001b[0m\u001b[0;34m\u001b[0m\u001b[0;34m\u001b[0m\u001b[0m\n\u001b[0m\u001b[1;32m   1112\u001b[0m         \u001b[0;32mreturn\u001b[0m \u001b[0mdata\u001b[0m\u001b[0;34m\u001b[0m\u001b[0;34m\u001b[0m\u001b[0m\n\u001b[1;32m   1113\u001b[0m \u001b[0;34m\u001b[0m\u001b[0m\n",
      "\u001b[0;32m~/.local/lib/python3.9/site-packages/torch/_utils.py\u001b[0m in \u001b[0;36mreraise\u001b[0;34m(self)\u001b[0m\n\u001b[1;32m    426\u001b[0m             \u001b[0;31m# have message field\u001b[0m\u001b[0;34m\u001b[0m\u001b[0;34m\u001b[0m\u001b[0;34m\u001b[0m\u001b[0m\n\u001b[1;32m    427\u001b[0m             \u001b[0;32mraise\u001b[0m \u001b[0mself\u001b[0m\u001b[0;34m.\u001b[0m\u001b[0mexc_type\u001b[0m\u001b[0;34m(\u001b[0m\u001b[0mmessage\u001b[0m\u001b[0;34m=\u001b[0m\u001b[0mmsg\u001b[0m\u001b[0;34m)\u001b[0m\u001b[0;34m\u001b[0m\u001b[0;34m\u001b[0m\u001b[0m\n\u001b[0;32m--> 428\u001b[0;31m         \u001b[0;32mraise\u001b[0m \u001b[0mself\u001b[0m\u001b[0;34m.\u001b[0m\u001b[0mexc_type\u001b[0m\u001b[0;34m(\u001b[0m\u001b[0mmsg\u001b[0m\u001b[0;34m)\u001b[0m\u001b[0;34m\u001b[0m\u001b[0;34m\u001b[0m\u001b[0m\n\u001b[0m\u001b[1;32m    429\u001b[0m \u001b[0;34m\u001b[0m\u001b[0m\n\u001b[1;32m    430\u001b[0m \u001b[0;34m\u001b[0m\u001b[0m\n",
      "\u001b[0;31mRuntimeError\u001b[0m: Caught RuntimeError in DataLoader worker process 0.\nOriginal Traceback (most recent call last):\n  File \"/home/eragon/.local/lib/python3.9/site-packages/torch/utils/data/_utils/worker.py\", line 198, in _worker_loop\n    data = fetcher.fetch(index)\n  File \"/home/eragon/.local/lib/python3.9/site-packages/torch/utils/data/_utils/fetch.py\", line 47, in fetch\n    return self.collate_fn(data)\n  File \"/home/eragon/.local/lib/python3.9/site-packages/torch/utils/data/_utils/collate.py\", line 83, in default_collate\n    return [default_collate(samples) for samples in transposed]\n  File \"/home/eragon/.local/lib/python3.9/site-packages/torch/utils/data/_utils/collate.py\", line 83, in <listcomp>\n    return [default_collate(samples) for samples in transposed]\n  File \"/home/eragon/.local/lib/python3.9/site-packages/torch/utils/data/_utils/collate.py\", line 55, in default_collate\n    return torch.stack(batch, 0, out=out)\nRuntimeError: stack expects each tensor to be equal size, but got [1, 177, 64] at entry 0 and [1, 137, 64] at entry 1\n"
     ]
    }
   ],
   "source": [
    "x,y = next(iter(data.train_dl))"
   ]
  },
  {
   "cell_type": "code",
   "execution_count": null,
   "id": "subsequent-keeping",
   "metadata": {
    "execution": {
     "iopub.status.busy": "2021-05-18T16:15:18.975909Z",
     "iopub.status.idle": "2021-05-18T16:15:18.976398Z",
     "shell.execute_reply": "2021-05-18T16:15:18.976247Z"
    }
   },
   "outputs": [],
   "source": [
    "show_spec_batch(x)"
   ]
  },
  {
   "cell_type": "code",
   "execution_count": 60,
   "id": "continuing-commons",
   "metadata": {
    "execution": {
     "iopub.execute_input": "2021-05-18T16:14:44.447224Z",
     "iopub.status.busy": "2021-05-18T16:14:44.447085Z",
     "iopub.status.idle": "2021-05-18T16:14:44.736955Z",
     "shell.execute_reply": "2021-05-18T16:14:44.736521Z",
     "shell.execute_reply.started": "2021-05-18T16:14:44.447209Z"
    }
   },
   "outputs": [],
   "source": [
    "arch = partial(xresnet34, c_out =5)()"
   ]
  },
  {
   "cell_type": "code",
   "execution_count": 61,
   "id": "acute-moment",
   "metadata": {
    "execution": {
     "iopub.execute_input": "2021-05-18T16:14:45.799046Z",
     "iopub.status.busy": "2021-05-18T16:14:45.798503Z",
     "iopub.status.idle": "2021-05-18T16:14:45.820782Z",
     "shell.execute_reply": "2021-05-18T16:14:45.820409Z",
     "shell.execute_reply.started": "2021-05-18T16:14:45.798980Z"
    }
   },
   "outputs": [],
   "source": [
    "\n",
    "learn = Learner(arch, data, loss_func, lr=lr, cb_funcs=cbfs, opt_func=opt_func)"
   ]
  },
  {
   "cell_type": "code",
   "execution_count": 62,
   "id": "mineral-triple",
   "metadata": {
    "execution": {
     "iopub.execute_input": "2021-05-18T16:14:46.371563Z",
     "iopub.status.busy": "2021-05-18T16:14:46.371300Z",
     "iopub.status.idle": "2021-05-18T16:14:47.379109Z",
     "shell.execute_reply": "2021-05-18T16:14:47.377655Z",
     "shell.execute_reply.started": "2021-05-18T16:14:46.371534Z"
    }
   },
   "outputs": [
    {
     "data": {
      "text/html": [
       "\n",
       "    <div>\n",
       "        <style>\n",
       "            /* Turns off some styling */\n",
       "            progress {\n",
       "                /* gets rid of default border in Firefox and Opera. */\n",
       "                border: none;\n",
       "                /* Needs to be in here for Safari polyfill so background images work as expected. */\n",
       "                background-size: auto;\n",
       "            }\n",
       "            .progress-bar-interrupted, .progress-bar-interrupted::-webkit-progress-bar {\n",
       "                background: #F44336;\n",
       "            }\n",
       "        </style>\n",
       "      <progress value='0' class='' max='1' style='width:300px; height:20px; vertical-align: middle;'></progress>\n",
       "      \n",
       "    </div>\n",
       "    \n"
      ],
      "text/plain": [
       "<IPython.core.display.HTML object>"
      ]
     },
     "metadata": {},
     "output_type": "display_data"
    },
    {
     "data": {
      "text/html": [
       "<table border=\"1\" class=\"dataframe\">\n",
       "  <thead>\n",
       "    <tr style=\"text-align: left;\">\n",
       "      <th>epoch</th>\n",
       "      <th>train_loss</th>\n",
       "      <th>train_accuracy</th>\n",
       "      <th>valid_loss</th>\n",
       "      <th>valid_accuracy</th>\n",
       "      <th>time</th>\n",
       "    </tr>\n",
       "  </thead>\n",
       "  <tbody>\n",
       "  </tbody>\n",
       "</table>"
      ],
      "text/plain": [
       "<IPython.core.display.HTML object>"
      ]
     },
     "metadata": {},
     "output_type": "display_data"
    },
    {
     "ename": "RuntimeError",
     "evalue": "Caught RuntimeError in DataLoader worker process 0.\nOriginal Traceback (most recent call last):\n  File \"/home/eragon/.local/lib/python3.9/site-packages/torch/utils/data/_utils/worker.py\", line 198, in _worker_loop\n    data = fetcher.fetch(index)\n  File \"/home/eragon/.local/lib/python3.9/site-packages/torch/utils/data/_utils/fetch.py\", line 47, in fetch\n    return self.collate_fn(data)\n  File \"/home/eragon/.local/lib/python3.9/site-packages/torch/utils/data/_utils/collate.py\", line 83, in default_collate\n    return [default_collate(samples) for samples in transposed]\n  File \"/home/eragon/.local/lib/python3.9/site-packages/torch/utils/data/_utils/collate.py\", line 83, in <listcomp>\n    return [default_collate(samples) for samples in transposed]\n  File \"/home/eragon/.local/lib/python3.9/site-packages/torch/utils/data/_utils/collate.py\", line 55, in default_collate\n    return torch.stack(batch, 0, out=out)\nRuntimeError: stack expects each tensor to be equal size, but got [1, 298, 64] at entry 0 and [1, 133, 64] at entry 1\n",
     "output_type": "error",
     "traceback": [
      "\u001b[0;31m---------------------------------------------------------------------------\u001b[0m",
      "\u001b[0;31mRuntimeError\u001b[0m                              Traceback (most recent call last)",
      "\u001b[0;32m<ipython-input-62-c3c54d32f0a0>\u001b[0m in \u001b[0;36m<module>\u001b[0;34m\u001b[0m\n\u001b[1;32m      1\u001b[0m \u001b[0;31m# with tsp.snoop():\u001b[0m\u001b[0;34m\u001b[0m\u001b[0;34m\u001b[0m\u001b[0;34m\u001b[0m\u001b[0m\n\u001b[0;32m----> 2\u001b[0;31m \u001b[0mlearn\u001b[0m\u001b[0;34m.\u001b[0m\u001b[0mfit\u001b[0m\u001b[0;34m(\u001b[0m\u001b[0;36m1\u001b[0m\u001b[0;34m)\u001b[0m\u001b[0;34m\u001b[0m\u001b[0;34m\u001b[0m\u001b[0m\n\u001b[0m",
      "\u001b[0;32m/media/hdd/github/sprintdl/sprintdl/core.py\u001b[0m in \u001b[0;36mfit\u001b[0;34m(self, epochs, cbs, reset_opt)\u001b[0m\n\u001b[1;32m    161\u001b[0m             \u001b[0;32mfor\u001b[0m \u001b[0mepoch\u001b[0m \u001b[0;32min\u001b[0m \u001b[0mrange\u001b[0m\u001b[0;34m(\u001b[0m\u001b[0mepochs\u001b[0m\u001b[0;34m)\u001b[0m\u001b[0;34m:\u001b[0m\u001b[0;34m\u001b[0m\u001b[0;34m\u001b[0m\u001b[0m\n\u001b[1;32m    162\u001b[0m                 \u001b[0;32mif\u001b[0m \u001b[0;32mnot\u001b[0m \u001b[0mself\u001b[0m\u001b[0;34m.\u001b[0m\u001b[0mdo_begin_epoch\u001b[0m\u001b[0;34m(\u001b[0m\u001b[0mepoch\u001b[0m\u001b[0;34m)\u001b[0m\u001b[0;34m:\u001b[0m\u001b[0;34m\u001b[0m\u001b[0;34m\u001b[0m\u001b[0m\n\u001b[0;32m--> 163\u001b[0;31m                     \u001b[0mself\u001b[0m\u001b[0;34m.\u001b[0m\u001b[0mall_batches\u001b[0m\u001b[0;34m(\u001b[0m\u001b[0;34m)\u001b[0m\u001b[0;34m\u001b[0m\u001b[0;34m\u001b[0m\u001b[0m\n\u001b[0m\u001b[1;32m    164\u001b[0m \u001b[0;34m\u001b[0m\u001b[0m\n\u001b[1;32m    165\u001b[0m                 \u001b[0;32mwith\u001b[0m \u001b[0mtorch\u001b[0m\u001b[0;34m.\u001b[0m\u001b[0mno_grad\u001b[0m\u001b[0;34m(\u001b[0m\u001b[0;34m)\u001b[0m\u001b[0;34m:\u001b[0m\u001b[0;34m\u001b[0m\u001b[0;34m\u001b[0m\u001b[0m\n",
      "\u001b[0;32m/media/hdd/github/sprintdl/sprintdl/core.py\u001b[0m in \u001b[0;36mall_batches\u001b[0;34m(self)\u001b[0m\n\u001b[1;32m    139\u001b[0m         \u001b[0mself\u001b[0m\u001b[0;34m.\u001b[0m\u001b[0miters\u001b[0m \u001b[0;34m=\u001b[0m \u001b[0mlen\u001b[0m\u001b[0;34m(\u001b[0m\u001b[0mself\u001b[0m\u001b[0;34m.\u001b[0m\u001b[0mdl\u001b[0m\u001b[0;34m)\u001b[0m\u001b[0;34m\u001b[0m\u001b[0;34m\u001b[0m\u001b[0m\n\u001b[1;32m    140\u001b[0m         \u001b[0;32mtry\u001b[0m\u001b[0;34m:\u001b[0m\u001b[0;34m\u001b[0m\u001b[0;34m\u001b[0m\u001b[0m\n\u001b[0;32m--> 141\u001b[0;31m             \u001b[0;32mfor\u001b[0m \u001b[0mi\u001b[0m\u001b[0;34m,\u001b[0m \u001b[0;34m(\u001b[0m\u001b[0mxb\u001b[0m\u001b[0;34m,\u001b[0m \u001b[0myb\u001b[0m\u001b[0;34m)\u001b[0m \u001b[0;32min\u001b[0m \u001b[0menumerate\u001b[0m\u001b[0;34m(\u001b[0m\u001b[0mself\u001b[0m\u001b[0;34m.\u001b[0m\u001b[0mdl\u001b[0m\u001b[0;34m)\u001b[0m\u001b[0;34m:\u001b[0m\u001b[0;34m\u001b[0m\u001b[0;34m\u001b[0m\u001b[0m\n\u001b[0m\u001b[1;32m    142\u001b[0m                 \u001b[0mself\u001b[0m\u001b[0;34m.\u001b[0m\u001b[0mone_batch\u001b[0m\u001b[0;34m(\u001b[0m\u001b[0mi\u001b[0m\u001b[0;34m,\u001b[0m \u001b[0mxb\u001b[0m\u001b[0;34m,\u001b[0m \u001b[0myb\u001b[0m\u001b[0;34m)\u001b[0m\u001b[0;34m\u001b[0m\u001b[0;34m\u001b[0m\u001b[0m\n\u001b[1;32m    143\u001b[0m         \u001b[0;32mexcept\u001b[0m \u001b[0mCancelEpochException\u001b[0m\u001b[0;34m:\u001b[0m\u001b[0;34m\u001b[0m\u001b[0;34m\u001b[0m\u001b[0m\n",
      "\u001b[0;32m~/.local/lib/python3.9/site-packages/torch/utils/data/dataloader.py\u001b[0m in \u001b[0;36m__next__\u001b[0;34m(self)\u001b[0m\n\u001b[1;32m    433\u001b[0m         \u001b[0;32mif\u001b[0m \u001b[0mself\u001b[0m\u001b[0;34m.\u001b[0m\u001b[0m_sampler_iter\u001b[0m \u001b[0;32mis\u001b[0m \u001b[0;32mNone\u001b[0m\u001b[0;34m:\u001b[0m\u001b[0;34m\u001b[0m\u001b[0;34m\u001b[0m\u001b[0m\n\u001b[1;32m    434\u001b[0m             \u001b[0mself\u001b[0m\u001b[0;34m.\u001b[0m\u001b[0m_reset\u001b[0m\u001b[0;34m(\u001b[0m\u001b[0;34m)\u001b[0m\u001b[0;34m\u001b[0m\u001b[0;34m\u001b[0m\u001b[0m\n\u001b[0;32m--> 435\u001b[0;31m         \u001b[0mdata\u001b[0m \u001b[0;34m=\u001b[0m \u001b[0mself\u001b[0m\u001b[0;34m.\u001b[0m\u001b[0m_next_data\u001b[0m\u001b[0;34m(\u001b[0m\u001b[0;34m)\u001b[0m\u001b[0;34m\u001b[0m\u001b[0;34m\u001b[0m\u001b[0m\n\u001b[0m\u001b[1;32m    436\u001b[0m         \u001b[0mself\u001b[0m\u001b[0;34m.\u001b[0m\u001b[0m_num_yielded\u001b[0m \u001b[0;34m+=\u001b[0m \u001b[0;36m1\u001b[0m\u001b[0;34m\u001b[0m\u001b[0;34m\u001b[0m\u001b[0m\n\u001b[1;32m    437\u001b[0m         \u001b[0;32mif\u001b[0m \u001b[0mself\u001b[0m\u001b[0;34m.\u001b[0m\u001b[0m_dataset_kind\u001b[0m \u001b[0;34m==\u001b[0m \u001b[0m_DatasetKind\u001b[0m\u001b[0;34m.\u001b[0m\u001b[0mIterable\u001b[0m \u001b[0;32mand\u001b[0m\u001b[0;31m \u001b[0m\u001b[0;31m\\\u001b[0m\u001b[0;34m\u001b[0m\u001b[0;34m\u001b[0m\u001b[0m\n",
      "\u001b[0;32m~/.local/lib/python3.9/site-packages/torch/utils/data/dataloader.py\u001b[0m in \u001b[0;36m_next_data\u001b[0;34m(self)\u001b[0m\n\u001b[1;32m   1083\u001b[0m             \u001b[0;32melse\u001b[0m\u001b[0;34m:\u001b[0m\u001b[0;34m\u001b[0m\u001b[0;34m\u001b[0m\u001b[0m\n\u001b[1;32m   1084\u001b[0m                 \u001b[0;32mdel\u001b[0m \u001b[0mself\u001b[0m\u001b[0;34m.\u001b[0m\u001b[0m_task_info\u001b[0m\u001b[0;34m[\u001b[0m\u001b[0midx\u001b[0m\u001b[0;34m]\u001b[0m\u001b[0;34m\u001b[0m\u001b[0;34m\u001b[0m\u001b[0m\n\u001b[0;32m-> 1085\u001b[0;31m                 \u001b[0;32mreturn\u001b[0m \u001b[0mself\u001b[0m\u001b[0;34m.\u001b[0m\u001b[0m_process_data\u001b[0m\u001b[0;34m(\u001b[0m\u001b[0mdata\u001b[0m\u001b[0;34m)\u001b[0m\u001b[0;34m\u001b[0m\u001b[0;34m\u001b[0m\u001b[0m\n\u001b[0m\u001b[1;32m   1086\u001b[0m \u001b[0;34m\u001b[0m\u001b[0m\n\u001b[1;32m   1087\u001b[0m     \u001b[0;32mdef\u001b[0m \u001b[0m_try_put_index\u001b[0m\u001b[0;34m(\u001b[0m\u001b[0mself\u001b[0m\u001b[0;34m)\u001b[0m\u001b[0;34m:\u001b[0m\u001b[0;34m\u001b[0m\u001b[0;34m\u001b[0m\u001b[0m\n",
      "\u001b[0;32m~/.local/lib/python3.9/site-packages/torch/utils/data/dataloader.py\u001b[0m in \u001b[0;36m_process_data\u001b[0;34m(self, data)\u001b[0m\n\u001b[1;32m   1109\u001b[0m         \u001b[0mself\u001b[0m\u001b[0;34m.\u001b[0m\u001b[0m_try_put_index\u001b[0m\u001b[0;34m(\u001b[0m\u001b[0;34m)\u001b[0m\u001b[0;34m\u001b[0m\u001b[0;34m\u001b[0m\u001b[0m\n\u001b[1;32m   1110\u001b[0m         \u001b[0;32mif\u001b[0m \u001b[0misinstance\u001b[0m\u001b[0;34m(\u001b[0m\u001b[0mdata\u001b[0m\u001b[0;34m,\u001b[0m \u001b[0mExceptionWrapper\u001b[0m\u001b[0;34m)\u001b[0m\u001b[0;34m:\u001b[0m\u001b[0;34m\u001b[0m\u001b[0;34m\u001b[0m\u001b[0m\n\u001b[0;32m-> 1111\u001b[0;31m             \u001b[0mdata\u001b[0m\u001b[0;34m.\u001b[0m\u001b[0mreraise\u001b[0m\u001b[0;34m(\u001b[0m\u001b[0;34m)\u001b[0m\u001b[0;34m\u001b[0m\u001b[0;34m\u001b[0m\u001b[0m\n\u001b[0m\u001b[1;32m   1112\u001b[0m         \u001b[0;32mreturn\u001b[0m \u001b[0mdata\u001b[0m\u001b[0;34m\u001b[0m\u001b[0;34m\u001b[0m\u001b[0m\n\u001b[1;32m   1113\u001b[0m \u001b[0;34m\u001b[0m\u001b[0m\n",
      "\u001b[0;32m~/.local/lib/python3.9/site-packages/torch/_utils.py\u001b[0m in \u001b[0;36mreraise\u001b[0;34m(self)\u001b[0m\n\u001b[1;32m    426\u001b[0m             \u001b[0;31m# have message field\u001b[0m\u001b[0;34m\u001b[0m\u001b[0;34m\u001b[0m\u001b[0;34m\u001b[0m\u001b[0m\n\u001b[1;32m    427\u001b[0m             \u001b[0;32mraise\u001b[0m \u001b[0mself\u001b[0m\u001b[0;34m.\u001b[0m\u001b[0mexc_type\u001b[0m\u001b[0;34m(\u001b[0m\u001b[0mmessage\u001b[0m\u001b[0;34m=\u001b[0m\u001b[0mmsg\u001b[0m\u001b[0;34m)\u001b[0m\u001b[0;34m\u001b[0m\u001b[0;34m\u001b[0m\u001b[0m\n\u001b[0;32m--> 428\u001b[0;31m         \u001b[0;32mraise\u001b[0m \u001b[0mself\u001b[0m\u001b[0;34m.\u001b[0m\u001b[0mexc_type\u001b[0m\u001b[0;34m(\u001b[0m\u001b[0mmsg\u001b[0m\u001b[0;34m)\u001b[0m\u001b[0;34m\u001b[0m\u001b[0;34m\u001b[0m\u001b[0m\n\u001b[0m\u001b[1;32m    429\u001b[0m \u001b[0;34m\u001b[0m\u001b[0m\n\u001b[1;32m    430\u001b[0m \u001b[0;34m\u001b[0m\u001b[0m\n",
      "\u001b[0;31mRuntimeError\u001b[0m: Caught RuntimeError in DataLoader worker process 0.\nOriginal Traceback (most recent call last):\n  File \"/home/eragon/.local/lib/python3.9/site-packages/torch/utils/data/_utils/worker.py\", line 198, in _worker_loop\n    data = fetcher.fetch(index)\n  File \"/home/eragon/.local/lib/python3.9/site-packages/torch/utils/data/_utils/fetch.py\", line 47, in fetch\n    return self.collate_fn(data)\n  File \"/home/eragon/.local/lib/python3.9/site-packages/torch/utils/data/_utils/collate.py\", line 83, in default_collate\n    return [default_collate(samples) for samples in transposed]\n  File \"/home/eragon/.local/lib/python3.9/site-packages/torch/utils/data/_utils/collate.py\", line 83, in <listcomp>\n    return [default_collate(samples) for samples in transposed]\n  File \"/home/eragon/.local/lib/python3.9/site-packages/torch/utils/data/_utils/collate.py\", line 55, in default_collate\n    return torch.stack(batch, 0, out=out)\nRuntimeError: stack expects each tensor to be equal size, but got [1, 298, 64] at entry 0 and [1, 133, 64] at entry 1\n"
     ]
    }
   ],
   "source": [
    "# with tsp.snoop():\n",
    "learn.fit(1)"
   ]
  },
  {
   "cell_type": "code",
   "execution_count": null,
   "id": "italian-hungarian",
   "metadata": {},
   "outputs": [],
   "source": []
  },
  {
   "cell_type": "code",
   "execution_count": null,
   "id": "muslim-durham",
   "metadata": {},
   "outputs": [],
   "source": []
  }
 ],
 "metadata": {
  "kernelspec": {
   "display_name": "Python 3",
   "language": "python",
   "name": "python3"
  },
  "language_info": {
   "codemirror_mode": {
    "name": "ipython",
    "version": 3
   },
   "file_extension": ".py",
   "mimetype": "text/x-python",
   "name": "python",
   "nbconvert_exporter": "python",
   "pygments_lexer": "ipython3",
   "version": "3.9.1"
  },
  "toc": {
   "base_numbering": 1,
   "nav_menu": {},
   "number_sections": true,
   "sideBar": true,
   "skip_h1_title": false,
   "title_cell": "Table of Contents",
   "title_sidebar": "Contents",
   "toc_cell": false,
   "toc_position": {},
   "toc_section_display": true,
   "toc_window_display": true
  },
  "varInspector": {
   "cols": {
    "lenName": 16,
    "lenType": 16,
    "lenVar": 40
   },
   "kernels_config": {
    "python": {
     "delete_cmd_postfix": "",
     "delete_cmd_prefix": "del ",
     "library": "var_list.py",
     "varRefreshCmd": "print(var_dic_list())"
    },
    "r": {
     "delete_cmd_postfix": ") ",
     "delete_cmd_prefix": "rm(",
     "library": "var_list.r",
     "varRefreshCmd": "cat(var_dic_list()) "
    }
   },
   "types_to_exclude": [
    "module",
    "function",
    "builtin_function_or_method",
    "instance",
    "_Feature"
   ],
   "window_display": false
  }
 },
 "nbformat": 4,
 "nbformat_minor": 5
}
